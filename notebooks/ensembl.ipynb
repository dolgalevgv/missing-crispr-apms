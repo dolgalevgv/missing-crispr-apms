{
 "cells": [
  {
   "cell_type": "code",
   "execution_count": 5,
   "id": "bced57ab-4b8b-4479-a8e4-881b3b40848b",
   "metadata": {},
   "outputs": [],
   "source": [
    "import ensembl_rest"
   ]
  },
  {
   "cell_type": "code",
   "execution_count": 4,
   "id": "6b76e5b5-da99-405b-991c-c31dcc4ebe13",
   "metadata": {},
   "outputs": [],
   "source": [
    "x = ensembl_rest.sequence_region(species='human', region='19:7924986..7926086:-1')['seq']"
   ]
  },
  {
   "cell_type": "code",
   "execution_count": 5,
   "id": "dfd4bfe2-f137-42df-824d-00bf41b90546",
   "metadata": {},
   "outputs": [
    {
     "data": {
      "text/plain": [
       "True"
      ]
     },
     "execution_count": 5,
     "metadata": {},
     "output_type": "execute_result"
    }
   ],
   "source": [
    "'AGCGCGACGTGGACG' in x"
   ]
  },
  {
   "cell_type": "code",
   "execution_count": 9,
   "id": "ca67a904-e36a-42f8-b412-e4647d617696",
   "metadata": {},
   "outputs": [],
   "source": [
    "#ensembl_rest.lookup('ENSG00000178531', params={'expand': True})"
   ]
  },
  {
   "cell_type": "code",
   "execution_count": 12,
   "id": "b57154d2-3374-4b76-a403-32fc19541214",
   "metadata": {},
   "outputs": [],
   "source": [
    "#ensembl_rest.xref_id('ENSG00000127922')"
   ]
  },
  {
   "cell_type": "code",
   "execution_count": 15,
   "id": "0ae68431-ba79-4a69-9444-2767c7025fca",
   "metadata": {},
   "outputs": [],
   "source": [
    "x = ensembl_rest.lookup('ENSG00000127922', params={'expand': True})"
   ]
  },
  {
   "cell_type": "code",
   "execution_count": 4,
   "id": "2ab44190-3bc3-41c7-a660-45a581d70c7b",
   "metadata": {},
   "outputs": [],
   "source": [
    "import pandas\n",
    "import numpy"
   ]
  },
  {
   "cell_type": "code",
   "execution_count": 64,
   "id": "a5bd16ed-fe5b-474d-8c19-081ac5ef19f0",
   "metadata": {},
   "outputs": [],
   "source": [
    "missings = pandas.read_excel('missing_nextprot_to_ensembl.xlsx')"
   ]
  },
  {
   "cell_type": "code",
   "execution_count": 65,
   "id": "97440b6f-2872-4af7-aa84-ee2b3bf553cc",
   "metadata": {},
   "outputs": [
    {
     "data": {
      "text/html": [
       "<div>\n",
       "<style scoped>\n",
       "    .dataframe tbody tr th:only-of-type {\n",
       "        vertical-align: middle;\n",
       "    }\n",
       "\n",
       "    .dataframe tbody tr th {\n",
       "        vertical-align: top;\n",
       "    }\n",
       "\n",
       "    .dataframe thead th {\n",
       "        text-align: right;\n",
       "    }\n",
       "</style>\n",
       "<table border=\"1\" class=\"dataframe\">\n",
       "  <thead>\n",
       "    <tr style=\"text-align: right;\">\n",
       "      <th></th>\n",
       "      <th>From</th>\n",
       "      <th>To</th>\n",
       "    </tr>\n",
       "  </thead>\n",
       "  <tbody>\n",
       "    <tr>\n",
       "      <th>859</th>\n",
       "      <td>Q6ZVN7</td>\n",
       "      <td>ENST00000356686</td>\n",
       "    </tr>\n",
       "  </tbody>\n",
       "</table>\n",
       "</div>"
      ],
      "text/plain": [
       "       From               To\n",
       "859  Q6ZVN7  ENST00000356686"
      ]
     },
     "execution_count": 65,
     "metadata": {},
     "output_type": "execute_result"
    }
   ],
   "source": [
    "missings[missings['From'] == 'Q6ZVN7']"
   ]
  },
  {
   "cell_type": "code",
   "execution_count": 20,
   "id": "924ef616-d957-4c91-a525-dd6d1014bf3f",
   "metadata": {},
   "outputs": [],
   "source": [
    "hek = pandas.read_csv('transcript_rna_celline.tsv', sep='\\t')"
   ]
  },
  {
   "cell_type": "code",
   "execution_count": 21,
   "id": "14ce305c-18bf-40e5-98b2-e803c5ed5b5a",
   "metadata": {},
   "outputs": [],
   "source": [
    "hek['HEK293'] = numpy.mean([hek['TPM.HEK 293.9'].to_numpy(), hek['TPM.HEK 293.10'].to_numpy()], axis=0)"
   ]
  },
  {
   "cell_type": "code",
   "execution_count": 22,
   "id": "5cadfd30-bf83-4f9b-974b-696a8bedadfd",
   "metadata": {},
   "outputs": [],
   "source": [
    "hek = hek[['ensgid', 'enstid', 'HEK293']]"
   ]
  },
  {
   "cell_type": "code",
   "execution_count": 69,
   "id": "cb6c84ba-63ee-44f7-83ae-8699329c823e",
   "metadata": {},
   "outputs": [],
   "source": [
    "hek = hek[hek['HEK293'] != 0.0]"
   ]
  },
  {
   "cell_type": "code",
   "execution_count": 70,
   "id": "5b99a524-24f9-4618-a968-069adedcd411",
   "metadata": {},
   "outputs": [],
   "source": [
    "missings = missings[missings['To'].isin(hek['enstid'])]"
   ]
  },
  {
   "cell_type": "code",
   "execution_count": 59,
   "id": "8c8b99b9-e377-4e21-95ee-41cb4c219b31",
   "metadata": {},
   "outputs": [
    {
     "data": {
      "text/plain": [
       "False"
      ]
     },
     "execution_count": 59,
     "metadata": {},
     "output_type": "execute_result"
    }
   ],
   "source": [
    "'Q6ZVN7' in missings['From'].to_list()"
   ]
  },
  {
   "cell_type": "code",
   "execution_count": 23,
   "id": "81e7415e-e367-4966-beb8-2938920ab25e",
   "metadata": {},
   "outputs": [],
   "source": [
    "missings['HEK293_TPM'] = missings['ENST'].map(hek.set_index('enstid')['HEK293'])"
   ]
  },
  {
   "cell_type": "code",
   "execution_count": 74,
   "id": "55974f9f-641a-4886-b6a6-683f5a6fac21",
   "metadata": {},
   "outputs": [
    {
     "data": {
      "text/html": [
       "<div>\n",
       "<style scoped>\n",
       "    .dataframe tbody tr th:only-of-type {\n",
       "        vertical-align: middle;\n",
       "    }\n",
       "\n",
       "    .dataframe tbody tr th {\n",
       "        vertical-align: top;\n",
       "    }\n",
       "\n",
       "    .dataframe thead th {\n",
       "        text-align: right;\n",
       "    }\n",
       "</style>\n",
       "<table border=\"1\" class=\"dataframe\">\n",
       "  <thead>\n",
       "    <tr style=\"text-align: right;\">\n",
       "      <th></th>\n",
       "      <th>From</th>\n",
       "      <th>To</th>\n",
       "      <th>HEK293_TPM</th>\n",
       "    </tr>\n",
       "  </thead>\n",
       "  <tbody>\n",
       "    <tr>\n",
       "      <th>491</th>\n",
       "      <td>P0DMP1</td>\n",
       "      <td>ENST00000600213</td>\n",
       "      <td>3188.445000</td>\n",
       "    </tr>\n",
       "    <tr>\n",
       "      <th>470</th>\n",
       "      <td>P0CJ75</td>\n",
       "      <td>ENST00000536684</td>\n",
       "      <td>547.973500</td>\n",
       "    </tr>\n",
       "    <tr>\n",
       "      <th>463</th>\n",
       "      <td>P0CJ68</td>\n",
       "      <td>ENST00000540040</td>\n",
       "      <td>393.955500</td>\n",
       "    </tr>\n",
       "    <tr>\n",
       "      <th>187</th>\n",
       "      <td>A4D0T7</td>\n",
       "      <td>ENST00000397764</td>\n",
       "      <td>93.494150</td>\n",
       "    </tr>\n",
       "    <tr>\n",
       "      <th>591</th>\n",
       "      <td>P60606</td>\n",
       "      <td>ENST00000318978</td>\n",
       "      <td>60.018250</td>\n",
       "    </tr>\n",
       "    <tr>\n",
       "      <th>...</th>\n",
       "      <td>...</td>\n",
       "      <td>...</td>\n",
       "      <td>...</td>\n",
       "    </tr>\n",
       "    <tr>\n",
       "      <th>1379</th>\n",
       "      <td>Q9GZK7</td>\n",
       "      <td>ENST00000549749</td>\n",
       "      <td>0.003629</td>\n",
       "    </tr>\n",
       "    <tr>\n",
       "      <th>482</th>\n",
       "      <td>P0DJD0</td>\n",
       "      <td>ENST00000409776</td>\n",
       "      <td>0.000296</td>\n",
       "    </tr>\n",
       "    <tr>\n",
       "      <th>968</th>\n",
       "      <td>Q8N628</td>\n",
       "      <td>ENST00000641802</td>\n",
       "      <td>0.000122</td>\n",
       "    </tr>\n",
       "    <tr>\n",
       "      <th>408</th>\n",
       "      <td>O76099</td>\n",
       "      <td>ENST00000642030</td>\n",
       "      <td>0.000082</td>\n",
       "    </tr>\n",
       "    <tr>\n",
       "      <th>1317</th>\n",
       "      <td>Q9BYG7</td>\n",
       "      <td>ENST00000398439</td>\n",
       "      <td>0.000030</td>\n",
       "    </tr>\n",
       "  </tbody>\n",
       "</table>\n",
       "<p>424 rows × 3 columns</p>\n",
       "</div>"
      ],
      "text/plain": [
       "        From               To   HEK293_TPM\n",
       "491   P0DMP1  ENST00000600213  3188.445000\n",
       "470   P0CJ75  ENST00000536684   547.973500\n",
       "463   P0CJ68  ENST00000540040   393.955500\n",
       "187   A4D0T7  ENST00000397764    93.494150\n",
       "591   P60606  ENST00000318978    60.018250\n",
       "...      ...              ...          ...\n",
       "1379  Q9GZK7  ENST00000549749     0.003629\n",
       "482   P0DJD0  ENST00000409776     0.000296\n",
       "968   Q8N628  ENST00000641802     0.000122\n",
       "408   O76099  ENST00000642030     0.000082\n",
       "1317  Q9BYG7  ENST00000398439     0.000030\n",
       "\n",
       "[424 rows x 3 columns]"
      ]
     },
     "execution_count": 74,
     "metadata": {},
     "output_type": "execute_result"
    }
   ],
   "source": [
    "missings.sort_values(by='HEK293_TPM', ascending=False)"
   ]
  },
  {
   "cell_type": "code",
   "execution_count": 1,
   "id": "4e19e985-e80b-4a14-adcb-12d46e80a1fc",
   "metadata": {},
   "outputs": [],
   "source": [
    "import requests"
   ]
  },
  {
   "cell_type": "code",
   "execution_count": 2,
   "id": "41ae37d3-8a14-40b2-9585-f125d21863c3",
   "metadata": {},
   "outputs": [],
   "source": [
    "with open('missings_entries.txt') as f:\n",
    "    entries = f.read().splitlines()"
   ]
  },
  {
   "cell_type": "code",
   "execution_count": 10,
   "id": "6d1eb37c-eff7-4212-aa43-1a3822830e45",
   "metadata": {},
   "outputs": [],
   "source": [
    "comb2 = []\n",
    "for i in range((len(entries)//100)+1):\n",
    "    query = ' '.join(entries[i*100:min((i+1)*100, len(entries))])\n",
    "    r = requests.get('https://www.uniprot.org/uploadlists', params={'from': 'ACC+ID',\n",
    "                                                                'to': 'ENSEMBL_TRS_ID',\n",
    "                                                                'format': 'tab',\n",
    "                                                                'taxon': '9606',\n",
    "                                                                'query': query})\n",
    "    comb2.append(r.text)"
   ]
  },
  {
   "cell_type": "code",
   "execution_count": 11,
   "id": "078127c3-9710-424a-b425-91fad77d5148",
   "metadata": {},
   "outputs": [],
   "source": [
    "#comb2"
   ]
  },
  {
   "cell_type": "code",
   "execution_count": 12,
   "id": "e22447c0-9d85-4091-b95d-94df53ef0e7b",
   "metadata": {},
   "outputs": [],
   "source": [
    "comb2 = '\\n'.join(comb2)"
   ]
  },
  {
   "cell_type": "code",
   "execution_count": 15,
   "id": "5dad5bb1-7269-4a05-aa2f-8e4ecff02476",
   "metadata": {},
   "outputs": [],
   "source": [
    "comb = comb2.replace('From\\tTo\\n', '')"
   ]
  },
  {
   "cell_type": "code",
   "execution_count": 16,
   "id": "48f06994-33cb-4ede-8133-8fd9225b5b38",
   "metadata": {},
   "outputs": [],
   "source": [
    "from io import StringIO"
   ]
  },
  {
   "cell_type": "code",
   "execution_count": 17,
   "id": "ba75e7c9-5d61-4495-bd1a-190e5a0cc7fb",
   "metadata": {},
   "outputs": [],
   "source": [
    "missings = pandas.read_csv(StringIO(comb), sep='\\t', header=None)"
   ]
  },
  {
   "cell_type": "code",
   "execution_count": 18,
   "id": "5681c3b9-1d99-42b3-b780-23c06997ec95",
   "metadata": {},
   "outputs": [],
   "source": [
    "missings.columns=['AC', 'ENST']"
   ]
  },
  {
   "cell_type": "code",
   "execution_count": 25,
   "id": "bc867faa-4bf0-494f-b31b-2340eedd52d3",
   "metadata": {},
   "outputs": [],
   "source": [
    "missings = missings[missings['HEK293_TPM'] != 0.0]"
   ]
  },
  {
   "cell_type": "code",
   "execution_count": 31,
   "id": "d5bbdea1-53ef-41c3-ba94-4c40c872546d",
   "metadata": {},
   "outputs": [],
   "source": [
    "entries2 = list(missings['AC'].unique())"
   ]
  },
  {
   "cell_type": "code",
   "execution_count": 70,
   "id": "ba00d504-73d3-4a1b-a7ee-d4a63082d08a",
   "metadata": {},
   "outputs": [],
   "source": [
    "#entries2"
   ]
  },
  {
   "cell_type": "code",
   "execution_count": 33,
   "id": "37eb1f30-2af4-4330-b934-cb7763039f2b",
   "metadata": {},
   "outputs": [],
   "source": [
    "comb = []\n",
    "for i in range((len(entries2)//100)+1):\n",
    "    query = ' '.join(entries2[i*100:min((i+1)*100, len(entries2))])\n",
    "    r = requests.get('https://www.uniprot.org/uploadlists', params={'from': 'ACC+ID',\n",
    "                                                                'to': 'ACC',\n",
    "                                                                'format': 'tab',\n",
    "                                                                'taxon': '9606',\n",
    "                                                                'columns': 'id,entry_name,reviewed,genes,length',\n",
    "                                                                'query': query})\n",
    "    comb.append(r.text)"
   ]
  },
  {
   "cell_type": "code",
   "execution_count": 69,
   "id": "16075397-e080-442a-a141-53982132ad48",
   "metadata": {},
   "outputs": [],
   "source": [
    "#comb"
   ]
  },
  {
   "cell_type": "code",
   "execution_count": 35,
   "id": "d370f5b1-e16e-4996-9d44-20c3940cb568",
   "metadata": {},
   "outputs": [],
   "source": [
    "comb = [i.split('\\n')[1:-1] for i in comb]"
   ]
  },
  {
   "cell_type": "code",
   "execution_count": 36,
   "id": "797754fc-1619-402b-95bb-b918162852d0",
   "metadata": {},
   "outputs": [],
   "source": [
    "comb = [item for sublist in comb for item in sublist]"
   ]
  },
  {
   "cell_type": "code",
   "execution_count": 37,
   "id": "4695de17-d63a-4967-8bbe-fc469cfe76e7",
   "metadata": {},
   "outputs": [
    {
     "data": {
      "text/plain": [
       "328"
      ]
     },
     "execution_count": 37,
     "metadata": {},
     "output_type": "execute_result"
    }
   ],
   "source": [
    "len(comb)"
   ]
  },
  {
   "cell_type": "code",
   "execution_count": 39,
   "id": "61ee1ab1-b5bb-4677-9dfe-65d0f6ebd3ad",
   "metadata": {},
   "outputs": [],
   "source": [
    "comb = '\\n'.join(comb)"
   ]
  },
  {
   "cell_type": "code",
   "execution_count": 40,
   "id": "12eacbac-6f7b-4855-b701-31ae4750ab72",
   "metadata": {},
   "outputs": [],
   "source": [
    "combs = pandas.read_csv(StringIO(comb), sep='\\t', header=None)"
   ]
  },
  {
   "cell_type": "code",
   "execution_count": 41,
   "id": "efb719b2-4889-4a5e-a032-f85e40496b71",
   "metadata": {},
   "outputs": [
    {
     "data": {
      "text/html": [
       "<div>\n",
       "<style scoped>\n",
       "    .dataframe tbody tr th:only-of-type {\n",
       "        vertical-align: middle;\n",
       "    }\n",
       "\n",
       "    .dataframe tbody tr th {\n",
       "        vertical-align: top;\n",
       "    }\n",
       "\n",
       "    .dataframe thead th {\n",
       "        text-align: right;\n",
       "    }\n",
       "</style>\n",
       "<table border=\"1\" class=\"dataframe\">\n",
       "  <thead>\n",
       "    <tr style=\"text-align: right;\">\n",
       "      <th></th>\n",
       "      <th>0</th>\n",
       "      <th>1</th>\n",
       "      <th>2</th>\n",
       "      <th>3</th>\n",
       "      <th>4</th>\n",
       "      <th>5</th>\n",
       "    </tr>\n",
       "  </thead>\n",
       "  <tbody>\n",
       "    <tr>\n",
       "      <th>0</th>\n",
       "      <td>A0A075B6X5</td>\n",
       "      <td>TVA18_HUMAN</td>\n",
       "      <td>reviewed</td>\n",
       "      <td>TRAV18</td>\n",
       "      <td>111</td>\n",
       "      <td>A0A075B6X5</td>\n",
       "    </tr>\n",
       "    <tr>\n",
       "      <th>1</th>\n",
       "      <td>A0A087WV53</td>\n",
       "      <td>SPEGN_HUMAN</td>\n",
       "      <td>reviewed</td>\n",
       "      <td>SPEGNB</td>\n",
       "      <td>238</td>\n",
       "      <td>A0A087WV53</td>\n",
       "    </tr>\n",
       "    <tr>\n",
       "      <th>2</th>\n",
       "      <td>A0A096LNP1</td>\n",
       "      <td>D131B_HUMAN</td>\n",
       "      <td>reviewed</td>\n",
       "      <td>DEFB131B</td>\n",
       "      <td>70</td>\n",
       "      <td>A0A096LNP1</td>\n",
       "    </tr>\n",
       "    <tr>\n",
       "      <th>3</th>\n",
       "      <td>A0A096LP55</td>\n",
       "      <td>QCR6L_HUMAN</td>\n",
       "      <td>reviewed</td>\n",
       "      <td>UQCRHL</td>\n",
       "      <td>91</td>\n",
       "      <td>A0A096LP55</td>\n",
       "    </tr>\n",
       "    <tr>\n",
       "      <th>4</th>\n",
       "      <td>A0A0D9SF12</td>\n",
       "      <td>CC163_HUMAN</td>\n",
       "      <td>reviewed</td>\n",
       "      <td>CCDC163 C1orf231 CCDC163P</td>\n",
       "      <td>145</td>\n",
       "      <td>A0A0D9SF12</td>\n",
       "    </tr>\n",
       "    <tr>\n",
       "      <th>...</th>\n",
       "      <td>...</td>\n",
       "      <td>...</td>\n",
       "      <td>...</td>\n",
       "      <td>...</td>\n",
       "      <td>...</td>\n",
       "      <td>...</td>\n",
       "    </tr>\n",
       "    <tr>\n",
       "      <th>323</th>\n",
       "      <td>Q9Y543</td>\n",
       "      <td>HES2_HUMAN</td>\n",
       "      <td>reviewed</td>\n",
       "      <td>HES2 BHLHB40</td>\n",
       "      <td>173</td>\n",
       "      <td>Q9Y543</td>\n",
       "    </tr>\n",
       "    <tr>\n",
       "      <th>324</th>\n",
       "      <td>Q9Y6U7</td>\n",
       "      <td>RN215_HUMAN</td>\n",
       "      <td>reviewed</td>\n",
       "      <td>RNF215</td>\n",
       "      <td>377</td>\n",
       "      <td>Q9Y6U7</td>\n",
       "    </tr>\n",
       "    <tr>\n",
       "      <th>325</th>\n",
       "      <td>S4R3P1</td>\n",
       "      <td>HMN13_HUMAN</td>\n",
       "      <td>reviewed</td>\n",
       "      <td>MTRNR2L13</td>\n",
       "      <td>24</td>\n",
       "      <td>S4R3P1</td>\n",
       "    </tr>\n",
       "    <tr>\n",
       "      <th>326</th>\n",
       "      <td>S4R3Y5</td>\n",
       "      <td>HMN11_HUMAN</td>\n",
       "      <td>reviewed</td>\n",
       "      <td>MTRNR2L11</td>\n",
       "      <td>24</td>\n",
       "      <td>S4R3Y5</td>\n",
       "    </tr>\n",
       "    <tr>\n",
       "      <th>327</th>\n",
       "      <td>U3KPV4</td>\n",
       "      <td>A3LT2_HUMAN</td>\n",
       "      <td>reviewed</td>\n",
       "      <td>A3GALT2 A3GALT2P IGBS3S</td>\n",
       "      <td>340</td>\n",
       "      <td>U3KPV4</td>\n",
       "    </tr>\n",
       "  </tbody>\n",
       "</table>\n",
       "<p>328 rows × 6 columns</p>\n",
       "</div>"
      ],
      "text/plain": [
       "              0            1         2                          3    4  \\\n",
       "0    A0A075B6X5  TVA18_HUMAN  reviewed                     TRAV18  111   \n",
       "1    A0A087WV53  SPEGN_HUMAN  reviewed                     SPEGNB  238   \n",
       "2    A0A096LNP1  D131B_HUMAN  reviewed                   DEFB131B   70   \n",
       "3    A0A096LP55  QCR6L_HUMAN  reviewed                     UQCRHL   91   \n",
       "4    A0A0D9SF12  CC163_HUMAN  reviewed  CCDC163 C1orf231 CCDC163P  145   \n",
       "..          ...          ...       ...                        ...  ...   \n",
       "323      Q9Y543   HES2_HUMAN  reviewed               HES2 BHLHB40  173   \n",
       "324      Q9Y6U7  RN215_HUMAN  reviewed                     RNF215  377   \n",
       "325      S4R3P1  HMN13_HUMAN  reviewed                  MTRNR2L13   24   \n",
       "326      S4R3Y5  HMN11_HUMAN  reviewed                  MTRNR2L11   24   \n",
       "327      U3KPV4  A3LT2_HUMAN  reviewed    A3GALT2 A3GALT2P IGBS3S  340   \n",
       "\n",
       "              5  \n",
       "0    A0A075B6X5  \n",
       "1    A0A087WV53  \n",
       "2    A0A096LNP1  \n",
       "3    A0A096LP55  \n",
       "4    A0A0D9SF12  \n",
       "..          ...  \n",
       "323      Q9Y543  \n",
       "324      Q9Y6U7  \n",
       "325      S4R3P1  \n",
       "326      S4R3Y5  \n",
       "327      U3KPV4  \n",
       "\n",
       "[328 rows x 6 columns]"
      ]
     },
     "execution_count": 41,
     "metadata": {},
     "output_type": "execute_result"
    }
   ],
   "source": [
    "missings['Entry'] = missings['AC'].map(combs.set_index('0')['1'])"
   ]
  },
  {
   "cell_type": "code",
   "execution_count": 43,
   "id": "d8d22d13-8816-4163-b430-0b05185f7a6b",
   "metadata": {},
   "outputs": [
    {
     "name": "stderr",
     "output_type": "stream",
     "text": [
      "C:\\Users\\Dynev\\AppData\\Local\\Temp\\ipykernel_15056\\2318448750.py:1: SettingWithCopyWarning: \n",
      "A value is trying to be set on a copy of a slice from a DataFrame.\n",
      "Try using .loc[row_indexer,col_indexer] = value instead\n",
      "\n",
      "See the caveats in the documentation: https://pandas.pydata.org/pandas-docs/stable/user_guide/indexing.html#returning-a-view-versus-a-copy\n",
      "  missings['Entry'] = missings['AC'].map(combs.set_index(0)[1])\n"
     ]
    }
   ],
   "source": [
    "missings['Entry'] = missings['AC'].map(combs.set_index(0)[1])"
   ]
  },
  {
   "cell_type": "code",
   "execution_count": 45,
   "id": "5eda7726-60cd-4051-ad55-0a580f9c164a",
   "metadata": {},
   "outputs": [
    {
     "name": "stderr",
     "output_type": "stream",
     "text": [
      "C:\\Users\\Dynev\\AppData\\Local\\Temp\\ipykernel_15056\\773351778.py:1: SettingWithCopyWarning: \n",
      "A value is trying to be set on a copy of a slice from a DataFrame.\n",
      "Try using .loc[row_indexer,col_indexer] = value instead\n",
      "\n",
      "See the caveats in the documentation: https://pandas.pydata.org/pandas-docs/stable/user_guide/indexing.html#returning-a-view-versus-a-copy\n",
      "  missings['Reviewed'] = missings['AC'].map(combs.set_index(0)[2])\n"
     ]
    }
   ],
   "source": [
    "missings['Reviewed'] = missings['AC'].map(combs.set_index(0)[2])"
   ]
  },
  {
   "cell_type": "code",
   "execution_count": 46,
   "id": "f0e9b80e-4873-499d-acf2-d851527b8525",
   "metadata": {},
   "outputs": [
    {
     "name": "stderr",
     "output_type": "stream",
     "text": [
      "C:\\Users\\Dynev\\AppData\\Local\\Temp\\ipykernel_15056\\347189463.py:1: SettingWithCopyWarning: \n",
      "A value is trying to be set on a copy of a slice from a DataFrame.\n",
      "Try using .loc[row_indexer,col_indexer] = value instead\n",
      "\n",
      "See the caveats in the documentation: https://pandas.pydata.org/pandas-docs/stable/user_guide/indexing.html#returning-a-view-versus-a-copy\n",
      "  missings['Gene'] = missings['AC'].map(combs.set_index(0)[3])\n"
     ]
    }
   ],
   "source": [
    "missings['Gene'] = missings['AC'].map(combs.set_index(0)[3])"
   ]
  },
  {
   "cell_type": "code",
   "execution_count": 47,
   "id": "f95ce049-cf8a-45b6-b398-d4ec96ef7e5a",
   "metadata": {},
   "outputs": [
    {
     "name": "stderr",
     "output_type": "stream",
     "text": [
      "C:\\Users\\Dynev\\AppData\\Local\\Temp\\ipykernel_15056\\4230732883.py:1: SettingWithCopyWarning: \n",
      "A value is trying to be set on a copy of a slice from a DataFrame.\n",
      "Try using .loc[row_indexer,col_indexer] = value instead\n",
      "\n",
      "See the caveats in the documentation: https://pandas.pydata.org/pandas-docs/stable/user_guide/indexing.html#returning-a-view-versus-a-copy\n",
      "  missings['Length'] = missings['AC'].map(combs.set_index(0)[4])\n"
     ]
    }
   ],
   "source": [
    "missings['Length'] = missings['AC'].map(combs.set_index(0)[4])"
   ]
  },
  {
   "cell_type": "code",
   "execution_count": 48,
   "id": "63fddd51-bbf6-4801-95c1-18f271a4fd77",
   "metadata": {},
   "outputs": [
    {
     "data": {
      "text/html": [
       "<div>\n",
       "<style scoped>\n",
       "    .dataframe tbody tr th:only-of-type {\n",
       "        vertical-align: middle;\n",
       "    }\n",
       "\n",
       "    .dataframe tbody tr th {\n",
       "        vertical-align: top;\n",
       "    }\n",
       "\n",
       "    .dataframe thead th {\n",
       "        text-align: right;\n",
       "    }\n",
       "</style>\n",
       "<table border=\"1\" class=\"dataframe\">\n",
       "  <thead>\n",
       "    <tr style=\"text-align: right;\">\n",
       "      <th></th>\n",
       "      <th>AC</th>\n",
       "      <th>ENST</th>\n",
       "      <th>HEK293_TPM</th>\n",
       "      <th>Entry</th>\n",
       "      <th>Reviewed</th>\n",
       "      <th>Gene</th>\n",
       "      <th>Length</th>\n",
       "    </tr>\n",
       "  </thead>\n",
       "  <tbody>\n",
       "    <tr>\n",
       "      <th>6</th>\n",
       "      <td>A0A075B6X5</td>\n",
       "      <td>ENST00000390446</td>\n",
       "      <td>0.284602</td>\n",
       "      <td>TVA18_HUMAN</td>\n",
       "      <td>reviewed</td>\n",
       "      <td>TRAV18</td>\n",
       "      <td>111</td>\n",
       "    </tr>\n",
       "    <tr>\n",
       "      <th>14</th>\n",
       "      <td>A0A087WV53</td>\n",
       "      <td>ENST00000617028</td>\n",
       "      <td>0.309398</td>\n",
       "      <td>SPEGN_HUMAN</td>\n",
       "      <td>reviewed</td>\n",
       "      <td>SPEGNB</td>\n",
       "      <td>238</td>\n",
       "    </tr>\n",
       "    <tr>\n",
       "      <th>25</th>\n",
       "      <td>A0A096LNP1</td>\n",
       "      <td>ENST00000530210</td>\n",
       "      <td>2.549905</td>\n",
       "      <td>D131B_HUMAN</td>\n",
       "      <td>reviewed</td>\n",
       "      <td>DEFB131B</td>\n",
       "      <td>70</td>\n",
       "    </tr>\n",
       "    <tr>\n",
       "      <th>26</th>\n",
       "      <td>A0A096LP55</td>\n",
       "      <td>ENST00000483273</td>\n",
       "      <td>0.096707</td>\n",
       "      <td>QCR6L_HUMAN</td>\n",
       "      <td>reviewed</td>\n",
       "      <td>UQCRHL</td>\n",
       "      <td>91</td>\n",
       "    </tr>\n",
       "    <tr>\n",
       "      <th>67</th>\n",
       "      <td>A0A0D9SF12</td>\n",
       "      <td>ENST00000629482</td>\n",
       "      <td>1.484775</td>\n",
       "      <td>CC163_HUMAN</td>\n",
       "      <td>reviewed</td>\n",
       "      <td>CCDC163 C1orf231 CCDC163P</td>\n",
       "      <td>145</td>\n",
       "    </tr>\n",
       "    <tr>\n",
       "      <th>...</th>\n",
       "      <td>...</td>\n",
       "      <td>...</td>\n",
       "      <td>...</td>\n",
       "      <td>...</td>\n",
       "      <td>...</td>\n",
       "      <td>...</td>\n",
       "      <td>...</td>\n",
       "    </tr>\n",
       "    <tr>\n",
       "      <th>1532</th>\n",
       "      <td>Q9Y543</td>\n",
       "      <td>ENST00000377834</td>\n",
       "      <td>0.069505</td>\n",
       "      <td>HES2_HUMAN</td>\n",
       "      <td>reviewed</td>\n",
       "      <td>HES2 BHLHB40</td>\n",
       "      <td>173</td>\n",
       "    </tr>\n",
       "    <tr>\n",
       "      <th>1537</th>\n",
       "      <td>Q9Y6U7</td>\n",
       "      <td>ENST00000382363</td>\n",
       "      <td>4.730035</td>\n",
       "      <td>RN215_HUMAN</td>\n",
       "      <td>reviewed</td>\n",
       "      <td>RNF215</td>\n",
       "      <td>377</td>\n",
       "    </tr>\n",
       "    <tr>\n",
       "      <th>1538</th>\n",
       "      <td>S4R3P1</td>\n",
       "      <td>ENST00000604093</td>\n",
       "      <td>0.096318</td>\n",
       "      <td>HMN13_HUMAN</td>\n",
       "      <td>reviewed</td>\n",
       "      <td>MTRNR2L13</td>\n",
       "      <td>24</td>\n",
       "    </tr>\n",
       "    <tr>\n",
       "      <th>1539</th>\n",
       "      <td>S4R3Y5</td>\n",
       "      <td>ENST00000604646</td>\n",
       "      <td>36.966950</td>\n",
       "      <td>HMN11_HUMAN</td>\n",
       "      <td>reviewed</td>\n",
       "      <td>MTRNR2L11</td>\n",
       "      <td>24</td>\n",
       "    </tr>\n",
       "    <tr>\n",
       "      <th>1540</th>\n",
       "      <td>U3KPV4</td>\n",
       "      <td>ENST00000442999</td>\n",
       "      <td>0.080023</td>\n",
       "      <td>A3LT2_HUMAN</td>\n",
       "      <td>reviewed</td>\n",
       "      <td>A3GALT2 A3GALT2P IGBS3S</td>\n",
       "      <td>340</td>\n",
       "    </tr>\n",
       "  </tbody>\n",
       "</table>\n",
       "<p>430 rows × 7 columns</p>\n",
       "</div>"
      ],
      "text/plain": [
       "              AC             ENST  HEK293_TPM        Entry  Reviewed  \\\n",
       "6     A0A075B6X5  ENST00000390446    0.284602  TVA18_HUMAN  reviewed   \n",
       "14    A0A087WV53  ENST00000617028    0.309398  SPEGN_HUMAN  reviewed   \n",
       "25    A0A096LNP1  ENST00000530210    2.549905  D131B_HUMAN  reviewed   \n",
       "26    A0A096LP55  ENST00000483273    0.096707  QCR6L_HUMAN  reviewed   \n",
       "67    A0A0D9SF12  ENST00000629482    1.484775  CC163_HUMAN  reviewed   \n",
       "...          ...              ...         ...          ...       ...   \n",
       "1532      Q9Y543  ENST00000377834    0.069505   HES2_HUMAN  reviewed   \n",
       "1537      Q9Y6U7  ENST00000382363    4.730035  RN215_HUMAN  reviewed   \n",
       "1538      S4R3P1  ENST00000604093    0.096318  HMN13_HUMAN  reviewed   \n",
       "1539      S4R3Y5  ENST00000604646   36.966950  HMN11_HUMAN  reviewed   \n",
       "1540      U3KPV4  ENST00000442999    0.080023  A3LT2_HUMAN  reviewed   \n",
       "\n",
       "                           Gene  Length  \n",
       "6                        TRAV18     111  \n",
       "14                       SPEGNB     238  \n",
       "25                     DEFB131B      70  \n",
       "26                       UQCRHL      91  \n",
       "67    CCDC163 C1orf231 CCDC163P     145  \n",
       "...                         ...     ...  \n",
       "1532               HES2 BHLHB40     173  \n",
       "1537                     RNF215     377  \n",
       "1538                  MTRNR2L13      24  \n",
       "1539                  MTRNR2L11      24  \n",
       "1540    A3GALT2 A3GALT2P IGBS3S     340  \n",
       "\n",
       "[430 rows x 7 columns]"
      ]
     },
     "execution_count": 48,
     "metadata": {},
     "output_type": "execute_result"
    }
   ],
   "source": [
    "missings"
   ]
  },
  {
   "cell_type": "code",
   "execution_count": 57,
   "id": "b6399bda-2276-4221-bb3d-6e7ba09d42a4",
   "metadata": {},
   "outputs": [],
   "source": [
    "missings = missings[['AC', 'Entry', 'Gene', 'ENST', 'HEK293_TPM']]"
   ]
  },
  {
   "cell_type": "code",
   "execution_count": 68,
   "id": "1ffb80fb-42aa-40ad-a410-138356c1f344",
   "metadata": {},
   "outputs": [],
   "source": [
    "missings.to_excel('missings_enst_hek.xlsx', index=False)"
   ]
  },
  {
   "cell_type": "code",
   "execution_count": 66,
   "id": "b354caf9-abef-4aec-a88f-b103046118a7",
   "metadata": {},
   "outputs": [],
   "source": [
    "missings = missings.dropna()"
   ]
  },
  {
   "cell_type": "code",
   "execution_count": 62,
   "id": "cc29098e-dbef-45b8-9b9e-9e1caedb7295",
   "metadata": {},
   "outputs": [
    {
     "data": {
      "text/plain": [
       "False"
      ]
     },
     "execution_count": 62,
     "metadata": {},
     "output_type": "execute_result"
    }
   ],
   "source": [
    "'Q8N812' in missings['AC'].to_list()"
   ]
  },
  {
   "cell_type": "code",
   "execution_count": 64,
   "id": "9d112c80-fc27-4577-954e-d4a67a9beff2",
   "metadata": {},
   "outputs": [
    {
     "data": {
      "text/html": [
       "<div>\n",
       "<style scoped>\n",
       "    .dataframe tbody tr th:only-of-type {\n",
       "        vertical-align: middle;\n",
       "    }\n",
       "\n",
       "    .dataframe tbody tr th {\n",
       "        vertical-align: top;\n",
       "    }\n",
       "\n",
       "    .dataframe thead th {\n",
       "        text-align: right;\n",
       "    }\n",
       "</style>\n",
       "<table border=\"1\" class=\"dataframe\">\n",
       "  <thead>\n",
       "    <tr style=\"text-align: right;\">\n",
       "      <th></th>\n",
       "      <th>ensgid</th>\n",
       "      <th>enstid</th>\n",
       "      <th>HEK293</th>\n",
       "    </tr>\n",
       "  </thead>\n",
       "  <tbody>\n",
       "  </tbody>\n",
       "</table>\n",
       "</div>"
      ],
      "text/plain": [
       "Empty DataFrame\n",
       "Columns: [ensgid, enstid, HEK293]\n",
       "Index: []"
      ]
     },
     "execution_count": 64,
     "metadata": {},
     "output_type": "execute_result"
    }
   ],
   "source": [
    "hek[hek['enstid'] == 'ENST00000683810']"
   ]
  },
  {
   "cell_type": "code",
   "execution_count": 98,
   "id": "c1e2c42f-bbf4-49cc-a159-061f1d7a0ad4",
   "metadata": {},
   "outputs": [],
   "source": [
    "x = ensembl_rest.xref_id('ENSG00000286095', all_levels=True)"
   ]
  },
  {
   "cell_type": "code",
   "execution_count": 110,
   "id": "bec6fb40-ca07-4a94-b345-a6530ec284a7",
   "metadata": {},
   "outputs": [
    {
     "data": {
      "text/plain": [
       "[{'type': 'gene', 'id': 'ENSG00000178531'},\n",
       " {'id': 'ENST00000318978', 'type': 'transcript'},\n",
       " {'id': 'ENSP00000313226', 'type': 'translation'}]"
      ]
     },
     "execution_count": 110,
     "metadata": {},
     "output_type": "execute_result"
    }
   ],
   "source": [
    "ensembl_rest.xref_external(species = 'human', symbol='P60606')"
   ]
  },
  {
   "cell_type": "code",
   "execution_count": 74,
   "id": "33c82bae-9d6c-4a1a-a79a-72a705689bd5",
   "metadata": {},
   "outputs": [],
   "source": [
    "ensps = []\n",
    "for i in missings['ENST'].to_list():\n",
    "    try:\n",
    "        ensps.append(ensembl_rest.lookup(i, params={'expand': True})['Translation']['id'])\n",
    "    except:\n",
    "        ensps.append('')"
   ]
  },
  {
   "cell_type": "code",
   "execution_count": 76,
   "id": "d410b972-4bf3-452d-bbe8-1db246af1b1e",
   "metadata": {},
   "outputs": [
    {
     "name": "stderr",
     "output_type": "stream",
     "text": [
      "C:\\Users\\Dynev\\AppData\\Local\\Temp\\ipykernel_15056\\169233238.py:1: SettingWithCopyWarning: \n",
      "A value is trying to be set on a copy of a slice from a DataFrame.\n",
      "Try using .loc[row_indexer,col_indexer] = value instead\n",
      "\n",
      "See the caveats in the documentation: https://pandas.pydata.org/pandas-docs/stable/user_guide/indexing.html#returning-a-view-versus-a-copy\n",
      "  missings['ENSP'] = ensps\n"
     ]
    }
   ],
   "source": [
    "missings['ENSP'] = ensps"
   ]
  },
  {
   "cell_type": "code",
   "execution_count": 77,
   "id": "ca64ae86-0cd1-4edb-9f9d-c81841cebc5e",
   "metadata": {},
   "outputs": [
    {
     "data": {
      "text/html": [
       "<div>\n",
       "<style scoped>\n",
       "    .dataframe tbody tr th:only-of-type {\n",
       "        vertical-align: middle;\n",
       "    }\n",
       "\n",
       "    .dataframe tbody tr th {\n",
       "        vertical-align: top;\n",
       "    }\n",
       "\n",
       "    .dataframe thead th {\n",
       "        text-align: right;\n",
       "    }\n",
       "</style>\n",
       "<table border=\"1\" class=\"dataframe\">\n",
       "  <thead>\n",
       "    <tr style=\"text-align: right;\">\n",
       "      <th></th>\n",
       "      <th>AC</th>\n",
       "      <th>Entry</th>\n",
       "      <th>Gene</th>\n",
       "      <th>ENST</th>\n",
       "      <th>HEK293_TPM</th>\n",
       "      <th>ENSP</th>\n",
       "    </tr>\n",
       "  </thead>\n",
       "  <tbody>\n",
       "    <tr>\n",
       "      <th>6</th>\n",
       "      <td>A0A075B6X5</td>\n",
       "      <td>TVA18_HUMAN</td>\n",
       "      <td>TRAV18</td>\n",
       "      <td>ENST00000390446</td>\n",
       "      <td>0.284602</td>\n",
       "      <td>ENSP00000451574</td>\n",
       "    </tr>\n",
       "    <tr>\n",
       "      <th>14</th>\n",
       "      <td>A0A087WV53</td>\n",
       "      <td>SPEGN_HUMAN</td>\n",
       "      <td>SPEGNB</td>\n",
       "      <td>ENST00000617028</td>\n",
       "      <td>0.309398</td>\n",
       "      <td></td>\n",
       "    </tr>\n",
       "    <tr>\n",
       "      <th>25</th>\n",
       "      <td>A0A096LNP1</td>\n",
       "      <td>D131B_HUMAN</td>\n",
       "      <td>DEFB131B</td>\n",
       "      <td>ENST00000530210</td>\n",
       "      <td>2.549905</td>\n",
       "      <td>ENSP00000485141</td>\n",
       "    </tr>\n",
       "    <tr>\n",
       "      <th>26</th>\n",
       "      <td>A0A096LP55</td>\n",
       "      <td>QCR6L_HUMAN</td>\n",
       "      <td>UQCRHL</td>\n",
       "      <td>ENST00000483273</td>\n",
       "      <td>0.096707</td>\n",
       "      <td>ENSP00000485401</td>\n",
       "    </tr>\n",
       "    <tr>\n",
       "      <th>67</th>\n",
       "      <td>A0A0D9SF12</td>\n",
       "      <td>CC163_HUMAN</td>\n",
       "      <td>CCDC163 C1orf231 CCDC163P</td>\n",
       "      <td>ENST00000629482</td>\n",
       "      <td>1.484775</td>\n",
       "      <td>ENSP00000486197</td>\n",
       "    </tr>\n",
       "    <tr>\n",
       "      <th>...</th>\n",
       "      <td>...</td>\n",
       "      <td>...</td>\n",
       "      <td>...</td>\n",
       "      <td>...</td>\n",
       "      <td>...</td>\n",
       "      <td>...</td>\n",
       "    </tr>\n",
       "    <tr>\n",
       "      <th>1532</th>\n",
       "      <td>Q9Y543</td>\n",
       "      <td>HES2_HUMAN</td>\n",
       "      <td>HES2 BHLHB40</td>\n",
       "      <td>ENST00000377834</td>\n",
       "      <td>0.069505</td>\n",
       "      <td>ENSP00000367065</td>\n",
       "    </tr>\n",
       "    <tr>\n",
       "      <th>1537</th>\n",
       "      <td>Q9Y6U7</td>\n",
       "      <td>RN215_HUMAN</td>\n",
       "      <td>RNF215</td>\n",
       "      <td>ENST00000382363</td>\n",
       "      <td>4.730035</td>\n",
       "      <td>ENSP00000371800</td>\n",
       "    </tr>\n",
       "    <tr>\n",
       "      <th>1538</th>\n",
       "      <td>S4R3P1</td>\n",
       "      <td>HMN13_HUMAN</td>\n",
       "      <td>MTRNR2L13</td>\n",
       "      <td>ENST00000604093</td>\n",
       "      <td>0.096318</td>\n",
       "      <td>ENSP00000474570</td>\n",
       "    </tr>\n",
       "    <tr>\n",
       "      <th>1539</th>\n",
       "      <td>S4R3Y5</td>\n",
       "      <td>HMN11_HUMAN</td>\n",
       "      <td>MTRNR2L11</td>\n",
       "      <td>ENST00000604646</td>\n",
       "      <td>36.966950</td>\n",
       "      <td>ENSP00000474861</td>\n",
       "    </tr>\n",
       "    <tr>\n",
       "      <th>1540</th>\n",
       "      <td>U3KPV4</td>\n",
       "      <td>A3LT2_HUMAN</td>\n",
       "      <td>A3GALT2 A3GALT2P IGBS3S</td>\n",
       "      <td>ENST00000442999</td>\n",
       "      <td>0.080023</td>\n",
       "      <td>ENSP00000475261</td>\n",
       "    </tr>\n",
       "  </tbody>\n",
       "</table>\n",
       "<p>424 rows × 6 columns</p>\n",
       "</div>"
      ],
      "text/plain": [
       "              AC        Entry                       Gene             ENST  \\\n",
       "6     A0A075B6X5  TVA18_HUMAN                     TRAV18  ENST00000390446   \n",
       "14    A0A087WV53  SPEGN_HUMAN                     SPEGNB  ENST00000617028   \n",
       "25    A0A096LNP1  D131B_HUMAN                   DEFB131B  ENST00000530210   \n",
       "26    A0A096LP55  QCR6L_HUMAN                     UQCRHL  ENST00000483273   \n",
       "67    A0A0D9SF12  CC163_HUMAN  CCDC163 C1orf231 CCDC163P  ENST00000629482   \n",
       "...          ...          ...                        ...              ...   \n",
       "1532      Q9Y543   HES2_HUMAN               HES2 BHLHB40  ENST00000377834   \n",
       "1537      Q9Y6U7  RN215_HUMAN                     RNF215  ENST00000382363   \n",
       "1538      S4R3P1  HMN13_HUMAN                  MTRNR2L13  ENST00000604093   \n",
       "1539      S4R3Y5  HMN11_HUMAN                  MTRNR2L11  ENST00000604646   \n",
       "1540      U3KPV4  A3LT2_HUMAN    A3GALT2 A3GALT2P IGBS3S  ENST00000442999   \n",
       "\n",
       "      HEK293_TPM             ENSP  \n",
       "6       0.284602  ENSP00000451574  \n",
       "14      0.309398                   \n",
       "25      2.549905  ENSP00000485141  \n",
       "26      0.096707  ENSP00000485401  \n",
       "67      1.484775  ENSP00000486197  \n",
       "...          ...              ...  \n",
       "1532    0.069505  ENSP00000367065  \n",
       "1537    4.730035  ENSP00000371800  \n",
       "1538    0.096318  ENSP00000474570  \n",
       "1539   36.966950  ENSP00000474861  \n",
       "1540    0.080023  ENSP00000475261  \n",
       "\n",
       "[424 rows x 6 columns]"
      ]
     },
     "execution_count": 77,
     "metadata": {},
     "output_type": "execute_result"
    }
   ],
   "source": [
    "missings"
   ]
  },
  {
   "cell_type": "code",
   "execution_count": 108,
   "id": "9b36a620-5495-42ce-b52f-1939f11926d9",
   "metadata": {},
   "outputs": [
    {
     "data": {
      "text/html": [
       "<div>\n",
       "<style scoped>\n",
       "    .dataframe tbody tr th:only-of-type {\n",
       "        vertical-align: middle;\n",
       "    }\n",
       "\n",
       "    .dataframe tbody tr th {\n",
       "        vertical-align: top;\n",
       "    }\n",
       "\n",
       "    .dataframe thead th {\n",
       "        text-align: right;\n",
       "    }\n",
       "</style>\n",
       "<table border=\"1\" class=\"dataframe\">\n",
       "  <thead>\n",
       "    <tr style=\"text-align: right;\">\n",
       "      <th></th>\n",
       "      <th>AC</th>\n",
       "      <th>Entry</th>\n",
       "      <th>Gene</th>\n",
       "      <th>ENST</th>\n",
       "      <th>HEK293_TPM</th>\n",
       "      <th>ENSP</th>\n",
       "    </tr>\n",
       "  </thead>\n",
       "  <tbody>\n",
       "    <tr>\n",
       "      <th>6</th>\n",
       "      <td>A0A075B6X5</td>\n",
       "      <td>TVA18_HUMAN</td>\n",
       "      <td>TRAV18</td>\n",
       "      <td>ENST00000390446</td>\n",
       "      <td>0.284602</td>\n",
       "      <td>ENSP00000451574</td>\n",
       "    </tr>\n",
       "    <tr>\n",
       "      <th>14</th>\n",
       "      <td>A0A087WV53</td>\n",
       "      <td>SPEGN_HUMAN</td>\n",
       "      <td>SPEGNB</td>\n",
       "      <td>ENST00000617028</td>\n",
       "      <td>0.309398</td>\n",
       "      <td></td>\n",
       "    </tr>\n",
       "    <tr>\n",
       "      <th>25</th>\n",
       "      <td>A0A096LNP1</td>\n",
       "      <td>D131B_HUMAN</td>\n",
       "      <td>DEFB131B</td>\n",
       "      <td>ENST00000530210</td>\n",
       "      <td>2.549905</td>\n",
       "      <td>ENSP00000485141</td>\n",
       "    </tr>\n",
       "    <tr>\n",
       "      <th>26</th>\n",
       "      <td>A0A096LP55</td>\n",
       "      <td>QCR6L_HUMAN</td>\n",
       "      <td>UQCRHL</td>\n",
       "      <td>ENST00000483273</td>\n",
       "      <td>0.096707</td>\n",
       "      <td>ENSP00000485401</td>\n",
       "    </tr>\n",
       "    <tr>\n",
       "      <th>67</th>\n",
       "      <td>A0A0D9SF12</td>\n",
       "      <td>CC163_HUMAN</td>\n",
       "      <td>CCDC163 C1orf231 CCDC163P</td>\n",
       "      <td>ENST00000629482</td>\n",
       "      <td>1.484775</td>\n",
       "      <td>ENSP00000486197</td>\n",
       "    </tr>\n",
       "    <tr>\n",
       "      <th>...</th>\n",
       "      <td>...</td>\n",
       "      <td>...</td>\n",
       "      <td>...</td>\n",
       "      <td>...</td>\n",
       "      <td>...</td>\n",
       "      <td>...</td>\n",
       "    </tr>\n",
       "    <tr>\n",
       "      <th>1532</th>\n",
       "      <td>Q9Y543</td>\n",
       "      <td>HES2_HUMAN</td>\n",
       "      <td>HES2 BHLHB40</td>\n",
       "      <td>ENST00000377834</td>\n",
       "      <td>0.069505</td>\n",
       "      <td>ENSP00000367065</td>\n",
       "    </tr>\n",
       "    <tr>\n",
       "      <th>1537</th>\n",
       "      <td>Q9Y6U7</td>\n",
       "      <td>RN215_HUMAN</td>\n",
       "      <td>RNF215</td>\n",
       "      <td>ENST00000382363</td>\n",
       "      <td>4.730035</td>\n",
       "      <td>ENSP00000371800</td>\n",
       "    </tr>\n",
       "    <tr>\n",
       "      <th>1538</th>\n",
       "      <td>S4R3P1</td>\n",
       "      <td>HMN13_HUMAN</td>\n",
       "      <td>MTRNR2L13</td>\n",
       "      <td>ENST00000604093</td>\n",
       "      <td>0.096318</td>\n",
       "      <td>ENSP00000474570</td>\n",
       "    </tr>\n",
       "    <tr>\n",
       "      <th>1539</th>\n",
       "      <td>S4R3Y5</td>\n",
       "      <td>HMN11_HUMAN</td>\n",
       "      <td>MTRNR2L11</td>\n",
       "      <td>ENST00000604646</td>\n",
       "      <td>36.966950</td>\n",
       "      <td>ENSP00000474861</td>\n",
       "    </tr>\n",
       "    <tr>\n",
       "      <th>1540</th>\n",
       "      <td>U3KPV4</td>\n",
       "      <td>A3LT2_HUMAN</td>\n",
       "      <td>A3GALT2 A3GALT2P IGBS3S</td>\n",
       "      <td>ENST00000442999</td>\n",
       "      <td>0.080023</td>\n",
       "      <td>ENSP00000475261</td>\n",
       "    </tr>\n",
       "  </tbody>\n",
       "</table>\n",
       "<p>424 rows × 6 columns</p>\n",
       "</div>"
      ],
      "text/plain": [
       "              AC        Entry                       Gene             ENST  \\\n",
       "6     A0A075B6X5  TVA18_HUMAN                     TRAV18  ENST00000390446   \n",
       "14    A0A087WV53  SPEGN_HUMAN                     SPEGNB  ENST00000617028   \n",
       "25    A0A096LNP1  D131B_HUMAN                   DEFB131B  ENST00000530210   \n",
       "26    A0A096LP55  QCR6L_HUMAN                     UQCRHL  ENST00000483273   \n",
       "67    A0A0D9SF12  CC163_HUMAN  CCDC163 C1orf231 CCDC163P  ENST00000629482   \n",
       "...          ...          ...                        ...              ...   \n",
       "1532      Q9Y543   HES2_HUMAN               HES2 BHLHB40  ENST00000377834   \n",
       "1537      Q9Y6U7  RN215_HUMAN                     RNF215  ENST00000382363   \n",
       "1538      S4R3P1  HMN13_HUMAN                  MTRNR2L13  ENST00000604093   \n",
       "1539      S4R3Y5  HMN11_HUMAN                  MTRNR2L11  ENST00000604646   \n",
       "1540      U3KPV4  A3LT2_HUMAN    A3GALT2 A3GALT2P IGBS3S  ENST00000442999   \n",
       "\n",
       "      HEK293_TPM             ENSP  \n",
       "6       0.284602  ENSP00000451574  \n",
       "14      0.309398                   \n",
       "25      2.549905  ENSP00000485141  \n",
       "26      0.096707  ENSP00000485401  \n",
       "67      1.484775  ENSP00000486197  \n",
       "...          ...              ...  \n",
       "1532    0.069505  ENSP00000367065  \n",
       "1537    4.730035  ENSP00000371800  \n",
       "1538    0.096318  ENSP00000474570  \n",
       "1539   36.966950  ENSP00000474861  \n",
       "1540    0.080023  ENSP00000475261  \n",
       "\n",
       "[424 rows x 6 columns]"
      ]
     },
     "execution_count": 108,
     "metadata": {},
     "output_type": "execute_result"
    }
   ],
   "source": [
    "missings"
   ]
  },
  {
   "cell_type": "code",
   "execution_count": 116,
   "id": "50ae91bd-1f24-4c93-8109-112f7013dc99",
   "metadata": {},
   "outputs": [],
   "source": [
    "def ensembl_ac_to_trs(ac):\n",
    "    x = ensembl_rest.xref_external(species='human', symbol=ac)\n",
    "    x = [i['id'] for i in x if i['type'] == 'transcript']\n",
    "    return x\n",
    "\n",
    "def ensembl"
   ]
  },
  {
   "cell_type": "code",
   "execution_count": 117,
   "id": "7a48e661-f135-4878-9412-3fc95bfdf7a1",
   "metadata": {},
   "outputs": [
    {
     "data": {
      "text/plain": [
       "['ENST00000356686']"
      ]
     },
     "execution_count": 117,
     "metadata": {},
     "output_type": "execute_result"
    }
   ],
   "source": [
    "ensembl_ac_to_trs('Q6ZVN7')"
   ]
  },
  {
   "cell_type": "code",
   "execution_count": 124,
   "id": "e6bd960b-610e-4bd6-bdb7-0e0f1d7561f3",
   "metadata": {},
   "outputs": [
    {
     "data": {
      "text/plain": [
       "{'end': 22003673,\n",
       " 'version': 3,\n",
       " 'strand': 1,\n",
       " 'logic_name': 'havana_ig_gene_homo_sapiens',\n",
       " 'id': 'ENST00000390446',\n",
       " 'db_type': 'core',\n",
       " 'Exon': [{'assembly_name': 'GRCh38',\n",
       "   'start': 22003106,\n",
       "   'seq_region_name': '14',\n",
       "   'end': 22003256,\n",
       "   'version': 2,\n",
       "   'object_type': 'Exon',\n",
       "   'strand': 1,\n",
       "   'species': 'homo_sapiens',\n",
       "   'id': 'ENSE00001851593',\n",
       "   'db_type': 'core'},\n",
       "  {'strand': 1,\n",
       "   'object_type': 'Exon',\n",
       "   'end': 22003673,\n",
       "   'version': 3,\n",
       "   'db_type': 'core',\n",
       "   'id': 'ENSE00001944147',\n",
       "   'species': 'homo_sapiens',\n",
       "   'assembly_name': 'GRCh38',\n",
       "   'seq_region_name': '14',\n",
       "   'start': 22003385}],\n",
       " 'Translation': {'Parent': 'ENST00000390446',\n",
       "  'version': 1,\n",
       "  'object_type': 'Translation',\n",
       "  'end': 22003673,\n",
       "  'id': 'ENSP00000451574',\n",
       "  'db_type': 'core',\n",
       "  'species': 'homo_sapiens',\n",
       "  'length': 111,\n",
       "  'start': 22003211},\n",
       " 'start': 22003106,\n",
       " 'object_type': 'Transcript',\n",
       " 'Parent': 'ENSG00000211798',\n",
       " 'biotype': 'TR_V_gene',\n",
       " 'species': 'homo_sapiens',\n",
       " 'is_canonical': 1,\n",
       " 'assembly_name': 'GRCh38',\n",
       " 'source': 'havana',\n",
       " 'display_name': 'TRAV18-201',\n",
       " 'seq_region_name': '14'}"
      ]
     },
     "execution_count": 124,
     "metadata": {},
     "output_type": "execute_result"
    }
   ],
   "source": [
    "ensembl_rest.lookup('ENST00000390446', params={'expand':True})"
   ]
  },
  {
   "cell_type": "code",
   "execution_count": 128,
   "id": "e4db532e-5ed6-4010-a587-e4bc4abae244",
   "metadata": {},
   "outputs": [
    {
     "data": {
      "text/html": [
       "<div>\n",
       "<style scoped>\n",
       "    .dataframe tbody tr th:only-of-type {\n",
       "        vertical-align: middle;\n",
       "    }\n",
       "\n",
       "    .dataframe tbody tr th {\n",
       "        vertical-align: top;\n",
       "    }\n",
       "\n",
       "    .dataframe thead th {\n",
       "        text-align: right;\n",
       "    }\n",
       "</style>\n",
       "<table border=\"1\" class=\"dataframe\">\n",
       "  <thead>\n",
       "    <tr style=\"text-align: right;\">\n",
       "      <th></th>\n",
       "      <th>AC</th>\n",
       "      <th>Entry</th>\n",
       "      <th>Gene</th>\n",
       "      <th>ENST</th>\n",
       "      <th>HEK293_TPM</th>\n",
       "      <th>ENSP</th>\n",
       "    </tr>\n",
       "  </thead>\n",
       "  <tbody>\n",
       "    <tr>\n",
       "      <th>491</th>\n",
       "      <td>P0DMP1</td>\n",
       "      <td>HMN12_HUMAN</td>\n",
       "      <td>MTRNR2L12</td>\n",
       "      <td>ENST00000600213</td>\n",
       "      <td>3188.445000</td>\n",
       "      <td>ENSP00000468991</td>\n",
       "    </tr>\n",
       "    <tr>\n",
       "      <th>470</th>\n",
       "      <td>P0CJ75</td>\n",
       "      <td>HMN8_HUMAN</td>\n",
       "      <td>MTRNR2L8</td>\n",
       "      <td>ENST00000536684</td>\n",
       "      <td>547.973500</td>\n",
       "      <td>ENSP00000439666</td>\n",
       "    </tr>\n",
       "    <tr>\n",
       "      <th>463</th>\n",
       "      <td>P0CJ68</td>\n",
       "      <td>HMN1_HUMAN</td>\n",
       "      <td>MTRNR2L1</td>\n",
       "      <td>ENST00000540040</td>\n",
       "      <td>393.955500</td>\n",
       "      <td>ENSP00000439228</td>\n",
       "    </tr>\n",
       "    <tr>\n",
       "      <th>187</th>\n",
       "      <td>A4D0T7</td>\n",
       "      <td>SIM30_HUMAN</td>\n",
       "      <td>SMIM30</td>\n",
       "      <td>ENST00000397764</td>\n",
       "      <td>93.494150</td>\n",
       "      <td>ENSP00000490095</td>\n",
       "    </tr>\n",
       "    <tr>\n",
       "      <th>591</th>\n",
       "      <td>P60606</td>\n",
       "      <td>CTXN1_HUMAN</td>\n",
       "      <td>CTXN1 CTXN</td>\n",
       "      <td>ENST00000318978</td>\n",
       "      <td>60.018250</td>\n",
       "      <td>ENSP00000313226</td>\n",
       "    </tr>\n",
       "    <tr>\n",
       "      <th>1539</th>\n",
       "      <td>S4R3Y5</td>\n",
       "      <td>HMN11_HUMAN</td>\n",
       "      <td>MTRNR2L11</td>\n",
       "      <td>ENST00000604646</td>\n",
       "      <td>36.966950</td>\n",
       "      <td>ENSP00000474861</td>\n",
       "    </tr>\n",
       "    <tr>\n",
       "      <th>471</th>\n",
       "      <td>P0CJ77</td>\n",
       "      <td>HMN10_HUMAN</td>\n",
       "      <td>MTRNR2L10</td>\n",
       "      <td>ENST00000545075</td>\n",
       "      <td>32.505350</td>\n",
       "      <td>ENSP00000442159</td>\n",
       "    </tr>\n",
       "    <tr>\n",
       "      <th>1242</th>\n",
       "      <td>Q96DE9</td>\n",
       "      <td>EOLA2_HUMAN</td>\n",
       "      <td>EOLA2 CXorf40B</td>\n",
       "      <td>ENST00000370406</td>\n",
       "      <td>18.421850</td>\n",
       "      <td>ENSP00000359434</td>\n",
       "    </tr>\n",
       "    <tr>\n",
       "      <th>116</th>\n",
       "      <td>A0A1B0GUW7</td>\n",
       "      <td>SIM27_HUMAN</td>\n",
       "      <td>SMIM27 C9orf133 TOPORS-AS1</td>\n",
       "      <td>ENST00000450093</td>\n",
       "      <td>14.321300</td>\n",
       "      <td>ENSP00000490727</td>\n",
       "    </tr>\n",
       "    <tr>\n",
       "      <th>234</th>\n",
       "      <td>A6NHG4</td>\n",
       "      <td>DDTL_HUMAN</td>\n",
       "      <td>DDTL</td>\n",
       "      <td>ENST00000215770</td>\n",
       "      <td>13.280350</td>\n",
       "      <td>ENSP00000215770</td>\n",
       "    </tr>\n",
       "    <tr>\n",
       "      <th>318</th>\n",
       "      <td>B9A6J9</td>\n",
       "      <td>TBC3L_HUMAN</td>\n",
       "      <td>TBC1D3L</td>\n",
       "      <td>ENST00000617678</td>\n",
       "      <td>12.541345</td>\n",
       "      <td>ENSP00000479577</td>\n",
       "    </tr>\n",
       "    <tr>\n",
       "      <th>731</th>\n",
       "      <td>Q5VTM2</td>\n",
       "      <td>AGAP9_HUMAN</td>\n",
       "      <td>AGAP9 CTGLF6</td>\n",
       "      <td>ENST00000452145</td>\n",
       "      <td>11.078565</td>\n",
       "      <td>ENSP00000392206</td>\n",
       "    </tr>\n",
       "    <tr>\n",
       "      <th>324</th>\n",
       "      <td>C9JUS6</td>\n",
       "      <td>ADM5_HUMAN</td>\n",
       "      <td>ADM5 C19orf76</td>\n",
       "      <td>ENST00000420022</td>\n",
       "      <td>10.119060</td>\n",
       "      <td>ENSP00000393631</td>\n",
       "    </tr>\n",
       "    <tr>\n",
       "      <th>468</th>\n",
       "      <td>P0CJ73</td>\n",
       "      <td>HMN6_HUMAN</td>\n",
       "      <td>MTRNR2L6</td>\n",
       "      <td>ENST00000633925</td>\n",
       "      <td>10.042760</td>\n",
       "      <td>ENSP00000488809</td>\n",
       "    </tr>\n",
       "    <tr>\n",
       "      <th>467</th>\n",
       "      <td>P0CJ73</td>\n",
       "      <td>HMN6_HUMAN</td>\n",
       "      <td>MTRNR2L6</td>\n",
       "      <td>ENST00000604952</td>\n",
       "      <td>10.042760</td>\n",
       "      <td>ENSP00000473686</td>\n",
       "    </tr>\n",
       "    <tr>\n",
       "      <th>1413</th>\n",
       "      <td>Q9HBF5</td>\n",
       "      <td>ST20_HUMAN</td>\n",
       "      <td>ST20 HCCS1</td>\n",
       "      <td>ENST00000485386</td>\n",
       "      <td>9.228675</td>\n",
       "      <td>ENSP00000453693</td>\n",
       "    </tr>\n",
       "    <tr>\n",
       "      <th>1240</th>\n",
       "      <td>Q96DE9</td>\n",
       "      <td>EOLA2_HUMAN</td>\n",
       "      <td>EOLA2 CXorf40B</td>\n",
       "      <td>ENST00000355203</td>\n",
       "      <td>9.037100</td>\n",
       "      <td>ENSP00000347339</td>\n",
       "    </tr>\n",
       "    <tr>\n",
       "      <th>1268</th>\n",
       "      <td>Q96NG8</td>\n",
       "      <td>ZN582_HUMAN</td>\n",
       "      <td>ZNF582</td>\n",
       "      <td>ENST00000586929</td>\n",
       "      <td>7.804430</td>\n",
       "      <td>ENSP00000465619</td>\n",
       "    </tr>\n",
       "    <tr>\n",
       "      <th>1245</th>\n",
       "      <td>Q96FV3</td>\n",
       "      <td>TSN17_HUMAN</td>\n",
       "      <td>TSPAN17 FBXO23 TM4SF17</td>\n",
       "      <td>ENST00000508164</td>\n",
       "      <td>7.696295</td>\n",
       "      <td>ENSP00000422053</td>\n",
       "    </tr>\n",
       "    <tr>\n",
       "      <th>295</th>\n",
       "      <td>A8MQT2</td>\n",
       "      <td>GOG8B_HUMAN</td>\n",
       "      <td>GOLGA8B</td>\n",
       "      <td>ENST00000342314</td>\n",
       "      <td>7.506330</td>\n",
       "      <td>ENSP00000343064</td>\n",
       "    </tr>\n",
       "  </tbody>\n",
       "</table>\n",
       "</div>"
      ],
      "text/plain": [
       "              AC        Entry                        Gene             ENST  \\\n",
       "491       P0DMP1  HMN12_HUMAN                   MTRNR2L12  ENST00000600213   \n",
       "470       P0CJ75   HMN8_HUMAN                    MTRNR2L8  ENST00000536684   \n",
       "463       P0CJ68   HMN1_HUMAN                    MTRNR2L1  ENST00000540040   \n",
       "187       A4D0T7  SIM30_HUMAN                      SMIM30  ENST00000397764   \n",
       "591       P60606  CTXN1_HUMAN                  CTXN1 CTXN  ENST00000318978   \n",
       "1539      S4R3Y5  HMN11_HUMAN                   MTRNR2L11  ENST00000604646   \n",
       "471       P0CJ77  HMN10_HUMAN                   MTRNR2L10  ENST00000545075   \n",
       "1242      Q96DE9  EOLA2_HUMAN              EOLA2 CXorf40B  ENST00000370406   \n",
       "116   A0A1B0GUW7  SIM27_HUMAN  SMIM27 C9orf133 TOPORS-AS1  ENST00000450093   \n",
       "234       A6NHG4   DDTL_HUMAN                        DDTL  ENST00000215770   \n",
       "318       B9A6J9  TBC3L_HUMAN                     TBC1D3L  ENST00000617678   \n",
       "731       Q5VTM2  AGAP9_HUMAN                AGAP9 CTGLF6  ENST00000452145   \n",
       "324       C9JUS6   ADM5_HUMAN               ADM5 C19orf76  ENST00000420022   \n",
       "468       P0CJ73   HMN6_HUMAN                    MTRNR2L6  ENST00000633925   \n",
       "467       P0CJ73   HMN6_HUMAN                    MTRNR2L6  ENST00000604952   \n",
       "1413      Q9HBF5   ST20_HUMAN                  ST20 HCCS1  ENST00000485386   \n",
       "1240      Q96DE9  EOLA2_HUMAN              EOLA2 CXorf40B  ENST00000355203   \n",
       "1268      Q96NG8  ZN582_HUMAN                      ZNF582  ENST00000586929   \n",
       "1245      Q96FV3  TSN17_HUMAN      TSPAN17 FBXO23 TM4SF17  ENST00000508164   \n",
       "295       A8MQT2  GOG8B_HUMAN                     GOLGA8B  ENST00000342314   \n",
       "\n",
       "       HEK293_TPM             ENSP  \n",
       "491   3188.445000  ENSP00000468991  \n",
       "470    547.973500  ENSP00000439666  \n",
       "463    393.955500  ENSP00000439228  \n",
       "187     93.494150  ENSP00000490095  \n",
       "591     60.018250  ENSP00000313226  \n",
       "1539    36.966950  ENSP00000474861  \n",
       "471     32.505350  ENSP00000442159  \n",
       "1242    18.421850  ENSP00000359434  \n",
       "116     14.321300  ENSP00000490727  \n",
       "234     13.280350  ENSP00000215770  \n",
       "318     12.541345  ENSP00000479577  \n",
       "731     11.078565  ENSP00000392206  \n",
       "324     10.119060  ENSP00000393631  \n",
       "468     10.042760  ENSP00000488809  \n",
       "467     10.042760  ENSP00000473686  \n",
       "1413     9.228675  ENSP00000453693  \n",
       "1240     9.037100  ENSP00000347339  \n",
       "1268     7.804430  ENSP00000465619  \n",
       "1245     7.696295  ENSP00000422053  \n",
       "295      7.506330  ENSP00000343064  "
      ]
     },
     "execution_count": 128,
     "metadata": {},
     "output_type": "execute_result"
    }
   ],
   "source": [
    "missings.sort_values(by='HEK293_TPM', ascending=False)[:20]"
   ]
  },
  {
   "cell_type": "code",
   "execution_count": 129,
   "id": "a9704a8f-9d76-49dc-8972-448ab36fa121",
   "metadata": {},
   "outputs": [
    {
     "data": {
      "text/html": [
       "<div>\n",
       "<style scoped>\n",
       "    .dataframe tbody tr th:only-of-type {\n",
       "        vertical-align: middle;\n",
       "    }\n",
       "\n",
       "    .dataframe tbody tr th {\n",
       "        vertical-align: top;\n",
       "    }\n",
       "\n",
       "    .dataframe thead th {\n",
       "        text-align: right;\n",
       "    }\n",
       "</style>\n",
       "<table border=\"1\" class=\"dataframe\">\n",
       "  <thead>\n",
       "    <tr style=\"text-align: right;\">\n",
       "      <th></th>\n",
       "      <th>AC</th>\n",
       "      <th>Entry</th>\n",
       "      <th>Gene</th>\n",
       "      <th>ENST</th>\n",
       "      <th>HEK293_TPM</th>\n",
       "      <th>ENSP</th>\n",
       "    </tr>\n",
       "  </thead>\n",
       "  <tbody>\n",
       "    <tr>\n",
       "      <th>1240</th>\n",
       "      <td>Q96DE9</td>\n",
       "      <td>EOLA2_HUMAN</td>\n",
       "      <td>EOLA2 CXorf40B</td>\n",
       "      <td>ENST00000355203</td>\n",
       "      <td>9.03710</td>\n",
       "      <td>ENSP00000347339</td>\n",
       "    </tr>\n",
       "    <tr>\n",
       "      <th>1241</th>\n",
       "      <td>Q96DE9</td>\n",
       "      <td>EOLA2_HUMAN</td>\n",
       "      <td>EOLA2 CXorf40B</td>\n",
       "      <td>ENST00000370404</td>\n",
       "      <td>0.70219</td>\n",
       "      <td>ENSP00000359432</td>\n",
       "    </tr>\n",
       "    <tr>\n",
       "      <th>1242</th>\n",
       "      <td>Q96DE9</td>\n",
       "      <td>EOLA2_HUMAN</td>\n",
       "      <td>EOLA2 CXorf40B</td>\n",
       "      <td>ENST00000370406</td>\n",
       "      <td>18.42185</td>\n",
       "      <td>ENSP00000359434</td>\n",
       "    </tr>\n",
       "  </tbody>\n",
       "</table>\n",
       "</div>"
      ],
      "text/plain": [
       "          AC        Entry            Gene             ENST  HEK293_TPM  \\\n",
       "1240  Q96DE9  EOLA2_HUMAN  EOLA2 CXorf40B  ENST00000355203     9.03710   \n",
       "1241  Q96DE9  EOLA2_HUMAN  EOLA2 CXorf40B  ENST00000370404     0.70219   \n",
       "1242  Q96DE9  EOLA2_HUMAN  EOLA2 CXorf40B  ENST00000370406    18.42185   \n",
       "\n",
       "                 ENSP  \n",
       "1240  ENSP00000347339  \n",
       "1241  ENSP00000359432  \n",
       "1242  ENSP00000359434  "
      ]
     },
     "execution_count": 129,
     "metadata": {},
     "output_type": "execute_result"
    }
   ],
   "source": [
    "missings[missings['AC']=='Q96DE9']"
   ]
  },
  {
   "cell_type": "code",
   "execution_count": 130,
   "id": "aba8518a-1927-4f4e-8a80-96a539bb2c2a",
   "metadata": {},
   "outputs": [
    {
     "data": {
      "text/plain": [
       "True"
      ]
     },
     "execution_count": 130,
     "metadata": {},
     "output_type": "execute_result"
    }
   ],
   "source": [
    "'ENST00000462691' in hek['enstid'].to_list()"
   ]
  },
  {
   "cell_type": "code",
   "execution_count": null,
   "id": "fc4c931b-d50c-459b-9870-88a2e2537fa0",
   "metadata": {},
   "outputs": [],
   "source": []
  }
 ],
 "metadata": {
  "kernelspec": {
   "display_name": "Python 3 (ipykernel)",
   "language": "python",
   "name": "python3"
  },
  "language_info": {
   "codemirror_mode": {
    "name": "ipython",
    "version": 3
   },
   "file_extension": ".py",
   "mimetype": "text/x-python",
   "name": "python",
   "nbconvert_exporter": "python",
   "pygments_lexer": "ipython3",
   "version": "3.10.4"
  }
 },
 "nbformat": 4,
 "nbformat_minor": 5
}
