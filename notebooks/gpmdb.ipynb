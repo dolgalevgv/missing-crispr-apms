{
 "cells": [
  {
   "cell_type": "code",
   "execution_count": 1,
   "id": "1fccd000-11e2-4f67-9e40-6ab044aea8e4",
   "metadata": {},
   "outputs": [],
   "source": [
    "import re\n",
    "import requests\n",
    "import pandas as pd"
   ]
  },
  {
   "cell_type": "code",
   "execution_count": null,
   "id": "61a9b9ad-e26c-4ab0-89b8-34ba92d3a04a",
   "metadata": {},
   "outputs": [],
   "source": [
    "ensembl_annotation = "
   ]
  },
  {
   "cell_type": "code",
   "execution_count": 87,
   "id": "0f73d59f-084c-4a09-9a91-42a7b3653593",
   "metadata": {},
   "outputs": [],
   "source": [
    "missing = pd.read_excel('../reports/missing_hek_select_20220518.xlsx')"
   ]
  },
  {
   "cell_type": "code",
   "execution_count": 2,
   "id": "96fb9bc3-9198-4c07-9968-714dc6dd3d86",
   "metadata": {},
   "outputs": [],
   "source": [
    "peptides = pd.read_csv('missing_select_peptides_20220518.txt', sep='\\t')"
   ]
  },
  {
   "cell_type": "code",
   "execution_count": 120,
   "id": "ec15a69e-3eef-4407-9459-1d97e4624b40",
   "metadata": {},
   "outputs": [],
   "source": [
    "peptides['entry'] = peptides['entry'].map(lambda x: x + '-1' if '-' not in x else x)"
   ]
  },
  {
   "cell_type": "code",
   "execution_count": 20,
   "id": "8872e179-bcbc-4501-a4e1-88e8f7185cc8",
   "metadata": {},
   "outputs": [],
   "source": [
    "peptides = peptides.drop_duplicates(['peptide'])"
   ]
  },
  {
   "cell_type": "code",
   "execution_count": 121,
   "id": "8c322995-6746-46ea-9a39-45b4495e4766",
   "metadata": {},
   "outputs": [
    {
     "ename": "ValueError",
     "evalue": "Cannot mask with non-boolean array containing NA / NaN values",
     "output_type": "error",
     "traceback": [
      "\u001b[1;31m---------------------------------------------------------------------------\u001b[0m",
      "\u001b[1;31mValueError\u001b[0m                                Traceback (most recent call last)",
      "Input \u001b[1;32mIn [121]\u001b[0m, in \u001b[0;36m<cell line: 1>\u001b[1;34m()\u001b[0m\n\u001b[1;32m----> 1\u001b[0m \u001b[43mmissing\u001b[49m\u001b[43m[\u001b[49m\u001b[43mmissing\u001b[49m\u001b[43m[\u001b[49m\u001b[38;5;124;43m'\u001b[39;49m\u001b[38;5;124;43muniprot_isoform\u001b[39;49m\u001b[38;5;124;43m'\u001b[39;49m\u001b[43m]\u001b[49m\u001b[38;5;241;43m.\u001b[39;49m\u001b[43mstr\u001b[49m\u001b[38;5;241;43m.\u001b[39;49m\u001b[43mcontains\u001b[49m\u001b[43m(\u001b[49m\u001b[38;5;124;43m'\u001b[39;49m\u001b[38;5;124;43mQ3B7I2-1\u001b[39;49m\u001b[38;5;124;43m'\u001b[39;49m\u001b[43m)\u001b[49m\u001b[43m]\u001b[49m\n",
      "File \u001b[1;32m~\\AppData\\Local\\Programs\\Python\\Python310\\lib\\site-packages\\pandas\\core\\frame.py:3495\u001b[0m, in \u001b[0;36mDataFrame.__getitem__\u001b[1;34m(self, key)\u001b[0m\n\u001b[0;32m   3492\u001b[0m     \u001b[38;5;28;01mreturn\u001b[39;00m \u001b[38;5;28mself\u001b[39m\u001b[38;5;241m.\u001b[39mwhere(key)\n\u001b[0;32m   3494\u001b[0m \u001b[38;5;66;03m# Do we have a (boolean) 1d indexer?\u001b[39;00m\n\u001b[1;32m-> 3495\u001b[0m \u001b[38;5;28;01mif\u001b[39;00m \u001b[43mcom\u001b[49m\u001b[38;5;241;43m.\u001b[39;49m\u001b[43mis_bool_indexer\u001b[49m\u001b[43m(\u001b[49m\u001b[43mkey\u001b[49m\u001b[43m)\u001b[49m:\n\u001b[0;32m   3496\u001b[0m     \u001b[38;5;28;01mreturn\u001b[39;00m \u001b[38;5;28mself\u001b[39m\u001b[38;5;241m.\u001b[39m_getitem_bool_array(key)\n\u001b[0;32m   3498\u001b[0m \u001b[38;5;66;03m# We are left with two options: a single key, and a collection of keys,\u001b[39;00m\n\u001b[0;32m   3499\u001b[0m \u001b[38;5;66;03m# We interpret tuples as collections only for non-MultiIndex\u001b[39;00m\n",
      "File \u001b[1;32m~\\AppData\\Local\\Programs\\Python\\Python310\\lib\\site-packages\\pandas\\core\\common.py:144\u001b[0m, in \u001b[0;36mis_bool_indexer\u001b[1;34m(key)\u001b[0m\n\u001b[0;32m    140\u001b[0m     na_msg \u001b[38;5;241m=\u001b[39m \u001b[38;5;124m\"\u001b[39m\u001b[38;5;124mCannot mask with non-boolean array containing NA / NaN values\u001b[39m\u001b[38;5;124m\"\u001b[39m\n\u001b[0;32m    141\u001b[0m     \u001b[38;5;28;01mif\u001b[39;00m lib\u001b[38;5;241m.\u001b[39minfer_dtype(key) \u001b[38;5;241m==\u001b[39m \u001b[38;5;124m\"\u001b[39m\u001b[38;5;124mboolean\u001b[39m\u001b[38;5;124m\"\u001b[39m \u001b[38;5;129;01mand\u001b[39;00m isna(key)\u001b[38;5;241m.\u001b[39many():\n\u001b[0;32m    142\u001b[0m         \u001b[38;5;66;03m# Don't raise on e.g. [\"A\", \"B\", np.nan], see\u001b[39;00m\n\u001b[0;32m    143\u001b[0m         \u001b[38;5;66;03m#  test_loc_getitem_list_of_labels_categoricalindex_with_na\u001b[39;00m\n\u001b[1;32m--> 144\u001b[0m         \u001b[38;5;28;01mraise\u001b[39;00m \u001b[38;5;167;01mValueError\u001b[39;00m(na_msg)\n\u001b[0;32m    145\u001b[0m     \u001b[38;5;28;01mreturn\u001b[39;00m \u001b[38;5;28;01mFalse\u001b[39;00m\n\u001b[0;32m    146\u001b[0m \u001b[38;5;28;01mreturn\u001b[39;00m \u001b[38;5;28;01mTrue\u001b[39;00m\n",
      "\u001b[1;31mValueError\u001b[0m: Cannot mask with non-boolean array containing NA / NaN values"
     ]
    }
   ],
   "source": [
    "missing[missing['uniprot_isoform'].str.contains('Q3B7I2-1')]"
   ]
  },
  {
   "cell_type": "code",
   "execution_count": 14,
   "id": "e87a50a8-5cbc-432d-b07a-70e6156b9188",
   "metadata": {},
   "outputs": [],
   "source": [
    "peptides['gene'] = peptides['entry'].map(missing.drop_duplicates('uniprot_isoform').set_index('uniprot_isoform')['ensembl_gene_name'])"
   ]
  },
  {
   "cell_type": "code",
   "execution_count": 17,
   "id": "b102d392-a76b-4aac-8c2a-dfcde4cd8ccd",
   "metadata": {},
   "outputs": [],
   "source": [
    "peptides['entries'] = peptides.groupby('peptide')['entry'].transform(lambda x: ', '.join(x))"
   ]
  },
  {
   "cell_type": "code",
   "execution_count": 122,
   "id": "be1f4dfa-fc84-4978-9bd1-99dbdb5dda09",
   "metadata": {},
   "outputs": [
    {
     "data": {
      "text/plain": [
       "9"
      ]
     },
     "execution_count": 122,
     "metadata": {},
     "output_type": "execute_result"
    }
   ],
   "source": [
    "len(peptides[peptides['entry'] == 'Q3B7I2-1'])"
   ]
  },
  {
   "cell_type": "code",
   "execution_count": 3,
   "id": "6d66e7ea-284d-4f89-8853-4553804cfd1f",
   "metadata": {},
   "outputs": [],
   "source": [
    "def get_gpmdb_hits(peptide):\n",
    "    pat = re.compile('\\[(.*?)\\]')\n",
    "    res = requests.get(f'http://rest.thegpm.org/1/peptide/count/seq={peptide}').text\n",
    "    \n",
    "    try:\n",
    "        return int(re.search(pat, res).group(1))\n",
    "    except AttributeError:\n",
    "        return np.nan"
   ]
  },
  {
   "cell_type": "code",
   "execution_count": 5,
   "id": "daf32c0b-81bd-4402-8f66-a88d202364fd",
   "metadata": {},
   "outputs": [
    {
     "data": {
      "text/plain": [
       "'[12]'"
      ]
     },
     "execution_count": 5,
     "metadata": {},
     "output_type": "execute_result"
    }
   ],
   "source": [
    "requests.get(f'http://rest.thegpm.org/1/peptide/count/seq=SDLCETSANHTEL').text"
   ]
  },
  {
   "cell_type": "code",
   "execution_count": 117,
   "id": "bf2a8aa0-92c2-4d9c-9f8c-0e323b1601f5",
   "metadata": {},
   "outputs": [],
   "source": [
    "#peptides['gpmdb_count'] = peptides.peptide.map(get_gpmdb_hits)"
   ]
  },
  {
   "cell_type": "code",
   "execution_count": 139,
   "id": "5756c9f7-ba7f-4393-9d31-0e218bf976c1",
   "metadata": {},
   "outputs": [],
   "source": [
    "x = requests.get('https://api.nextprot.org/entries/search/peptide?peptide=EIQSTLRER&no-variant-match=true').text"
   ]
  },
  {
   "cell_type": "code",
   "execution_count": 140,
   "id": "de688ce3-f917-45bd-b373-3db396cac42d",
   "metadata": {},
   "outputs": [],
   "source": [
    "import json"
   ]
  },
  {
   "cell_type": "code",
   "execution_count": 141,
   "id": "aac31726-2519-4fe1-a3a7-457fdd069f26",
   "metadata": {},
   "outputs": [],
   "source": [
    "y = json.loads(x)"
   ]
  },
  {
   "cell_type": "code",
   "execution_count": 142,
   "id": "3ac2ea85-9355-4760-9fd1-f09172e40604",
   "metadata": {},
   "outputs": [
    {
     "data": {
      "text/plain": [
       "[{'uniqueName': 'NX_Q2VPJ9',\n",
       "  'overview': {'history': {'proteinExistenceUniprot': {'name': 'transcript level',\n",
       "     'description': 'Evidence at transcript level',\n",
       "     'descriptionName': 'Evidence_at_transcript_level',\n",
       "     'level': 2},\n",
       "    'nextprotIntegrationDate': 1267570588727,\n",
       "    'nextprotUpdateDate': 1644986687234,\n",
       "    'uniprotIntegrationDate': 1162288800000,\n",
       "    'uniprotUpdateDate': 1632909600000,\n",
       "    'uniprotVersion': '110',\n",
       "    'lastSequenceUpdate': 1136847600000,\n",
       "    'sequenceVersion': '1',\n",
       "    'formattedNextprotUpdateDate': '2022-02-16',\n",
       "    'formattedUniprotIntegrationDate': '2006-10-31',\n",
       "    'formattedUniprotUpdateDate': '2021-09-29',\n",
       "    'formattedNextprotIntegrationDate': '2010-03-02'},\n",
       "   'families': [{'familyId': 117046,\n",
       "     'accession': 'FA-05261',\n",
       "     'name': 'LRRC75',\n",
       "     'level': 'Family',\n",
       "     'description': 'Belongs to the LRRC75 family.',\n",
       "     'region': None,\n",
       "     'parent': None}],\n",
       "   'proteinNames': [{'clazz': 'PROTEIN_NAMES',\n",
       "     'type': 'name',\n",
       "     'qualifier': 'full',\n",
       "     'id': 'PR_2901316',\n",
       "     'category': 'protein',\n",
       "     'name': 'Leucine-rich repeat-containing protein 75B',\n",
       "     'parentId': None,\n",
       "     'mainEntityName': None,\n",
       "     'synonyms': [{'clazz': 'PROTEIN_NAMES',\n",
       "       'type': 'name',\n",
       "       'qualifier': 'full',\n",
       "       'id': 'PR_1724092',\n",
       "       'category': 'protein',\n",
       "       'name': 'Leucine-rich repeat-containing protein FAM211B',\n",
       "       'parentId': 'PR_2901316',\n",
       "       'mainEntityName': None,\n",
       "       'synonyms': [],\n",
       "       'otherRecommendedEntityNames': [],\n",
       "       'main': False,\n",
       "       'composedName': 'full name',\n",
       "       'value': 'Leucine-rich repeat-containing protein FAM211B'}],\n",
       "     'otherRecommendedEntityNames': [],\n",
       "     'main': True,\n",
       "     'composedName': 'full name',\n",
       "     'value': 'Leucine-rich repeat-containing protein 75B'}],\n",
       "   'geneNames': [{'clazz': 'GENE_NAMES',\n",
       "     'type': 'gene name',\n",
       "     'qualifier': None,\n",
       "     'id': 'PR_2901315',\n",
       "     'category': 'gene name',\n",
       "     'name': 'LRRC75B',\n",
       "     'parentId': None,\n",
       "     'mainEntityName': None,\n",
       "     'synonyms': [{'clazz': 'GENE_NAMES',\n",
       "       'type': 'gene name',\n",
       "       'qualifier': None,\n",
       "       'id': 'PR_1180926',\n",
       "       'category': 'gene name',\n",
       "       'name': 'C22orf36',\n",
       "       'parentId': 'PR_2901315',\n",
       "       'mainEntityName': None,\n",
       "       'synonyms': [],\n",
       "       'otherRecommendedEntityNames': [],\n",
       "       'main': False,\n",
       "       'composedName': 'gene name',\n",
       "       'value': 'C22orf36'},\n",
       "      {'clazz': 'GENE_NAMES',\n",
       "       'type': 'gene name',\n",
       "       'qualifier': None,\n",
       "       'id': 'PR_1724094',\n",
       "       'category': 'gene name',\n",
       "       'name': 'FAM211B',\n",
       "       'parentId': 'PR_2901315',\n",
       "       'mainEntityName': None,\n",
       "       'synonyms': [],\n",
       "       'otherRecommendedEntityNames': [],\n",
       "       'main': False,\n",
       "       'composedName': 'gene name',\n",
       "       'value': 'FAM211B'}],\n",
       "     'otherRecommendedEntityNames': [],\n",
       "     'main': True,\n",
       "     'composedName': 'gene name',\n",
       "     'value': 'LRRC75B'}],\n",
       "   'functionalRegionNames': [],\n",
       "   'cleavedRegionNames': [],\n",
       "   'additionalNames': [],\n",
       "   'isoformNames': [{'clazz': None,\n",
       "     'type': 'name',\n",
       "     'qualifier': None,\n",
       "     'id': None,\n",
       "     'category': None,\n",
       "     'name': 'Iso 1',\n",
       "     'parentId': None,\n",
       "     'mainEntityName': None,\n",
       "     'synonyms': [],\n",
       "     'otherRecommendedEntityNames': [],\n",
       "     'main': True,\n",
       "     'composedName': 'name',\n",
       "     'value': 'Iso 1'},\n",
       "    {'clazz': None,\n",
       "     'type': 'name',\n",
       "     'qualifier': None,\n",
       "     'id': None,\n",
       "     'category': None,\n",
       "     'name': 'Iso 2',\n",
       "     'parentId': None,\n",
       "     'mainEntityName': None,\n",
       "     'synonyms': [],\n",
       "     'otherRecommendedEntityNames': [],\n",
       "     'main': True,\n",
       "     'composedName': 'name',\n",
       "     'value': 'Iso 2'}],\n",
       "   'alternativeProteinNames': [{'clazz': 'PROTEIN_NAMES',\n",
       "     'type': 'name',\n",
       "     'qualifier': 'full',\n",
       "     'id': 'PR_1724092',\n",
       "     'category': 'protein',\n",
       "     'name': 'Leucine-rich repeat-containing protein FAM211B',\n",
       "     'parentId': 'PR_2901316',\n",
       "     'mainEntityName': None,\n",
       "     'synonyms': [],\n",
       "     'otherRecommendedEntityNames': [],\n",
       "     'main': False,\n",
       "     'composedName': 'full name',\n",
       "     'value': 'Leucine-rich repeat-containing protein FAM211B'}],\n",
       "   'proteinExistence': {'name': 'transcript level',\n",
       "    'description': 'Evidence at transcript level',\n",
       "    'descriptionName': 'Evidence_at_transcript_level',\n",
       "    'level': 2},\n",
       "   'recommendedProteinName': {'clazz': 'PROTEIN_NAMES',\n",
       "    'type': 'name',\n",
       "    'qualifier': 'full',\n",
       "    'id': 'PR_2901316',\n",
       "    'category': 'protein',\n",
       "    'name': 'Leucine-rich repeat-containing protein 75B',\n",
       "    'parentId': None,\n",
       "    'mainEntityName': None,\n",
       "    'synonyms': [],\n",
       "    'otherRecommendedEntityNames': [],\n",
       "    'main': True,\n",
       "    'composedName': 'full name',\n",
       "    'value': 'Leucine-rich repeat-containing protein 75B'},\n",
       "   'mainProteinName': 'Leucine-rich repeat-containing protein 75B',\n",
       "   'mainGeneName': 'LRRC75B'},\n",
       "  'annotationsByCategory': {'pepx-virtual-annotation': [{'subjectComponents': None,\n",
       "     'annotationName': None,\n",
       "     'annotationHash': None,\n",
       "     'isoformsDisplayedAsSpecific': None,\n",
       "     'synonyms': None,\n",
       "     'uniqueName': None,\n",
       "     'cvTermAccessionCode': None,\n",
       "     'cvTermName': 'EIQSTLRER',\n",
       "     'cvTermType': None,\n",
       "     'cvTermDescription': None,\n",
       "     'cvApiName': None,\n",
       "     'description': 'This virtual annotation describes the peptide EIQSTLRER found in NX_Q2VPJ9-1',\n",
       "     'category': 'pepx-virtual-annotation',\n",
       "     'qualityQualifier': None,\n",
       "     'annotationId': 0,\n",
       "     'variant': None,\n",
       "     'synonym': None,\n",
       "     'evidences': None,\n",
       "     'indirectEvidenceRefList': None,\n",
       "     'targetingIsoformsMap': {'NX_Q2VPJ9-1': {'annotationId': 0,\n",
       "       'firstPosition': None,\n",
       "       'lastPosition': None,\n",
       "       'isoformAccession': 'NX_Q2VPJ9-1',\n",
       "       'specificity': None,\n",
       "       'name': None,\n",
       "       'hgvs': None,\n",
       "       'positional': False,\n",
       "       'isoformName': 'NX_Q2VPJ9-1'}},\n",
       "     'properties': [{'annotationId': 0,\n",
       "       'valueType': None,\n",
       "       'name': 'is proteotypic',\n",
       "       'value': 'Y',\n",
       "       'accession': None},\n",
       "      {'annotationId': 0,\n",
       "       'valueType': None,\n",
       "       'name': 'peptide unicity',\n",
       "       'value': 'UNIQUE',\n",
       "       'accession': None},\n",
       "      {'annotationId': 0,\n",
       "       'valueType': None,\n",
       "       'name': 'peptide unicity with variants',\n",
       "       'value': 'UNIQUE',\n",
       "       'accession': None}],\n",
       "     'bioObject': None,\n",
       "     'parentXref': None,\n",
       "     'proteoformAnnotation': False,\n",
       "     'wildTypeAnnotation': True,\n",
       "     'categoryName': 'PepxVirtualAnnotation',\n",
       "     'rdfPredicate': 'pepxVirtualAnnotation',\n",
       "     'parentPredicates': ['virtualAnnotation'],\n",
       "     'relatedAnnotationNames': None,\n",
       "     'apicategory': 'PEPX_VIRTUAL_ANNOTATION',\n",
       "     'apiTypeName': 'PepxVirtualAnnotation',\n",
       "     'propertiesMap': {'is proteotypic': [{'annotationId': 0,\n",
       "        'valueType': None,\n",
       "        'name': 'is proteotypic',\n",
       "        'value': 'Y',\n",
       "        'accession': None}],\n",
       "      'peptide unicity': [{'annotationId': 0,\n",
       "        'valueType': None,\n",
       "        'name': 'peptide unicity',\n",
       "        'value': 'UNIQUE',\n",
       "        'accession': None}],\n",
       "      'peptide unicity with variants': [{'annotationId': 0,\n",
       "        'valueType': None,\n",
       "        'name': 'peptide unicity with variants',\n",
       "        'value': 'UNIQUE',\n",
       "        'accession': None}]}},\n",
       "    {'subjectComponents': None,\n",
       "     'annotationName': None,\n",
       "     'annotationHash': None,\n",
       "     'isoformsDisplayedAsSpecific': None,\n",
       "     'synonyms': None,\n",
       "     'uniqueName': None,\n",
       "     'cvTermAccessionCode': None,\n",
       "     'cvTermName': 'EIQSTLRER',\n",
       "     'cvTermType': None,\n",
       "     'cvTermDescription': None,\n",
       "     'cvApiName': None,\n",
       "     'description': 'This virtual annotation describes the peptide EIQSTLRER found in NX_Q2VPJ9-2',\n",
       "     'category': 'pepx-virtual-annotation',\n",
       "     'qualityQualifier': None,\n",
       "     'annotationId': 0,\n",
       "     'variant': None,\n",
       "     'synonym': None,\n",
       "     'evidences': None,\n",
       "     'indirectEvidenceRefList': None,\n",
       "     'targetingIsoformsMap': {'NX_Q2VPJ9-2': {'annotationId': 0,\n",
       "       'firstPosition': None,\n",
       "       'lastPosition': None,\n",
       "       'isoformAccession': 'NX_Q2VPJ9-2',\n",
       "       'specificity': None,\n",
       "       'name': None,\n",
       "       'hgvs': None,\n",
       "       'positional': False,\n",
       "       'isoformName': 'NX_Q2VPJ9-2'}},\n",
       "     'properties': [{'annotationId': 0,\n",
       "       'valueType': None,\n",
       "       'name': 'is proteotypic',\n",
       "       'value': 'Y',\n",
       "       'accession': None},\n",
       "      {'annotationId': 0,\n",
       "       'valueType': None,\n",
       "       'name': 'peptide unicity',\n",
       "       'value': 'UNIQUE',\n",
       "       'accession': None},\n",
       "      {'annotationId': 0,\n",
       "       'valueType': None,\n",
       "       'name': 'peptide unicity with variants',\n",
       "       'value': 'UNIQUE',\n",
       "       'accession': None}],\n",
       "     'bioObject': None,\n",
       "     'parentXref': None,\n",
       "     'proteoformAnnotation': False,\n",
       "     'wildTypeAnnotation': True,\n",
       "     'categoryName': 'PepxVirtualAnnotation',\n",
       "     'rdfPredicate': 'pepxVirtualAnnotation',\n",
       "     'parentPredicates': ['virtualAnnotation'],\n",
       "     'relatedAnnotationNames': None,\n",
       "     'apicategory': 'PEPX_VIRTUAL_ANNOTATION',\n",
       "     'apiTypeName': 'PepxVirtualAnnotation',\n",
       "     'propertiesMap': {'is proteotypic': [{'annotationId': 0,\n",
       "        'valueType': None,\n",
       "        'name': 'is proteotypic',\n",
       "        'value': 'Y',\n",
       "        'accession': None}],\n",
       "      'peptide unicity': [{'annotationId': 0,\n",
       "        'valueType': None,\n",
       "        'name': 'peptide unicity',\n",
       "        'value': 'UNIQUE',\n",
       "        'accession': None}],\n",
       "      'peptide unicity with variants': [{'annotationId': 0,\n",
       "        'valueType': None,\n",
       "        'name': 'peptide unicity with variants',\n",
       "        'value': 'UNIQUE',\n",
       "        'accession': None}]}}]},\n",
       "  'uniprotName': 'Q2VPJ9'}]"
      ]
     },
     "execution_count": 142,
     "metadata": {},
     "output_type": "execute_result"
    }
   ],
   "source": [
    "y"
   ]
  },
  {
   "cell_type": "code",
   "execution_count": 143,
   "id": "dd5f284a-13b7-4032-8b82-b7367f152631",
   "metadata": {},
   "outputs": [
    {
     "name": "stdout",
     "output_type": "stream",
     "text": [
      "NX_Q2VPJ9-1\n",
      "NX_Q2VPJ9-2\n"
     ]
    }
   ],
   "source": [
    "for i in y[0]['annotationsByCategory']['pepx-virtual-annotation']:\n",
    "    for j in i['targetingIsoformsMap']:\n",
    "        print(j)"
   ]
  },
  {
   "cell_type": "code",
   "execution_count": 116,
   "id": "481fdbc6-6959-40aa-bf86-581113254224",
   "metadata": {},
   "outputs": [],
   "source": [
    "#y[0]"
   ]
  },
  {
   "cell_type": "code",
   "execution_count": 147,
   "id": "68520ea6-ff1e-4097-8ad3-bde1e9095e47",
   "metadata": {},
   "outputs": [],
   "source": [
    "def check_nextprot_unique(peptide):\n",
    "    matches = []\n",
    "    res = requests.get(f'https://api.nextprot.org/entries/search/peptide?peptide={peptide}&no-variant-match=true').text\n",
    "    \n",
    "    res = json.loads(res)\n",
    "    for i in res:\n",
    "        for j in i['annotationsByCategory']['pepx-virtual-annotation']:\n",
    "            for l in j['targetingIsoformsMap']:\n",
    "                matches.append(l[3:])\n",
    "            \n",
    "    if len(matches) == 1:\n",
    "        return str(matches[0])\n",
    "    else:\n",
    "        matches.sort()\n",
    "        return ', '.join(matches)"
   ]
  },
  {
   "cell_type": "code",
   "execution_count": 148,
   "id": "ad9a0453-d8d0-4506-950a-272224e0045e",
   "metadata": {},
   "outputs": [
    {
     "data": {
      "text/plain": [
       "'Q2VPJ9-1, Q2VPJ9-2'"
      ]
     },
     "execution_count": 148,
     "metadata": {},
     "output_type": "execute_result"
    }
   ],
   "source": [
    "check_nextprot_unique('EIQSTLRER')"
   ]
  },
  {
   "cell_type": "code",
   "execution_count": 84,
   "id": "aa050138-efa7-49d7-aa2c-300479cab7ae",
   "metadata": {},
   "outputs": [],
   "source": [
    "def get_nextprot_peptides(isoform):\n",
    "    sequences = []\n",
    "    miscleavages = []\n",
    "    \n",
    "    res = requests.get(f'https://api.nextprot.org/digestion/NX_{isoform}?protease=TRYPSIN&minpeplen=7&maxpeplen=25&maxmissedcleavages=1').text\n",
    "    \n",
    "    res = json.loads(res)\n",
    "    \n",
    "    for i in res:\n",
    "        sequences.append(i['sequence'])\n",
    "        miscleavages.append(i['producedWithMiscleavageCount'])\n",
    "        \n",
    "    return pd.DataFrame(data={'uniprot_isoform': isoform, 'peptide': sequences, 'miscleavages': miscleavages})"
   ]
  },
  {
   "cell_type": "code",
   "execution_count": 73,
   "id": "efe9923c-5253-48a4-a12c-60e281a9d4ae",
   "metadata": {},
   "outputs": [],
   "source": [
    "z = json.loads(requests.get(f'https://api.nextprot.org/digestion/NX_Q6IPT4-1?protease=TRYPSIN&minpeplen=7&maxpeplen=25&maxmissedcleavages=1').text)"
   ]
  },
  {
   "cell_type": "code",
   "execution_count": 126,
   "id": "8e72bbe3-4ada-48ad-8049-4259b7fadf02",
   "metadata": {},
   "outputs": [],
   "source": [
    "#get_nextprot_peptides('Q6IPT4-1')"
   ]
  },
  {
   "cell_type": "code",
   "execution_count": 83,
   "id": "a88168dc-427f-41ee-bafe-775a16834c7e",
   "metadata": {},
   "outputs": [
    {
     "data": {
      "text/plain": [
       "[{'sequence': 'TFFVLSQESSSEQLPWSYQEK', 'producedWithMiscleavageCount': 0},\n",
       " {'sequence': 'YVESWRVGDTAFWR', 'producedWithMiscleavageCount': 1},\n",
       " {'sequence': 'WEAAQASK', 'producedWithMiscleavageCount': 0},\n",
       " {'sequence': 'ELVSCCR', 'producedWithMiscleavageCount': 0},\n",
       " {'sequence': 'CYQMGLMSR', 'producedWithMiscleavageCount': 0},\n",
       " {'sequence': 'AYTPISPANAEGYFEVLIK', 'producedWithMiscleavageCount': 0},\n",
       " {'sequence': 'THFGHLGQDLIKELVSCCR', 'producedWithMiscleavageCount': 1},\n",
       " {'sequence': 'GPESQSCPSK', 'producedWithMiscleavageCount': 0},\n",
       " {'sequence': 'VRFALPGNSQLGLRPGQHLILR', 'producedWithMiscleavageCount': 1},\n",
       " {'sequence': 'ELVSCCRR', 'producedWithMiscleavageCount': 1},\n",
       " {'sequence': 'CYQMGLMSRYVESWR', 'producedWithMiscleavageCount': 1},\n",
       " {'sequence': 'DIARCLLCAGLTEDSYFLF', 'producedWithMiscleavageCount': 1},\n",
       " {'sequence': 'RKPFALVCGSAEFTK', 'producedWithMiscleavageCount': 1},\n",
       " {'sequence': 'VGDTAFWR', 'producedWithMiscleavageCount': 0},\n",
       " {'sequence': 'TFESIYLK', 'producedWithMiscleavageCount': 0},\n",
       " {'sequence': 'KPFALVCGSAEFTK', 'producedWithMiscleavageCount': 0},\n",
       " {'sequence': 'KPFALVCGSAEFTKDIAR', 'producedWithMiscleavageCount': 1},\n",
       " {'sequence': 'TFLQEQARFWNVR', 'producedWithMiscleavageCount': 1},\n",
       " {'sequence': 'TFLQEQAR', 'producedWithMiscleavageCount': 0},\n",
       " {'sequence': 'DLARWEAAQASK', 'producedWithMiscleavageCount': 1},\n",
       " {'sequence': 'SLLRGPESQSCPSK', 'producedWithMiscleavageCount': 1},\n",
       " {'sequence': 'CLLCAGLTEDSYFLF', 'producedWithMiscleavageCount': 0},\n",
       " {'sequence': 'THFGHLGQDLIK', 'producedWithMiscleavageCount': 0},\n",
       " {'sequence': 'FALPGNSQLGLRPGQHLILR', 'producedWithMiscleavageCount': 0},\n",
       " {'sequence': 'LNPETFVAFCIIAMDR', 'producedWithMiscleavageCount': 0},\n",
       " {'sequence': 'LTKDTYR', 'producedWithMiscleavageCount': 1},\n",
       " {'sequence': 'GIVDDLEIQR', 'producedWithMiscleavageCount': 0},\n",
       " {'sequence': 'LNPETFVAFCIIAMDRLTK', 'producedWithMiscleavageCount': 1},\n",
       " {'sequence': 'TFESIYLKTFLQEQAR', 'producedWithMiscleavageCount': 1},\n",
       " {'sequence': 'WEAAQASKDR', 'producedWithMiscleavageCount': 1}]"
      ]
     },
     "execution_count": 83,
     "metadata": {},
     "output_type": "execute_result"
    }
   ],
   "source": [
    "z"
   ]
  },
  {
   "cell_type": "code",
   "execution_count": 89,
   "id": "0140ccfe-6239-437f-a72c-b4bb7199be07",
   "metadata": {},
   "outputs": [],
   "source": [
    "missing2 = pd.read_excel('../reports/missing_hek_select_20220518.xlsx', index_col=[0,1,2,3]).reset_index()"
   ]
  },
  {
   "cell_type": "code",
   "execution_count": 92,
   "id": "1b8b4e96-255e-4008-b026-c16050c57456",
   "metadata": {},
   "outputs": [],
   "source": [
    "missing3 = missing2[missing2['uniprot_isoform'].isin(['Q3B7I2-1', 'Q6IPT4-1', 'Q6IPT4-4', 'Q2VPJ9-1', 'Q8NHV5-1', 'Q8N819-3', 'Q9Y6U7-1', 'Q6ZRR5-1', 'Q6ZRR5-3', 'Q6ZRR5-4', 'Q6P7N7-1', 'Q96FV3-2', 'Q96FV3-3', 'Q96FV3-4'])]"
   ]
  },
  {
   "cell_type": "code",
   "execution_count": 111,
   "id": "d8a27332-d82d-4f3f-a772-bc69d8445e68",
   "metadata": {},
   "outputs": [],
   "source": [
    "isoforms = [\n",
    "    'Q3B7I2-1', 'Q6IPT4-1', 'Q6IPT4-4', 'Q2VPJ9-1', 'Q8NHV5-1', \n",
    "    'Q8N819-3', 'Q9Y6U7-1', 'Q6ZRR5-1', 'Q6ZRR5-3', 'Q6ZRR5-4', \n",
    "    'Q6P7N7-1', 'Q96FV3-2', 'Q96FV3-3', 'Q96FV3-4'\n",
    "]\n",
    "\n",
    "peptide_df = pd.DataFrame()\n",
    "\n",
    "for i in isoforms:\n",
    "    peptide_df = pd.concat([peptide_df, get_nextprot_peptides(i)])"
   ]
  },
  {
   "cell_type": "code",
   "execution_count": 112,
   "id": "0566ba99-ef48-4d65-92e6-f99abd530ae6",
   "metadata": {},
   "outputs": [
    {
     "data": {
      "text/html": [
       "<div>\n",
       "<style scoped>\n",
       "    .dataframe tbody tr th:only-of-type {\n",
       "        vertical-align: middle;\n",
       "    }\n",
       "\n",
       "    .dataframe tbody tr th {\n",
       "        vertical-align: top;\n",
       "    }\n",
       "\n",
       "    .dataframe thead th {\n",
       "        text-align: right;\n",
       "    }\n",
       "</style>\n",
       "<table border=\"1\" class=\"dataframe\">\n",
       "  <thead>\n",
       "    <tr style=\"text-align: right;\">\n",
       "      <th></th>\n",
       "      <th>uniprot_isoform</th>\n",
       "      <th>peptide</th>\n",
       "      <th>miscleavages</th>\n",
       "    </tr>\n",
       "  </thead>\n",
       "  <tbody>\n",
       "    <tr>\n",
       "      <th>0</th>\n",
       "      <td>Q3B7I2-1</td>\n",
       "      <td>SDLCETSANHTEL</td>\n",
       "      <td>0</td>\n",
       "    </tr>\n",
       "    <tr>\n",
       "      <th>1</th>\n",
       "      <td>Q3B7I2-1</td>\n",
       "      <td>KLYFYSDAYRPLK</td>\n",
       "      <td>1</td>\n",
       "    </tr>\n",
       "    <tr>\n",
       "      <th>2</th>\n",
       "      <td>Q3B7I2-1</td>\n",
       "      <td>LYFYSDAYRPLK</td>\n",
       "      <td>0</td>\n",
       "    </tr>\n",
       "    <tr>\n",
       "      <th>3</th>\n",
       "      <td>Q3B7I2-1</td>\n",
       "      <td>LEEDPVTK</td>\n",
       "      <td>0</td>\n",
       "    </tr>\n",
       "    <tr>\n",
       "      <th>4</th>\n",
       "      <td>Q3B7I2-1</td>\n",
       "      <td>GDKIYQEFK</td>\n",
       "      <td>1</td>\n",
       "    </tr>\n",
       "    <tr>\n",
       "      <th>...</th>\n",
       "      <td>...</td>\n",
       "      <td>...</td>\n",
       "      <td>...</td>\n",
       "    </tr>\n",
       "    <tr>\n",
       "      <th>17</th>\n",
       "      <td>Q96FV3-4</td>\n",
       "      <td>LELEQQGFIHTK</td>\n",
       "      <td>0</td>\n",
       "    </tr>\n",
       "    <tr>\n",
       "      <th>18</th>\n",
       "      <td>Q96FV3-4</td>\n",
       "      <td>HVFFGLGGLYPEPTFKNW</td>\n",
       "      <td>1</td>\n",
       "    </tr>\n",
       "    <tr>\n",
       "      <th>19</th>\n",
       "      <td>Q96FV3-4</td>\n",
       "      <td>HQHFQEPEVGCCGK</td>\n",
       "      <td>0</td>\n",
       "    </tr>\n",
       "    <tr>\n",
       "      <th>20</th>\n",
       "      <td>Q96FV3-4</td>\n",
       "      <td>LKLELEQQGFIHTK</td>\n",
       "      <td>1</td>\n",
       "    </tr>\n",
       "    <tr>\n",
       "      <th>21</th>\n",
       "      <td>Q96FV3-4</td>\n",
       "      <td>AYRDDIDLQNLIDFAQEYWSCCGAR</td>\n",
       "      <td>1</td>\n",
       "    </tr>\n",
       "  </tbody>\n",
       "</table>\n",
       "<p>255 rows × 3 columns</p>\n",
       "</div>"
      ],
      "text/plain": [
       "   uniprot_isoform                    peptide  miscleavages\n",
       "0         Q3B7I2-1              SDLCETSANHTEL             0\n",
       "1         Q3B7I2-1              KLYFYSDAYRPLK             1\n",
       "2         Q3B7I2-1               LYFYSDAYRPLK             0\n",
       "3         Q3B7I2-1                   LEEDPVTK             0\n",
       "4         Q3B7I2-1                  GDKIYQEFK             1\n",
       "..             ...                        ...           ...\n",
       "17        Q96FV3-4               LELEQQGFIHTK             0\n",
       "18        Q96FV3-4         HVFFGLGGLYPEPTFKNW             1\n",
       "19        Q96FV3-4             HQHFQEPEVGCCGK             0\n",
       "20        Q96FV3-4             LKLELEQQGFIHTK             1\n",
       "21        Q96FV3-4  AYRDDIDLQNLIDFAQEYWSCCGAR             1\n",
       "\n",
       "[255 rows x 3 columns]"
      ]
     },
     "execution_count": 112,
     "metadata": {},
     "output_type": "execute_result"
    }
   ],
   "source": [
    "df"
   ]
  },
  {
   "cell_type": "code",
   "execution_count": 123,
   "id": "1d0e767e-78eb-4f19-a990-ee16372bb45a",
   "metadata": {},
   "outputs": [],
   "source": [
    "df['gene'] = df['uniprot_isoform'].map(ensembl_annotation.drop_duplicates('uniprot_isoform')\n",
    "                                       .set_index('uniprot_isoform')['ensembl_gene_name'])"
   ]
  },
  {
   "cell_type": "code",
   "execution_count": 124,
   "id": "8f195b5a-eddf-49d4-8289-c775ade77de1",
   "metadata": {},
   "outputs": [],
   "source": [
    "df['entries'] = df.groupby('peptide')['uniprot_isoform'].transform(lambda x: ', '.join(x))"
   ]
  },
  {
   "cell_type": "code",
   "execution_count": 131,
   "id": "6d5f11ed-e690-40d4-a8a1-ae45f839751e",
   "metadata": {},
   "outputs": [],
   "source": [
    "df = df.drop_duplicates('peptide')"
   ]
  },
  {
   "cell_type": "code",
   "execution_count": 133,
   "id": "3c92239a-bd65-48c5-9233-cc07d6a1fdef",
   "metadata": {},
   "outputs": [
    {
     "name": "stderr",
     "output_type": "stream",
     "text": [
      "C:\\Users\\Dynev\\AppData\\Local\\Temp\\ipykernel_12000\\3311982611.py:1: SettingWithCopyWarning: \n",
      "A value is trying to be set on a copy of a slice from a DataFrame.\n",
      "Try using .loc[row_indexer,col_indexer] = value instead\n",
      "\n",
      "See the caveats in the documentation: https://pandas.pydata.org/pandas-docs/stable/user_guide/indexing.html#returning-a-view-versus-a-copy\n",
      "  df['uniprot_base'] = df['uniprot_isoform'].map(lambda x: x[:x.index('-')])\n"
     ]
    }
   ],
   "source": [
    "df['uniprot_base'] = df['uniprot_isoform'].map(lambda x: x[:x.index('-')])"
   ]
  },
  {
   "cell_type": "code",
   "execution_count": 134,
   "id": "83222f2e-0715-4997-9dc4-9b8ae6e1c33b",
   "metadata": {},
   "outputs": [
    {
     "data": {
      "text/html": [
       "<div>\n",
       "<style scoped>\n",
       "    .dataframe tbody tr th:only-of-type {\n",
       "        vertical-align: middle;\n",
       "    }\n",
       "\n",
       "    .dataframe tbody tr th {\n",
       "        vertical-align: top;\n",
       "    }\n",
       "\n",
       "    .dataframe thead th {\n",
       "        text-align: right;\n",
       "    }\n",
       "</style>\n",
       "<table border=\"1\" class=\"dataframe\">\n",
       "  <thead>\n",
       "    <tr style=\"text-align: right;\">\n",
       "      <th></th>\n",
       "      <th>uniprot_isoform</th>\n",
       "      <th>peptide</th>\n",
       "      <th>miscleavages</th>\n",
       "      <th>gene</th>\n",
       "      <th>entries</th>\n",
       "      <th>uniprot_base</th>\n",
       "    </tr>\n",
       "  </thead>\n",
       "  <tbody>\n",
       "    <tr>\n",
       "      <th>0</th>\n",
       "      <td>Q3B7I2-1</td>\n",
       "      <td>SDLCETSANHTEL</td>\n",
       "      <td>0</td>\n",
       "      <td>CNPY1</td>\n",
       "      <td>Q3B7I2-1</td>\n",
       "      <td>Q3B7I2</td>\n",
       "    </tr>\n",
       "    <tr>\n",
       "      <th>1</th>\n",
       "      <td>Q3B7I2-1</td>\n",
       "      <td>KLYFYSDAYRPLK</td>\n",
       "      <td>1</td>\n",
       "      <td>CNPY1</td>\n",
       "      <td>Q3B7I2-1</td>\n",
       "      <td>Q3B7I2</td>\n",
       "    </tr>\n",
       "    <tr>\n",
       "      <th>2</th>\n",
       "      <td>Q3B7I2-1</td>\n",
       "      <td>LYFYSDAYRPLK</td>\n",
       "      <td>0</td>\n",
       "      <td>CNPY1</td>\n",
       "      <td>Q3B7I2-1</td>\n",
       "      <td>Q3B7I2</td>\n",
       "    </tr>\n",
       "    <tr>\n",
       "      <th>3</th>\n",
       "      <td>Q3B7I2-1</td>\n",
       "      <td>LEEDPVTK</td>\n",
       "      <td>0</td>\n",
       "      <td>CNPY1</td>\n",
       "      <td>Q3B7I2-1</td>\n",
       "      <td>Q3B7I2</td>\n",
       "    </tr>\n",
       "    <tr>\n",
       "      <th>4</th>\n",
       "      <td>Q3B7I2-1</td>\n",
       "      <td>GDKIYQEFK</td>\n",
       "      <td>1</td>\n",
       "      <td>CNPY1</td>\n",
       "      <td>Q3B7I2-1</td>\n",
       "      <td>Q3B7I2</td>\n",
       "    </tr>\n",
       "    <tr>\n",
       "      <th>...</th>\n",
       "      <td>...</td>\n",
       "      <td>...</td>\n",
       "      <td>...</td>\n",
       "      <td>...</td>\n",
       "      <td>...</td>\n",
       "      <td>...</td>\n",
       "    </tr>\n",
       "    <tr>\n",
       "      <th>14</th>\n",
       "      <td>Q96FV3-3</td>\n",
       "      <td>GPNDWNLNIYFNCTDLNPSR</td>\n",
       "      <td>0</td>\n",
       "      <td>TSPAN17</td>\n",
       "      <td>Q96FV3-3, Q96FV3-4</td>\n",
       "      <td>Q96FV3</td>\n",
       "    </tr>\n",
       "    <tr>\n",
       "      <th>18</th>\n",
       "      <td>Q96FV3-3</td>\n",
       "      <td>AYRDDIDLQNLIDFAQEYWSCCGAR</td>\n",
       "      <td>1</td>\n",
       "      <td>TSPAN17</td>\n",
       "      <td>Q96FV3-3, Q96FV3-4</td>\n",
       "      <td>Q96FV3</td>\n",
       "    </tr>\n",
       "    <tr>\n",
       "      <th>11</th>\n",
       "      <td>Q96FV3-4</td>\n",
       "      <td>HVFFGLGGLYPEPTFK</td>\n",
       "      <td>0</td>\n",
       "      <td>TSPAN17</td>\n",
       "      <td>Q96FV3-4</td>\n",
       "      <td>Q96FV3</td>\n",
       "    </tr>\n",
       "    <tr>\n",
       "      <th>13</th>\n",
       "      <td>Q96FV3-4</td>\n",
       "      <td>AVKANWSK</td>\n",
       "      <td>1</td>\n",
       "      <td>TSPAN17</td>\n",
       "      <td>Q96FV3-4</td>\n",
       "      <td>Q96FV3</td>\n",
       "    </tr>\n",
       "    <tr>\n",
       "      <th>18</th>\n",
       "      <td>Q96FV3-4</td>\n",
       "      <td>HVFFGLGGLYPEPTFKNW</td>\n",
       "      <td>1</td>\n",
       "      <td>TSPAN17</td>\n",
       "      <td>Q96FV3-4</td>\n",
       "      <td>Q96FV3</td>\n",
       "    </tr>\n",
       "  </tbody>\n",
       "</table>\n",
       "<p>181 rows × 6 columns</p>\n",
       "</div>"
      ],
      "text/plain": [
       "   uniprot_isoform                    peptide  miscleavages     gene  \\\n",
       "0         Q3B7I2-1              SDLCETSANHTEL             0    CNPY1   \n",
       "1         Q3B7I2-1              KLYFYSDAYRPLK             1    CNPY1   \n",
       "2         Q3B7I2-1               LYFYSDAYRPLK             0    CNPY1   \n",
       "3         Q3B7I2-1                   LEEDPVTK             0    CNPY1   \n",
       "4         Q3B7I2-1                  GDKIYQEFK             1    CNPY1   \n",
       "..             ...                        ...           ...      ...   \n",
       "14        Q96FV3-3       GPNDWNLNIYFNCTDLNPSR             0  TSPAN17   \n",
       "18        Q96FV3-3  AYRDDIDLQNLIDFAQEYWSCCGAR             1  TSPAN17   \n",
       "11        Q96FV3-4           HVFFGLGGLYPEPTFK             0  TSPAN17   \n",
       "13        Q96FV3-4                   AVKANWSK             1  TSPAN17   \n",
       "18        Q96FV3-4         HVFFGLGGLYPEPTFKNW             1  TSPAN17   \n",
       "\n",
       "               entries uniprot_base  \n",
       "0             Q3B7I2-1       Q3B7I2  \n",
       "1             Q3B7I2-1       Q3B7I2  \n",
       "2             Q3B7I2-1       Q3B7I2  \n",
       "3             Q3B7I2-1       Q3B7I2  \n",
       "4             Q3B7I2-1       Q3B7I2  \n",
       "..                 ...          ...  \n",
       "14  Q96FV3-3, Q96FV3-4       Q96FV3  \n",
       "18  Q96FV3-3, Q96FV3-4       Q96FV3  \n",
       "11            Q96FV3-4       Q96FV3  \n",
       "13            Q96FV3-4       Q96FV3  \n",
       "18            Q96FV3-4       Q96FV3  \n",
       "\n",
       "[181 rows x 6 columns]"
      ]
     },
     "execution_count": 134,
     "metadata": {},
     "output_type": "execute_result"
    }
   ],
   "source": [
    "df"
   ]
  },
  {
   "cell_type": "code",
   "execution_count": 149,
   "id": "6d5cf4fd-8c17-41b1-87df-755b95a44594",
   "metadata": {},
   "outputs": [
    {
     "name": "stderr",
     "output_type": "stream",
     "text": [
      "C:\\Users\\Dynev\\AppData\\Local\\Temp\\ipykernel_12000\\1486023350.py:1: SettingWithCopyWarning: \n",
      "A value is trying to be set on a copy of a slice from a DataFrame.\n",
      "Try using .loc[row_indexer,col_indexer] = value instead\n",
      "\n",
      "See the caveats in the documentation: https://pandas.pydata.org/pandas-docs/stable/user_guide/indexing.html#returning-a-view-versus-a-copy\n",
      "  df['nextprot_matches'] = df['peptide'].map(check_nextprot_unique)\n"
     ]
    }
   ],
   "source": [
    "df['nextprot_matches'] = df['peptide'].map(check_nextprot_unique)"
   ]
  },
  {
   "cell_type": "code",
   "execution_count": 103,
   "id": "3a475910-fe4a-416f-ab4a-fde43129d37d",
   "metadata": {},
   "outputs": [],
   "source": [
    "ensembl_annotation = pd.read_csv('../data/processed/ensembl_annotation_trs_uniprot_20220429.csv', low_memory=False)"
   ]
  },
  {
   "cell_type": "code",
   "execution_count": 158,
   "id": "86fda47a-36e7-4022-a7cd-d5b575e8f00e",
   "metadata": {},
   "outputs": [],
   "source": [
    "def get_multiple_bases(s: str):\n",
    "    if ', ' in s:\n",
    "        s = list({i[:i.index('-')] for i in s.split(', ')})\n",
    "        return ', '.join(sorted(s))\n",
    "    else:\n",
    "        return s[:s.index('-')]"
   ]
  },
  {
   "cell_type": "code",
   "execution_count": 159,
   "id": "132ab8dc-58a0-43df-941f-9b5ea6e8d313",
   "metadata": {},
   "outputs": [
    {
     "name": "stderr",
     "output_type": "stream",
     "text": [
      "C:\\Users\\Dynev\\AppData\\Local\\Temp\\ipykernel_12000\\1025612744.py:1: SettingWithCopyWarning: \n",
      "A value is trying to be set on a copy of a slice from a DataFrame.\n",
      "Try using .loc[row_indexer,col_indexer] = value instead\n",
      "\n",
      "See the caveats in the documentation: https://pandas.pydata.org/pandas-docs/stable/user_guide/indexing.html#returning-a-view-versus-a-copy\n",
      "  df['match_bases'] = df['nextprot_matches'].map(get_multiple_bases)\n"
     ]
    }
   ],
   "source": [
    "df['match_bases'] = df['nextprot_matches'].map(get_multiple_bases)"
   ]
  },
  {
   "cell_type": "code",
   "execution_count": 166,
   "id": "f9d67b9f-8084-4c22-8cb3-bb52dcc582f5",
   "metadata": {},
   "outputs": [
    {
     "name": "stderr",
     "output_type": "stream",
     "text": [
      "C:\\Users\\Dynev\\AppData\\Local\\Temp\\ipykernel_12000\\973953685.py:1: SettingWithCopyWarning: \n",
      "A value is trying to be set on a copy of a slice from a DataFrame.\n",
      "Try using .loc[row_indexer,col_indexer] = value instead\n",
      "\n",
      "See the caveats in the documentation: https://pandas.pydata.org/pandas-docs/stable/user_guide/indexing.html#returning-a-view-versus-a-copy\n",
      "  df['isoform_unique'] = ~df['nextprot_matches'].str.contains(', ')\n"
     ]
    }
   ],
   "source": [
    "df['isoform_unique'] = ~df['nextprot_matches'].str.contains(', ')"
   ]
  },
  {
   "cell_type": "code",
   "execution_count": 162,
   "id": "59a79621-2684-4822-9080-c222fa57dcde",
   "metadata": {},
   "outputs": [
    {
     "name": "stderr",
     "output_type": "stream",
     "text": [
      "C:\\Users\\Dynev\\AppData\\Local\\Temp\\ipykernel_12000\\3818631663.py:1: SettingWithCopyWarning: \n",
      "A value is trying to be set on a copy of a slice from a DataFrame.\n",
      "Try using .loc[row_indexer,col_indexer] = value instead\n",
      "\n",
      "See the caveats in the documentation: https://pandas.pydata.org/pandas-docs/stable/user_guide/indexing.html#returning-a-view-versus-a-copy\n",
      "  df['entry_unique'] = df['uniprot_base'] == df['match_bases']\n"
     ]
    }
   ],
   "source": [
    "df['entry_unique'] = df['uniprot_base'] == df['match_bases']"
   ]
  },
  {
   "cell_type": "code",
   "execution_count": 168,
   "id": "0e83ca0d-7e44-4e75-8376-b1462a6d64f9",
   "metadata": {},
   "outputs": [],
   "source": [
    "df = df.rename({'entries': 'uniprot_isoforms',\n",
    "                'miscleavages': 'miscleavage_count',\n",
    "                'nextprot_matches': 'nextprot_match',\n",
    "                'match_bases': 'nextprot_match_base',\n",
    "                'isoform_unique': 'unique_for_isoform',\n",
    "                'entry_unique': 'unique_for_entry'}, axis=1)"
   ]
  },
  {
   "cell_type": "code",
   "execution_count": 177,
   "id": "b494356a-3f8d-4f67-8516-1950c856b98b",
   "metadata": {},
   "outputs": [],
   "source": [
    "df = df.rename({'nextprot_match': 'nextprot_matches'}, axis=1)"
   ]
  },
  {
   "cell_type": "code",
   "execution_count": 181,
   "id": "34f94831-dec1-43a8-961f-28ef481c3014",
   "metadata": {},
   "outputs": [
    {
     "data": {
      "text/plain": [
       "nan"
      ]
     },
     "execution_count": 181,
     "metadata": {},
     "output_type": "execute_result"
    }
   ],
   "source": [
    "get_gpmdb_hits('SDLCETSANHTEL')"
   ]
  },
  {
   "cell_type": "code",
   "execution_count": 180,
   "id": "7ade0ed0-7b0e-42d6-bfba-190bdaedf8ea",
   "metadata": {},
   "outputs": [
    {
     "ename": "ConnectionError",
     "evalue": "('Connection aborted.', ConnectionAbortedError(10053, 'An established connection was aborted by the software in your host machine', None, 10053, None))",
     "output_type": "error",
     "traceback": [
      "\u001b[1;31m---------------------------------------------------------------------------\u001b[0m",
      "\u001b[1;31mConnectionAbortedError\u001b[0m                    Traceback (most recent call last)",
      "File \u001b[1;32m~\\AppData\\Local\\Programs\\Python\\Python310\\lib\\site-packages\\urllib3\\connectionpool.py:703\u001b[0m, in \u001b[0;36mHTTPConnectionPool.urlopen\u001b[1;34m(self, method, url, body, headers, retries, redirect, assert_same_host, timeout, pool_timeout, release_conn, chunked, body_pos, **response_kw)\u001b[0m\n\u001b[0;32m    702\u001b[0m \u001b[38;5;66;03m# Make the request on the httplib connection object.\u001b[39;00m\n\u001b[1;32m--> 703\u001b[0m httplib_response \u001b[38;5;241m=\u001b[39m \u001b[38;5;28;43mself\u001b[39;49m\u001b[38;5;241;43m.\u001b[39;49m\u001b[43m_make_request\u001b[49m\u001b[43m(\u001b[49m\n\u001b[0;32m    704\u001b[0m \u001b[43m    \u001b[49m\u001b[43mconn\u001b[49m\u001b[43m,\u001b[49m\n\u001b[0;32m    705\u001b[0m \u001b[43m    \u001b[49m\u001b[43mmethod\u001b[49m\u001b[43m,\u001b[49m\n\u001b[0;32m    706\u001b[0m \u001b[43m    \u001b[49m\u001b[43murl\u001b[49m\u001b[43m,\u001b[49m\n\u001b[0;32m    707\u001b[0m \u001b[43m    \u001b[49m\u001b[43mtimeout\u001b[49m\u001b[38;5;241;43m=\u001b[39;49m\u001b[43mtimeout_obj\u001b[49m\u001b[43m,\u001b[49m\n\u001b[0;32m    708\u001b[0m \u001b[43m    \u001b[49m\u001b[43mbody\u001b[49m\u001b[38;5;241;43m=\u001b[39;49m\u001b[43mbody\u001b[49m\u001b[43m,\u001b[49m\n\u001b[0;32m    709\u001b[0m \u001b[43m    \u001b[49m\u001b[43mheaders\u001b[49m\u001b[38;5;241;43m=\u001b[39;49m\u001b[43mheaders\u001b[49m\u001b[43m,\u001b[49m\n\u001b[0;32m    710\u001b[0m \u001b[43m    \u001b[49m\u001b[43mchunked\u001b[49m\u001b[38;5;241;43m=\u001b[39;49m\u001b[43mchunked\u001b[49m\u001b[43m,\u001b[49m\n\u001b[0;32m    711\u001b[0m \u001b[43m\u001b[49m\u001b[43m)\u001b[49m\n\u001b[0;32m    713\u001b[0m \u001b[38;5;66;03m# If we're going to release the connection in ``finally:``, then\u001b[39;00m\n\u001b[0;32m    714\u001b[0m \u001b[38;5;66;03m# the response doesn't need to know about the connection. Otherwise\u001b[39;00m\n\u001b[0;32m    715\u001b[0m \u001b[38;5;66;03m# it will also try to release it and we'll have a double-release\u001b[39;00m\n\u001b[0;32m    716\u001b[0m \u001b[38;5;66;03m# mess.\u001b[39;00m\n",
      "File \u001b[1;32m~\\AppData\\Local\\Programs\\Python\\Python310\\lib\\site-packages\\urllib3\\connectionpool.py:449\u001b[0m, in \u001b[0;36mHTTPConnectionPool._make_request\u001b[1;34m(self, conn, method, url, timeout, chunked, **httplib_request_kw)\u001b[0m\n\u001b[0;32m    445\u001b[0m         \u001b[38;5;28;01mexcept\u001b[39;00m \u001b[38;5;167;01mBaseException\u001b[39;00m \u001b[38;5;28;01mas\u001b[39;00m e:\n\u001b[0;32m    446\u001b[0m             \u001b[38;5;66;03m# Remove the TypeError from the exception chain in\u001b[39;00m\n\u001b[0;32m    447\u001b[0m             \u001b[38;5;66;03m# Python 3 (including for exceptions like SystemExit).\u001b[39;00m\n\u001b[0;32m    448\u001b[0m             \u001b[38;5;66;03m# Otherwise it looks like a bug in the code.\u001b[39;00m\n\u001b[1;32m--> 449\u001b[0m             \u001b[43msix\u001b[49m\u001b[38;5;241;43m.\u001b[39;49m\u001b[43mraise_from\u001b[49m\u001b[43m(\u001b[49m\u001b[43me\u001b[49m\u001b[43m,\u001b[49m\u001b[43m \u001b[49m\u001b[38;5;28;43;01mNone\u001b[39;49;00m\u001b[43m)\u001b[49m\n\u001b[0;32m    450\u001b[0m \u001b[38;5;28;01mexcept\u001b[39;00m (SocketTimeout, BaseSSLError, SocketError) \u001b[38;5;28;01mas\u001b[39;00m e:\n",
      "File \u001b[1;32m<string>:3\u001b[0m, in \u001b[0;36mraise_from\u001b[1;34m(value, from_value)\u001b[0m\n",
      "File \u001b[1;32m~\\AppData\\Local\\Programs\\Python\\Python310\\lib\\site-packages\\urllib3\\connectionpool.py:444\u001b[0m, in \u001b[0;36mHTTPConnectionPool._make_request\u001b[1;34m(self, conn, method, url, timeout, chunked, **httplib_request_kw)\u001b[0m\n\u001b[0;32m    443\u001b[0m \u001b[38;5;28;01mtry\u001b[39;00m:\n\u001b[1;32m--> 444\u001b[0m     httplib_response \u001b[38;5;241m=\u001b[39m \u001b[43mconn\u001b[49m\u001b[38;5;241;43m.\u001b[39;49m\u001b[43mgetresponse\u001b[49m\u001b[43m(\u001b[49m\u001b[43m)\u001b[49m\n\u001b[0;32m    445\u001b[0m \u001b[38;5;28;01mexcept\u001b[39;00m \u001b[38;5;167;01mBaseException\u001b[39;00m \u001b[38;5;28;01mas\u001b[39;00m e:\n\u001b[0;32m    446\u001b[0m     \u001b[38;5;66;03m# Remove the TypeError from the exception chain in\u001b[39;00m\n\u001b[0;32m    447\u001b[0m     \u001b[38;5;66;03m# Python 3 (including for exceptions like SystemExit).\u001b[39;00m\n\u001b[0;32m    448\u001b[0m     \u001b[38;5;66;03m# Otherwise it looks like a bug in the code.\u001b[39;00m\n",
      "File \u001b[1;32m~\\AppData\\Local\\Programs\\Python\\Python310\\lib\\http\\client.py:1374\u001b[0m, in \u001b[0;36mHTTPConnection.getresponse\u001b[1;34m(self)\u001b[0m\n\u001b[0;32m   1373\u001b[0m \u001b[38;5;28;01mtry\u001b[39;00m:\n\u001b[1;32m-> 1374\u001b[0m     \u001b[43mresponse\u001b[49m\u001b[38;5;241;43m.\u001b[39;49m\u001b[43mbegin\u001b[49m\u001b[43m(\u001b[49m\u001b[43m)\u001b[49m\n\u001b[0;32m   1375\u001b[0m \u001b[38;5;28;01mexcept\u001b[39;00m \u001b[38;5;167;01mConnectionError\u001b[39;00m:\n",
      "File \u001b[1;32m~\\AppData\\Local\\Programs\\Python\\Python310\\lib\\http\\client.py:318\u001b[0m, in \u001b[0;36mHTTPResponse.begin\u001b[1;34m(self)\u001b[0m\n\u001b[0;32m    317\u001b[0m \u001b[38;5;28;01mwhile\u001b[39;00m \u001b[38;5;28;01mTrue\u001b[39;00m:\n\u001b[1;32m--> 318\u001b[0m     version, status, reason \u001b[38;5;241m=\u001b[39m \u001b[38;5;28;43mself\u001b[39;49m\u001b[38;5;241;43m.\u001b[39;49m\u001b[43m_read_status\u001b[49m\u001b[43m(\u001b[49m\u001b[43m)\u001b[49m\n\u001b[0;32m    319\u001b[0m     \u001b[38;5;28;01mif\u001b[39;00m status \u001b[38;5;241m!=\u001b[39m CONTINUE:\n",
      "File \u001b[1;32m~\\AppData\\Local\\Programs\\Python\\Python310\\lib\\http\\client.py:279\u001b[0m, in \u001b[0;36mHTTPResponse._read_status\u001b[1;34m(self)\u001b[0m\n\u001b[0;32m    278\u001b[0m \u001b[38;5;28;01mdef\u001b[39;00m \u001b[38;5;21m_read_status\u001b[39m(\u001b[38;5;28mself\u001b[39m):\n\u001b[1;32m--> 279\u001b[0m     line \u001b[38;5;241m=\u001b[39m \u001b[38;5;28mstr\u001b[39m(\u001b[38;5;28;43mself\u001b[39;49m\u001b[38;5;241;43m.\u001b[39;49m\u001b[43mfp\u001b[49m\u001b[38;5;241;43m.\u001b[39;49m\u001b[43mreadline\u001b[49m\u001b[43m(\u001b[49m\u001b[43m_MAXLINE\u001b[49m\u001b[43m \u001b[49m\u001b[38;5;241;43m+\u001b[39;49m\u001b[43m \u001b[49m\u001b[38;5;241;43m1\u001b[39;49m\u001b[43m)\u001b[49m, \u001b[38;5;124m\"\u001b[39m\u001b[38;5;124miso-8859-1\u001b[39m\u001b[38;5;124m\"\u001b[39m)\n\u001b[0;32m    280\u001b[0m     \u001b[38;5;28;01mif\u001b[39;00m \u001b[38;5;28mlen\u001b[39m(line) \u001b[38;5;241m>\u001b[39m _MAXLINE:\n",
      "File \u001b[1;32m~\\AppData\\Local\\Programs\\Python\\Python310\\lib\\socket.py:705\u001b[0m, in \u001b[0;36mSocketIO.readinto\u001b[1;34m(self, b)\u001b[0m\n\u001b[0;32m    704\u001b[0m \u001b[38;5;28;01mtry\u001b[39;00m:\n\u001b[1;32m--> 705\u001b[0m     \u001b[38;5;28;01mreturn\u001b[39;00m \u001b[38;5;28;43mself\u001b[39;49m\u001b[38;5;241;43m.\u001b[39;49m\u001b[43m_sock\u001b[49m\u001b[38;5;241;43m.\u001b[39;49m\u001b[43mrecv_into\u001b[49m\u001b[43m(\u001b[49m\u001b[43mb\u001b[49m\u001b[43m)\u001b[49m\n\u001b[0;32m    706\u001b[0m \u001b[38;5;28;01mexcept\u001b[39;00m timeout:\n",
      "\u001b[1;31mConnectionAbortedError\u001b[0m: [WinError 10053] An established connection was aborted by the software in your host machine",
      "\nDuring handling of the above exception, another exception occurred:\n",
      "\u001b[1;31mProtocolError\u001b[0m                             Traceback (most recent call last)",
      "File \u001b[1;32m~\\AppData\\Local\\Programs\\Python\\Python310\\lib\\site-packages\\requests\\adapters.py:440\u001b[0m, in \u001b[0;36mHTTPAdapter.send\u001b[1;34m(self, request, stream, timeout, verify, cert, proxies)\u001b[0m\n\u001b[0;32m    439\u001b[0m \u001b[38;5;28;01mif\u001b[39;00m \u001b[38;5;129;01mnot\u001b[39;00m chunked:\n\u001b[1;32m--> 440\u001b[0m     resp \u001b[38;5;241m=\u001b[39m \u001b[43mconn\u001b[49m\u001b[38;5;241;43m.\u001b[39;49m\u001b[43murlopen\u001b[49m\u001b[43m(\u001b[49m\n\u001b[0;32m    441\u001b[0m \u001b[43m        \u001b[49m\u001b[43mmethod\u001b[49m\u001b[38;5;241;43m=\u001b[39;49m\u001b[43mrequest\u001b[49m\u001b[38;5;241;43m.\u001b[39;49m\u001b[43mmethod\u001b[49m\u001b[43m,\u001b[49m\n\u001b[0;32m    442\u001b[0m \u001b[43m        \u001b[49m\u001b[43murl\u001b[49m\u001b[38;5;241;43m=\u001b[39;49m\u001b[43murl\u001b[49m\u001b[43m,\u001b[49m\n\u001b[0;32m    443\u001b[0m \u001b[43m        \u001b[49m\u001b[43mbody\u001b[49m\u001b[38;5;241;43m=\u001b[39;49m\u001b[43mrequest\u001b[49m\u001b[38;5;241;43m.\u001b[39;49m\u001b[43mbody\u001b[49m\u001b[43m,\u001b[49m\n\u001b[0;32m    444\u001b[0m \u001b[43m        \u001b[49m\u001b[43mheaders\u001b[49m\u001b[38;5;241;43m=\u001b[39;49m\u001b[43mrequest\u001b[49m\u001b[38;5;241;43m.\u001b[39;49m\u001b[43mheaders\u001b[49m\u001b[43m,\u001b[49m\n\u001b[0;32m    445\u001b[0m \u001b[43m        \u001b[49m\u001b[43mredirect\u001b[49m\u001b[38;5;241;43m=\u001b[39;49m\u001b[38;5;28;43;01mFalse\u001b[39;49;00m\u001b[43m,\u001b[49m\n\u001b[0;32m    446\u001b[0m \u001b[43m        \u001b[49m\u001b[43massert_same_host\u001b[49m\u001b[38;5;241;43m=\u001b[39;49m\u001b[38;5;28;43;01mFalse\u001b[39;49;00m\u001b[43m,\u001b[49m\n\u001b[0;32m    447\u001b[0m \u001b[43m        \u001b[49m\u001b[43mpreload_content\u001b[49m\u001b[38;5;241;43m=\u001b[39;49m\u001b[38;5;28;43;01mFalse\u001b[39;49;00m\u001b[43m,\u001b[49m\n\u001b[0;32m    448\u001b[0m \u001b[43m        \u001b[49m\u001b[43mdecode_content\u001b[49m\u001b[38;5;241;43m=\u001b[39;49m\u001b[38;5;28;43;01mFalse\u001b[39;49;00m\u001b[43m,\u001b[49m\n\u001b[0;32m    449\u001b[0m \u001b[43m        \u001b[49m\u001b[43mretries\u001b[49m\u001b[38;5;241;43m=\u001b[39;49m\u001b[38;5;28;43mself\u001b[39;49m\u001b[38;5;241;43m.\u001b[39;49m\u001b[43mmax_retries\u001b[49m\u001b[43m,\u001b[49m\n\u001b[0;32m    450\u001b[0m \u001b[43m        \u001b[49m\u001b[43mtimeout\u001b[49m\u001b[38;5;241;43m=\u001b[39;49m\u001b[43mtimeout\u001b[49m\n\u001b[0;32m    451\u001b[0m \u001b[43m    \u001b[49m\u001b[43m)\u001b[49m\n\u001b[0;32m    453\u001b[0m \u001b[38;5;66;03m# Send the request.\u001b[39;00m\n\u001b[0;32m    454\u001b[0m \u001b[38;5;28;01melse\u001b[39;00m:\n",
      "File \u001b[1;32m~\\AppData\\Local\\Programs\\Python\\Python310\\lib\\site-packages\\urllib3\\connectionpool.py:785\u001b[0m, in \u001b[0;36mHTTPConnectionPool.urlopen\u001b[1;34m(self, method, url, body, headers, retries, redirect, assert_same_host, timeout, pool_timeout, release_conn, chunked, body_pos, **response_kw)\u001b[0m\n\u001b[0;32m    783\u001b[0m     e \u001b[38;5;241m=\u001b[39m ProtocolError(\u001b[38;5;124m\"\u001b[39m\u001b[38;5;124mConnection aborted.\u001b[39m\u001b[38;5;124m\"\u001b[39m, e)\n\u001b[1;32m--> 785\u001b[0m retries \u001b[38;5;241m=\u001b[39m \u001b[43mretries\u001b[49m\u001b[38;5;241;43m.\u001b[39;49m\u001b[43mincrement\u001b[49m\u001b[43m(\u001b[49m\n\u001b[0;32m    786\u001b[0m \u001b[43m    \u001b[49m\u001b[43mmethod\u001b[49m\u001b[43m,\u001b[49m\u001b[43m \u001b[49m\u001b[43murl\u001b[49m\u001b[43m,\u001b[49m\u001b[43m \u001b[49m\u001b[43merror\u001b[49m\u001b[38;5;241;43m=\u001b[39;49m\u001b[43me\u001b[49m\u001b[43m,\u001b[49m\u001b[43m \u001b[49m\u001b[43m_pool\u001b[49m\u001b[38;5;241;43m=\u001b[39;49m\u001b[38;5;28;43mself\u001b[39;49m\u001b[43m,\u001b[49m\u001b[43m \u001b[49m\u001b[43m_stacktrace\u001b[49m\u001b[38;5;241;43m=\u001b[39;49m\u001b[43msys\u001b[49m\u001b[38;5;241;43m.\u001b[39;49m\u001b[43mexc_info\u001b[49m\u001b[43m(\u001b[49m\u001b[43m)\u001b[49m\u001b[43m[\u001b[49m\u001b[38;5;241;43m2\u001b[39;49m\u001b[43m]\u001b[49m\n\u001b[0;32m    787\u001b[0m \u001b[43m\u001b[49m\u001b[43m)\u001b[49m\n\u001b[0;32m    788\u001b[0m retries\u001b[38;5;241m.\u001b[39msleep()\n",
      "File \u001b[1;32m~\\AppData\\Local\\Programs\\Python\\Python310\\lib\\site-packages\\urllib3\\util\\retry.py:550\u001b[0m, in \u001b[0;36mRetry.increment\u001b[1;34m(self, method, url, response, error, _pool, _stacktrace)\u001b[0m\n\u001b[0;32m    549\u001b[0m \u001b[38;5;28;01mif\u001b[39;00m read \u001b[38;5;129;01mis\u001b[39;00m \u001b[38;5;28;01mFalse\u001b[39;00m \u001b[38;5;129;01mor\u001b[39;00m \u001b[38;5;129;01mnot\u001b[39;00m \u001b[38;5;28mself\u001b[39m\u001b[38;5;241m.\u001b[39m_is_method_retryable(method):\n\u001b[1;32m--> 550\u001b[0m     \u001b[38;5;28;01mraise\u001b[39;00m \u001b[43msix\u001b[49m\u001b[38;5;241;43m.\u001b[39;49m\u001b[43mreraise\u001b[49m\u001b[43m(\u001b[49m\u001b[38;5;28;43mtype\u001b[39;49m\u001b[43m(\u001b[49m\u001b[43merror\u001b[49m\u001b[43m)\u001b[49m\u001b[43m,\u001b[49m\u001b[43m \u001b[49m\u001b[43merror\u001b[49m\u001b[43m,\u001b[49m\u001b[43m \u001b[49m\u001b[43m_stacktrace\u001b[49m\u001b[43m)\u001b[49m\n\u001b[0;32m    551\u001b[0m \u001b[38;5;28;01melif\u001b[39;00m read \u001b[38;5;129;01mis\u001b[39;00m \u001b[38;5;129;01mnot\u001b[39;00m \u001b[38;5;28;01mNone\u001b[39;00m:\n",
      "File \u001b[1;32m~\\AppData\\Local\\Programs\\Python\\Python310\\lib\\site-packages\\urllib3\\packages\\six.py:769\u001b[0m, in \u001b[0;36mreraise\u001b[1;34m(tp, value, tb)\u001b[0m\n\u001b[0;32m    768\u001b[0m \u001b[38;5;28;01mif\u001b[39;00m value\u001b[38;5;241m.\u001b[39m__traceback__ \u001b[38;5;129;01mis\u001b[39;00m \u001b[38;5;129;01mnot\u001b[39;00m tb:\n\u001b[1;32m--> 769\u001b[0m     \u001b[38;5;28;01mraise\u001b[39;00m value\u001b[38;5;241m.\u001b[39mwith_traceback(tb)\n\u001b[0;32m    770\u001b[0m \u001b[38;5;28;01mraise\u001b[39;00m value\n",
      "File \u001b[1;32m~\\AppData\\Local\\Programs\\Python\\Python310\\lib\\site-packages\\urllib3\\connectionpool.py:703\u001b[0m, in \u001b[0;36mHTTPConnectionPool.urlopen\u001b[1;34m(self, method, url, body, headers, retries, redirect, assert_same_host, timeout, pool_timeout, release_conn, chunked, body_pos, **response_kw)\u001b[0m\n\u001b[0;32m    702\u001b[0m \u001b[38;5;66;03m# Make the request on the httplib connection object.\u001b[39;00m\n\u001b[1;32m--> 703\u001b[0m httplib_response \u001b[38;5;241m=\u001b[39m \u001b[38;5;28;43mself\u001b[39;49m\u001b[38;5;241;43m.\u001b[39;49m\u001b[43m_make_request\u001b[49m\u001b[43m(\u001b[49m\n\u001b[0;32m    704\u001b[0m \u001b[43m    \u001b[49m\u001b[43mconn\u001b[49m\u001b[43m,\u001b[49m\n\u001b[0;32m    705\u001b[0m \u001b[43m    \u001b[49m\u001b[43mmethod\u001b[49m\u001b[43m,\u001b[49m\n\u001b[0;32m    706\u001b[0m \u001b[43m    \u001b[49m\u001b[43murl\u001b[49m\u001b[43m,\u001b[49m\n\u001b[0;32m    707\u001b[0m \u001b[43m    \u001b[49m\u001b[43mtimeout\u001b[49m\u001b[38;5;241;43m=\u001b[39;49m\u001b[43mtimeout_obj\u001b[49m\u001b[43m,\u001b[49m\n\u001b[0;32m    708\u001b[0m \u001b[43m    \u001b[49m\u001b[43mbody\u001b[49m\u001b[38;5;241;43m=\u001b[39;49m\u001b[43mbody\u001b[49m\u001b[43m,\u001b[49m\n\u001b[0;32m    709\u001b[0m \u001b[43m    \u001b[49m\u001b[43mheaders\u001b[49m\u001b[38;5;241;43m=\u001b[39;49m\u001b[43mheaders\u001b[49m\u001b[43m,\u001b[49m\n\u001b[0;32m    710\u001b[0m \u001b[43m    \u001b[49m\u001b[43mchunked\u001b[49m\u001b[38;5;241;43m=\u001b[39;49m\u001b[43mchunked\u001b[49m\u001b[43m,\u001b[49m\n\u001b[0;32m    711\u001b[0m \u001b[43m\u001b[49m\u001b[43m)\u001b[49m\n\u001b[0;32m    713\u001b[0m \u001b[38;5;66;03m# If we're going to release the connection in ``finally:``, then\u001b[39;00m\n\u001b[0;32m    714\u001b[0m \u001b[38;5;66;03m# the response doesn't need to know about the connection. Otherwise\u001b[39;00m\n\u001b[0;32m    715\u001b[0m \u001b[38;5;66;03m# it will also try to release it and we'll have a double-release\u001b[39;00m\n\u001b[0;32m    716\u001b[0m \u001b[38;5;66;03m# mess.\u001b[39;00m\n",
      "File \u001b[1;32m~\\AppData\\Local\\Programs\\Python\\Python310\\lib\\site-packages\\urllib3\\connectionpool.py:449\u001b[0m, in \u001b[0;36mHTTPConnectionPool._make_request\u001b[1;34m(self, conn, method, url, timeout, chunked, **httplib_request_kw)\u001b[0m\n\u001b[0;32m    445\u001b[0m         \u001b[38;5;28;01mexcept\u001b[39;00m \u001b[38;5;167;01mBaseException\u001b[39;00m \u001b[38;5;28;01mas\u001b[39;00m e:\n\u001b[0;32m    446\u001b[0m             \u001b[38;5;66;03m# Remove the TypeError from the exception chain in\u001b[39;00m\n\u001b[0;32m    447\u001b[0m             \u001b[38;5;66;03m# Python 3 (including for exceptions like SystemExit).\u001b[39;00m\n\u001b[0;32m    448\u001b[0m             \u001b[38;5;66;03m# Otherwise it looks like a bug in the code.\u001b[39;00m\n\u001b[1;32m--> 449\u001b[0m             \u001b[43msix\u001b[49m\u001b[38;5;241;43m.\u001b[39;49m\u001b[43mraise_from\u001b[49m\u001b[43m(\u001b[49m\u001b[43me\u001b[49m\u001b[43m,\u001b[49m\u001b[43m \u001b[49m\u001b[38;5;28;43;01mNone\u001b[39;49;00m\u001b[43m)\u001b[49m\n\u001b[0;32m    450\u001b[0m \u001b[38;5;28;01mexcept\u001b[39;00m (SocketTimeout, BaseSSLError, SocketError) \u001b[38;5;28;01mas\u001b[39;00m e:\n",
      "File \u001b[1;32m<string>:3\u001b[0m, in \u001b[0;36mraise_from\u001b[1;34m(value, from_value)\u001b[0m\n",
      "File \u001b[1;32m~\\AppData\\Local\\Programs\\Python\\Python310\\lib\\site-packages\\urllib3\\connectionpool.py:444\u001b[0m, in \u001b[0;36mHTTPConnectionPool._make_request\u001b[1;34m(self, conn, method, url, timeout, chunked, **httplib_request_kw)\u001b[0m\n\u001b[0;32m    443\u001b[0m \u001b[38;5;28;01mtry\u001b[39;00m:\n\u001b[1;32m--> 444\u001b[0m     httplib_response \u001b[38;5;241m=\u001b[39m \u001b[43mconn\u001b[49m\u001b[38;5;241;43m.\u001b[39;49m\u001b[43mgetresponse\u001b[49m\u001b[43m(\u001b[49m\u001b[43m)\u001b[49m\n\u001b[0;32m    445\u001b[0m \u001b[38;5;28;01mexcept\u001b[39;00m \u001b[38;5;167;01mBaseException\u001b[39;00m \u001b[38;5;28;01mas\u001b[39;00m e:\n\u001b[0;32m    446\u001b[0m     \u001b[38;5;66;03m# Remove the TypeError from the exception chain in\u001b[39;00m\n\u001b[0;32m    447\u001b[0m     \u001b[38;5;66;03m# Python 3 (including for exceptions like SystemExit).\u001b[39;00m\n\u001b[0;32m    448\u001b[0m     \u001b[38;5;66;03m# Otherwise it looks like a bug in the code.\u001b[39;00m\n",
      "File \u001b[1;32m~\\AppData\\Local\\Programs\\Python\\Python310\\lib\\http\\client.py:1374\u001b[0m, in \u001b[0;36mHTTPConnection.getresponse\u001b[1;34m(self)\u001b[0m\n\u001b[0;32m   1373\u001b[0m \u001b[38;5;28;01mtry\u001b[39;00m:\n\u001b[1;32m-> 1374\u001b[0m     \u001b[43mresponse\u001b[49m\u001b[38;5;241;43m.\u001b[39;49m\u001b[43mbegin\u001b[49m\u001b[43m(\u001b[49m\u001b[43m)\u001b[49m\n\u001b[0;32m   1375\u001b[0m \u001b[38;5;28;01mexcept\u001b[39;00m \u001b[38;5;167;01mConnectionError\u001b[39;00m:\n",
      "File \u001b[1;32m~\\AppData\\Local\\Programs\\Python\\Python310\\lib\\http\\client.py:318\u001b[0m, in \u001b[0;36mHTTPResponse.begin\u001b[1;34m(self)\u001b[0m\n\u001b[0;32m    317\u001b[0m \u001b[38;5;28;01mwhile\u001b[39;00m \u001b[38;5;28;01mTrue\u001b[39;00m:\n\u001b[1;32m--> 318\u001b[0m     version, status, reason \u001b[38;5;241m=\u001b[39m \u001b[38;5;28;43mself\u001b[39;49m\u001b[38;5;241;43m.\u001b[39;49m\u001b[43m_read_status\u001b[49m\u001b[43m(\u001b[49m\u001b[43m)\u001b[49m\n\u001b[0;32m    319\u001b[0m     \u001b[38;5;28;01mif\u001b[39;00m status \u001b[38;5;241m!=\u001b[39m CONTINUE:\n",
      "File \u001b[1;32m~\\AppData\\Local\\Programs\\Python\\Python310\\lib\\http\\client.py:279\u001b[0m, in \u001b[0;36mHTTPResponse._read_status\u001b[1;34m(self)\u001b[0m\n\u001b[0;32m    278\u001b[0m \u001b[38;5;28;01mdef\u001b[39;00m \u001b[38;5;21m_read_status\u001b[39m(\u001b[38;5;28mself\u001b[39m):\n\u001b[1;32m--> 279\u001b[0m     line \u001b[38;5;241m=\u001b[39m \u001b[38;5;28mstr\u001b[39m(\u001b[38;5;28;43mself\u001b[39;49m\u001b[38;5;241;43m.\u001b[39;49m\u001b[43mfp\u001b[49m\u001b[38;5;241;43m.\u001b[39;49m\u001b[43mreadline\u001b[49m\u001b[43m(\u001b[49m\u001b[43m_MAXLINE\u001b[49m\u001b[43m \u001b[49m\u001b[38;5;241;43m+\u001b[39;49m\u001b[43m \u001b[49m\u001b[38;5;241;43m1\u001b[39;49m\u001b[43m)\u001b[49m, \u001b[38;5;124m\"\u001b[39m\u001b[38;5;124miso-8859-1\u001b[39m\u001b[38;5;124m\"\u001b[39m)\n\u001b[0;32m    280\u001b[0m     \u001b[38;5;28;01mif\u001b[39;00m \u001b[38;5;28mlen\u001b[39m(line) \u001b[38;5;241m>\u001b[39m _MAXLINE:\n",
      "File \u001b[1;32m~\\AppData\\Local\\Programs\\Python\\Python310\\lib\\socket.py:705\u001b[0m, in \u001b[0;36mSocketIO.readinto\u001b[1;34m(self, b)\u001b[0m\n\u001b[0;32m    704\u001b[0m \u001b[38;5;28;01mtry\u001b[39;00m:\n\u001b[1;32m--> 705\u001b[0m     \u001b[38;5;28;01mreturn\u001b[39;00m \u001b[38;5;28;43mself\u001b[39;49m\u001b[38;5;241;43m.\u001b[39;49m\u001b[43m_sock\u001b[49m\u001b[38;5;241;43m.\u001b[39;49m\u001b[43mrecv_into\u001b[49m\u001b[43m(\u001b[49m\u001b[43mb\u001b[49m\u001b[43m)\u001b[49m\n\u001b[0;32m    706\u001b[0m \u001b[38;5;28;01mexcept\u001b[39;00m timeout:\n",
      "\u001b[1;31mProtocolError\u001b[0m: ('Connection aborted.', ConnectionAbortedError(10053, 'An established connection was aborted by the software in your host machine', None, 10053, None))",
      "\nDuring handling of the above exception, another exception occurred:\n",
      "\u001b[1;31mConnectionError\u001b[0m                           Traceback (most recent call last)",
      "Input \u001b[1;32mIn [180]\u001b[0m, in \u001b[0;36m<cell line: 1>\u001b[1;34m()\u001b[0m\n\u001b[1;32m----> 1\u001b[0m df[\u001b[38;5;124m'\u001b[39m\u001b[38;5;124mgpmdb_count\u001b[39m\u001b[38;5;124m'\u001b[39m] \u001b[38;5;241m=\u001b[39m \u001b[43mdf\u001b[49m\u001b[43m[\u001b[49m\u001b[38;5;124;43m'\u001b[39;49m\u001b[38;5;124;43mpeptide\u001b[39;49m\u001b[38;5;124;43m'\u001b[39;49m\u001b[43m]\u001b[49m\u001b[38;5;241;43m.\u001b[39;49m\u001b[43mmap\u001b[49m\u001b[43m(\u001b[49m\u001b[43mget_gpmdb_hits\u001b[49m\u001b[43m)\u001b[49m\n",
      "File \u001b[1;32m~\\AppData\\Local\\Programs\\Python\\Python310\\lib\\site-packages\\pandas\\core\\series.py:4237\u001b[0m, in \u001b[0;36mSeries.map\u001b[1;34m(self, arg, na_action)\u001b[0m\n\u001b[0;32m   4162\u001b[0m \u001b[38;5;28;01mdef\u001b[39;00m \u001b[38;5;21mmap\u001b[39m(\u001b[38;5;28mself\u001b[39m, arg, na_action\u001b[38;5;241m=\u001b[39m\u001b[38;5;28;01mNone\u001b[39;00m) \u001b[38;5;241m-\u001b[39m\u001b[38;5;241m>\u001b[39m Series:\n\u001b[0;32m   4163\u001b[0m     \u001b[38;5;124;03m\"\"\"\u001b[39;00m\n\u001b[0;32m   4164\u001b[0m \u001b[38;5;124;03m    Map values of Series according to an input mapping or function.\u001b[39;00m\n\u001b[0;32m   4165\u001b[0m \n\u001b[1;32m   (...)\u001b[0m\n\u001b[0;32m   4235\u001b[0m \u001b[38;5;124;03m    dtype: object\u001b[39;00m\n\u001b[0;32m   4236\u001b[0m \u001b[38;5;124;03m    \"\"\"\u001b[39;00m\n\u001b[1;32m-> 4237\u001b[0m     new_values \u001b[38;5;241m=\u001b[39m \u001b[38;5;28;43mself\u001b[39;49m\u001b[38;5;241;43m.\u001b[39;49m\u001b[43m_map_values\u001b[49m\u001b[43m(\u001b[49m\u001b[43marg\u001b[49m\u001b[43m,\u001b[49m\u001b[43m \u001b[49m\u001b[43mna_action\u001b[49m\u001b[38;5;241;43m=\u001b[39;49m\u001b[43mna_action\u001b[49m\u001b[43m)\u001b[49m\n\u001b[0;32m   4238\u001b[0m     \u001b[38;5;28;01mreturn\u001b[39;00m \u001b[38;5;28mself\u001b[39m\u001b[38;5;241m.\u001b[39m_constructor(new_values, index\u001b[38;5;241m=\u001b[39m\u001b[38;5;28mself\u001b[39m\u001b[38;5;241m.\u001b[39mindex)\u001b[38;5;241m.\u001b[39m__finalize__(\n\u001b[0;32m   4239\u001b[0m         \u001b[38;5;28mself\u001b[39m, method\u001b[38;5;241m=\u001b[39m\u001b[38;5;124m\"\u001b[39m\u001b[38;5;124mmap\u001b[39m\u001b[38;5;124m\"\u001b[39m\n\u001b[0;32m   4240\u001b[0m     )\n",
      "File \u001b[1;32m~\\AppData\\Local\\Programs\\Python\\Python310\\lib\\site-packages\\pandas\\core\\base.py:880\u001b[0m, in \u001b[0;36mIndexOpsMixin._map_values\u001b[1;34m(self, mapper, na_action)\u001b[0m\n\u001b[0;32m    877\u001b[0m         \u001b[38;5;28;01mraise\u001b[39;00m \u001b[38;5;167;01mValueError\u001b[39;00m(msg)\n\u001b[0;32m    879\u001b[0m \u001b[38;5;66;03m# mapper is a function\u001b[39;00m\n\u001b[1;32m--> 880\u001b[0m new_values \u001b[38;5;241m=\u001b[39m \u001b[43mmap_f\u001b[49m\u001b[43m(\u001b[49m\u001b[43mvalues\u001b[49m\u001b[43m,\u001b[49m\u001b[43m \u001b[49m\u001b[43mmapper\u001b[49m\u001b[43m)\u001b[49m\n\u001b[0;32m    882\u001b[0m \u001b[38;5;28;01mreturn\u001b[39;00m new_values\n",
      "File \u001b[1;32m~\\AppData\\Local\\Programs\\Python\\Python310\\lib\\site-packages\\pandas\\_libs\\lib.pyx:2870\u001b[0m, in \u001b[0;36mpandas._libs.lib.map_infer\u001b[1;34m()\u001b[0m\n",
      "Input \u001b[1;32mIn [179]\u001b[0m, in \u001b[0;36mget_gpmdb_hits\u001b[1;34m(peptide)\u001b[0m\n\u001b[0;32m      1\u001b[0m \u001b[38;5;28;01mdef\u001b[39;00m \u001b[38;5;21mget_gpmdb_hits\u001b[39m(peptide):\n\u001b[0;32m      2\u001b[0m     pat \u001b[38;5;241m=\u001b[39m re\u001b[38;5;241m.\u001b[39mcompile(\u001b[38;5;124m'\u001b[39m\u001b[38;5;124m\\\u001b[39m\u001b[38;5;124m[(.*?)\u001b[39m\u001b[38;5;124m\\\u001b[39m\u001b[38;5;124m]\u001b[39m\u001b[38;5;124m'\u001b[39m)\n\u001b[1;32m----> 3\u001b[0m     res \u001b[38;5;241m=\u001b[39m \u001b[43mrequests\u001b[49m\u001b[38;5;241;43m.\u001b[39;49m\u001b[43mget\u001b[49m\u001b[43m(\u001b[49m\u001b[38;5;124;43mf\u001b[39;49m\u001b[38;5;124;43m'\u001b[39;49m\u001b[38;5;124;43mhttp://rest.thegpm.org/1/peptide/count/seq=\u001b[39;49m\u001b[38;5;132;43;01m{\u001b[39;49;00m\u001b[43mpeptide\u001b[49m\u001b[38;5;132;43;01m}\u001b[39;49;00m\u001b[38;5;124;43m'\u001b[39;49m\u001b[43m)\u001b[49m\u001b[38;5;241m.\u001b[39mtext\n\u001b[0;32m      4\u001b[0m     \u001b[38;5;28;01mtry\u001b[39;00m:\n\u001b[0;32m      5\u001b[0m         \u001b[38;5;28;01mreturn\u001b[39;00m \u001b[38;5;28mint\u001b[39m(re\u001b[38;5;241m.\u001b[39msearch(pat, res)\u001b[38;5;241m.\u001b[39mgroup(\u001b[38;5;241m1\u001b[39m))\n",
      "File \u001b[1;32m~\\AppData\\Local\\Programs\\Python\\Python310\\lib\\site-packages\\requests\\api.py:75\u001b[0m, in \u001b[0;36mget\u001b[1;34m(url, params, **kwargs)\u001b[0m\n\u001b[0;32m     64\u001b[0m \u001b[38;5;28;01mdef\u001b[39;00m \u001b[38;5;21mget\u001b[39m(url, params\u001b[38;5;241m=\u001b[39m\u001b[38;5;28;01mNone\u001b[39;00m, \u001b[38;5;241m*\u001b[39m\u001b[38;5;241m*\u001b[39mkwargs):\n\u001b[0;32m     65\u001b[0m     \u001b[38;5;124mr\u001b[39m\u001b[38;5;124;03m\"\"\"Sends a GET request.\u001b[39;00m\n\u001b[0;32m     66\u001b[0m \n\u001b[0;32m     67\u001b[0m \u001b[38;5;124;03m    :param url: URL for the new :class:`Request` object.\u001b[39;00m\n\u001b[1;32m   (...)\u001b[0m\n\u001b[0;32m     72\u001b[0m \u001b[38;5;124;03m    :rtype: requests.Response\u001b[39;00m\n\u001b[0;32m     73\u001b[0m \u001b[38;5;124;03m    \"\"\"\u001b[39;00m\n\u001b[1;32m---> 75\u001b[0m     \u001b[38;5;28;01mreturn\u001b[39;00m request(\u001b[38;5;124m'\u001b[39m\u001b[38;5;124mget\u001b[39m\u001b[38;5;124m'\u001b[39m, url, params\u001b[38;5;241m=\u001b[39mparams, \u001b[38;5;241m*\u001b[39m\u001b[38;5;241m*\u001b[39mkwargs)\n",
      "File \u001b[1;32m~\\AppData\\Local\\Programs\\Python\\Python310\\lib\\site-packages\\requests\\api.py:61\u001b[0m, in \u001b[0;36mrequest\u001b[1;34m(method, url, **kwargs)\u001b[0m\n\u001b[0;32m     57\u001b[0m \u001b[38;5;66;03m# By using the 'with' statement we are sure the session is closed, thus we\u001b[39;00m\n\u001b[0;32m     58\u001b[0m \u001b[38;5;66;03m# avoid leaving sockets open which can trigger a ResourceWarning in some\u001b[39;00m\n\u001b[0;32m     59\u001b[0m \u001b[38;5;66;03m# cases, and look like a memory leak in others.\u001b[39;00m\n\u001b[0;32m     60\u001b[0m \u001b[38;5;28;01mwith\u001b[39;00m sessions\u001b[38;5;241m.\u001b[39mSession() \u001b[38;5;28;01mas\u001b[39;00m session:\n\u001b[1;32m---> 61\u001b[0m     \u001b[38;5;28;01mreturn\u001b[39;00m session\u001b[38;5;241m.\u001b[39mrequest(method\u001b[38;5;241m=\u001b[39mmethod, url\u001b[38;5;241m=\u001b[39murl, \u001b[38;5;241m*\u001b[39m\u001b[38;5;241m*\u001b[39mkwargs)\n",
      "File \u001b[1;32m~\\AppData\\Local\\Programs\\Python\\Python310\\lib\\site-packages\\requests\\sessions.py:529\u001b[0m, in \u001b[0;36mSession.request\u001b[1;34m(self, method, url, params, data, headers, cookies, files, auth, timeout, allow_redirects, proxies, hooks, stream, verify, cert, json)\u001b[0m\n\u001b[0;32m    524\u001b[0m send_kwargs \u001b[38;5;241m=\u001b[39m {\n\u001b[0;32m    525\u001b[0m     \u001b[38;5;124m'\u001b[39m\u001b[38;5;124mtimeout\u001b[39m\u001b[38;5;124m'\u001b[39m: timeout,\n\u001b[0;32m    526\u001b[0m     \u001b[38;5;124m'\u001b[39m\u001b[38;5;124mallow_redirects\u001b[39m\u001b[38;5;124m'\u001b[39m: allow_redirects,\n\u001b[0;32m    527\u001b[0m }\n\u001b[0;32m    528\u001b[0m send_kwargs\u001b[38;5;241m.\u001b[39mupdate(settings)\n\u001b[1;32m--> 529\u001b[0m resp \u001b[38;5;241m=\u001b[39m \u001b[38;5;28mself\u001b[39m\u001b[38;5;241m.\u001b[39msend(prep, \u001b[38;5;241m*\u001b[39m\u001b[38;5;241m*\u001b[39msend_kwargs)\n\u001b[0;32m    531\u001b[0m \u001b[38;5;28;01mreturn\u001b[39;00m resp\n",
      "File \u001b[1;32m~\\AppData\\Local\\Programs\\Python\\Python310\\lib\\site-packages\\requests\\sessions.py:645\u001b[0m, in \u001b[0;36mSession.send\u001b[1;34m(self, request, **kwargs)\u001b[0m\n\u001b[0;32m    642\u001b[0m start \u001b[38;5;241m=\u001b[39m preferred_clock()\n\u001b[0;32m    644\u001b[0m \u001b[38;5;66;03m# Send the request\u001b[39;00m\n\u001b[1;32m--> 645\u001b[0m r \u001b[38;5;241m=\u001b[39m adapter\u001b[38;5;241m.\u001b[39msend(request, \u001b[38;5;241m*\u001b[39m\u001b[38;5;241m*\u001b[39mkwargs)\n\u001b[0;32m    647\u001b[0m \u001b[38;5;66;03m# Total elapsed time of the request (approximately)\u001b[39;00m\n\u001b[0;32m    648\u001b[0m elapsed \u001b[38;5;241m=\u001b[39m preferred_clock() \u001b[38;5;241m-\u001b[39m start\n",
      "File \u001b[1;32m~\\AppData\\Local\\Programs\\Python\\Python310\\lib\\site-packages\\requests\\adapters.py:501\u001b[0m, in \u001b[0;36mHTTPAdapter.send\u001b[1;34m(self, request, stream, timeout, verify, cert, proxies)\u001b[0m\n\u001b[0;32m    498\u001b[0m             \u001b[38;5;28;01mraise\u001b[39;00m\n\u001b[0;32m    500\u001b[0m \u001b[38;5;28;01mexcept\u001b[39;00m (ProtocolError, socket\u001b[38;5;241m.\u001b[39merror) \u001b[38;5;28;01mas\u001b[39;00m err:\n\u001b[1;32m--> 501\u001b[0m     \u001b[38;5;28;01mraise\u001b[39;00m \u001b[38;5;167;01mConnectionError\u001b[39;00m(err, request\u001b[38;5;241m=\u001b[39mrequest)\n\u001b[0;32m    503\u001b[0m \u001b[38;5;28;01mexcept\u001b[39;00m MaxRetryError \u001b[38;5;28;01mas\u001b[39;00m e:\n\u001b[0;32m    504\u001b[0m     \u001b[38;5;28;01mif\u001b[39;00m \u001b[38;5;28misinstance\u001b[39m(e\u001b[38;5;241m.\u001b[39mreason, ConnectTimeoutError):\n\u001b[0;32m    505\u001b[0m         \u001b[38;5;66;03m# TODO: Remove this in 3.0.0: see #2811\u001b[39;00m\n",
      "\u001b[1;31mConnectionError\u001b[0m: ('Connection aborted.', ConnectionAbortedError(10053, 'An established connection was aborted by the software in your host machine', None, 10053, None))"
     ]
    }
   ],
   "source": [
    "df['gpmdb_count'] = df['peptide'].map(get_gpmdb_hits)"
   ]
  },
  {
   "cell_type": "code",
   "execution_count": 6,
   "id": "78e04026-1b76-43ea-b4cb-ad34af6bc187",
   "metadata": {},
   "outputs": [],
   "source": [
    "import numpy as np"
   ]
  },
  {
   "cell_type": "code",
   "execution_count": 7,
   "id": "80d40da0-5093-4970-866f-4b3eb474b1cb",
   "metadata": {},
   "outputs": [],
   "source": [
    "df = pd.read_csv('../data/interim/peptides.tsv', sep='\\t')"
   ]
  },
  {
   "cell_type": "code",
   "execution_count": 9,
   "id": "3f275be3-060b-48b1-b537-a8f647141c7d",
   "metadata": {},
   "outputs": [],
   "source": [
    "df.loc[:, 'gpmdb_count'] = df['peptide'].map(get_gpmdb_hits)"
   ]
  },
  {
   "cell_type": "code",
   "execution_count": 12,
   "id": "25ac1a8c-5bd1-4967-80f9-10b9ab3926e7",
   "metadata": {},
   "outputs": [],
   "source": [
    "df = df.drop(['Unnamed: 0', 'uniprot_isoform', 'uniprot_base', 'nextprot_match_base'], axis=1)"
   ]
  },
  {
   "cell_type": "code",
   "execution_count": 14,
   "id": "0cfc2592-262b-4747-97e9-a008da713ec2",
   "metadata": {},
   "outputs": [],
   "source": [
    "df = df[['gene', 'uniprot_isoforms', 'peptide', 'miscleavage_count', 'gpmdb_count', 'nextprot_matches', 'unique_for_isoform', 'unique_for_entry']]"
   ]
  },
  {
   "cell_type": "code",
   "execution_count": 15,
   "id": "12d8ef11-3f1e-4268-8afd-cfc802e2d9a6",
   "metadata": {},
   "outputs": [],
   "source": [
    "df = df.rename({'gene': 'ensembl_gene_name'}, axis=1)"
   ]
  },
  {
   "cell_type": "code",
   "execution_count": 17,
   "id": "758ad1bd-5201-4dec-8750-ae404ac06a0b",
   "metadata": {},
   "outputs": [],
   "source": [
    "df.to_excel('../reports/selection/missing_select_peptides.xlsx', index=False)"
   ]
  },
  {
   "cell_type": "code",
   "execution_count": null,
   "id": "ca2ba2c2-68fd-4d09-beec-5854c9c04ae5",
   "metadata": {},
   "outputs": [],
   "source": []
  }
 ],
 "metadata": {
  "kernelspec": {
   "display_name": "Python 3 (ipykernel)",
   "language": "python",
   "name": "python3"
  },
  "language_info": {
   "codemirror_mode": {
    "name": "ipython",
    "version": 3
   },
   "file_extension": ".py",
   "mimetype": "text/x-python",
   "name": "python",
   "nbconvert_exporter": "python",
   "pygments_lexer": "ipython3",
   "version": "3.10.4"
  }
 },
 "nbformat": 4,
 "nbformat_minor": 5
}
