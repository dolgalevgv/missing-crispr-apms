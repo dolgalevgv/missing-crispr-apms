{
 "cells": [
  {
   "cell_type": "code",
   "execution_count": 1,
   "id": "852bbefc-d593-4934-a1ce-9d2cd36de07a",
   "metadata": {},
   "outputs": [],
   "source": [
    "import time\n",
    "import numpy\n",
    "import pandas\n",
    "import requests\n",
    "import ensembl_rest"
   ]
  },
  {
   "cell_type": "code",
   "execution_count": 11,
   "id": "2302c5fa-ba49-4cce-8278-ed99b59f5951",
   "metadata": {},
   "outputs": [],
   "source": [
    "def ac_to_entry(ac: str):\n",
    "    entry = requests.get('https://www.uniprot.org/uploadlists', \n",
    "                         params={'from': 'ACC+ID', 'to': 'ACC', \n",
    "                                 'format': 'tab',\n",
    "                                 'columns': 'id,entry_name', \n",
    "                                 'query': ac})\n",
    "    try:\n",
    "        entry = entry.text.split('\\n')[1].split('\\t')[1]\n",
    "    except IndexError:\n",
    "        entry = None\n",
    "        \n",
    "    return entry\n",
    "\n",
    "def ac_to_ensembl(ac: str):\n",
    "    ensembl_mapping = ensembl_rest.xref_external(species='human', symbol=ac)\n",
    "    \n",
    "    ensg = [i['id'] for i in ensembl_mapping if i['type'] == 'gene']\n",
    "    \n",
    "    if not ensg:\n",
    "        ensg = None\n",
    "    else:\n",
    "        ensg = ensg[0]\n",
    "    \n",
    "    enst = [i['id'] for i in ensembl_mapping if i['type'] == 'transcript']\n",
    "    \n",
    "    if not enst:\n",
    "        enst = None\n",
    "    \n",
    "    return ensg, enst\n",
    "\n",
    "def ensg_to_gene(ensg: str):\n",
    "    gene_name = ensembl_rest.lookup(ensg).get('display_name')\n",
    "    \n",
    "    return gene_name\n",
    "\n",
    "def enst_info(enst: list):\n",
    "    trs_name = []\n",
    "    length_bp = []\n",
    "    ensp = []\n",
    "    length_aa = []\n",
    "    uniprot_iso = []\n",
    "    \n",
    "    for trs in enst:\n",
    "        trs_info = ensembl_rest.lookup(trs, params={'expand': True})\n",
    "\n",
    "        trs_name.append(trs_info.get('display_name'))\n",
    "\n",
    "        length_bp.append(sum([i['end'] - i['start'] + 1 for i in trs_info['Exon']\\\n",
    "                              if i['object_type'] == 'Exon']))\n",
    "\n",
    "        ensp.append(trs_info.get('Translation').get('id'))\n",
    "\n",
    "        length_aa.append(trs_info.get('Translation').get('length'))\n",
    "\n",
    "        iso = ensembl_rest.xref_id(trs_info.get('Translation').get('id'))\n",
    "\n",
    "        if any([(i['dbname'] == 'Uniprot_isoform') for i in iso]):\n",
    "            iso = [i['primary_id'] for i in iso if (i['dbname'] == 'Uniprot_isoform')][0]\n",
    "        elif any([(i['dbname'] == 'Uniprot/SWISSPROT') for i in iso]):\n",
    "            iso = [i['primary_id'] for i in iso if i['dbname'] == 'Uniprot/SWISSPROT'][0]\n",
    "        else:\n",
    "            iso = None\n",
    "\n",
    "        uniprot_iso.append(iso)\n",
    "        \n",
    "    return trs_name, length_bp, ensp, length_aa, uniprot_iso"
   ]
  },
  {
   "cell_type": "code",
   "execution_count": 9,
   "id": "189171bf-3e61-4433-88f9-a581ebb4ebf1",
   "metadata": {},
   "outputs": [],
   "source": [
    "with open('nextprot_050222_missing_pe2_090422.txt') as f:\n",
    "    ac_list = f.read().splitlines()"
   ]
  },
  {
   "cell_type": "code",
   "execution_count": 10,
   "id": "389e3183-4aab-4b2a-86cc-884a14ad359c",
   "metadata": {},
   "outputs": [
    {
     "name": "stdout",
     "output_type": "stream",
     "text": [
      "Done 1135 out of 1135 ACs\r"
     ]
    }
   ],
   "source": [
    "ac_info = []\n",
    "    \n",
    "for i, ac in enumerate(ac_list):\n",
    "    entry = ac_to_entry(ac)\n",
    "\n",
    "    ensg, enst = ac_to_ensembl(ac)\n",
    "\n",
    "    if not (ensg and enst):\n",
    "        continue\n",
    "\n",
    "    gene_name = ensg_to_gene(ensg)\n",
    "\n",
    "    trs_name, length_bp, ensp, length_aa, uniprot_iso = enst_info(enst)\n",
    "\n",
    "    for j in range(len(enst)):\n",
    "        ac_info.append([ac, entry, ensg, gene_name, enst[j], trs_name[j],\n",
    "                        length_bp[j], ensp[j], length_aa[j], uniprot_iso[j]])\n",
    "    \n",
    "    print(f'Done {i+1} out of {len(ac_list)} ACs', end='\\r')\n",
    "    \n",
    "    # Sleep 5 seconds after every hundred ACs to not overload services\n",
    "    if i % 100 == 0:\n",
    "        time.sleep(5)\n",
    "    \n",
    "result = pandas.DataFrame(columns=['entry', 'entry_name', 'ensg_id', 'gene_name', 'enst_id',\n",
    "                                   'transcript_name', 'length_bp', 'ensp_id',\n",
    "                                   'length_aa', 'uniprot_isoform'],\n",
    "                          data=ac_info)\n",
    "        \n",
    "subcols = result.columns.to_list()\n",
    "subcols.pop(-2)\n",
    "subcols += ['length_aa']\n",
    "\n",
    "result = result[subcols]\n",
    "\n",
    "result.to_excel('missing_to_ensembl_110422.xlsx', index=False)"
   ]
  },
  {
   "cell_type": "code",
   "execution_count": 12,
   "id": "2484072f-aa7d-4aba-8824-1a7300533c26",
   "metadata": {},
   "outputs": [
    {
     "data": {
      "text/html": [
       "<div>\n",
       "<style scoped>\n",
       "    .dataframe tbody tr th:only-of-type {\n",
       "        vertical-align: middle;\n",
       "    }\n",
       "\n",
       "    .dataframe tbody tr th {\n",
       "        vertical-align: top;\n",
       "    }\n",
       "\n",
       "    .dataframe thead th {\n",
       "        text-align: right;\n",
       "    }\n",
       "</style>\n",
       "<table border=\"1\" class=\"dataframe\">\n",
       "  <thead>\n",
       "    <tr style=\"text-align: right;\">\n",
       "      <th></th>\n",
       "      <th>entry</th>\n",
       "      <th>entry_name</th>\n",
       "      <th>ensg_id</th>\n",
       "      <th>gene_name</th>\n",
       "      <th>enst_id</th>\n",
       "      <th>transcript_name</th>\n",
       "      <th>length_bp</th>\n",
       "      <th>ensp_id</th>\n",
       "      <th>uniprot_isoform</th>\n",
       "      <th>length_aa</th>\n",
       "    </tr>\n",
       "  </thead>\n",
       "  <tbody>\n",
       "    <tr>\n",
       "      <th>0</th>\n",
       "      <td>A0A075B6N3</td>\n",
       "      <td>TVBX1_HUMAN</td>\n",
       "      <td>ENSG00000211750</td>\n",
       "      <td>TRBV24-1</td>\n",
       "      <td>ENST00000390397</td>\n",
       "      <td>TRBV24-1-201</td>\n",
       "      <td>381</td>\n",
       "      <td>ENSP00000374920</td>\n",
       "      <td>A0A075B6N3</td>\n",
       "      <td>115</td>\n",
       "    </tr>\n",
       "    <tr>\n",
       "      <th>1</th>\n",
       "      <td>A0A075B6N4</td>\n",
       "      <td>TVBY1_HUMAN</td>\n",
       "      <td>ENSG00000282499</td>\n",
       "      <td>TRBV25-1</td>\n",
       "      <td>ENST00000390398</td>\n",
       "      <td>TRBV25-1-202</td>\n",
       "      <td>381</td>\n",
       "      <td>ENSP00000374921</td>\n",
       "      <td>A0A075B6N4</td>\n",
       "      <td>114</td>\n",
       "    </tr>\n",
       "    <tr>\n",
       "      <th>2</th>\n",
       "      <td>A0A075B6T7</td>\n",
       "      <td>TVA6_HUMAN</td>\n",
       "      <td>ENSG00000211780</td>\n",
       "      <td>TRAV6</td>\n",
       "      <td>ENST00000390428</td>\n",
       "      <td>TRAV6-201</td>\n",
       "      <td>404</td>\n",
       "      <td>ENSP00000438290</td>\n",
       "      <td>A0A075B6T7</td>\n",
       "      <td>132</td>\n",
       "    </tr>\n",
       "    <tr>\n",
       "      <th>3</th>\n",
       "      <td>A0A075B6U4</td>\n",
       "      <td>TVA7_HUMAN</td>\n",
       "      <td>ENSG00000211781</td>\n",
       "      <td>TRAV7</td>\n",
       "      <td>ENST00000390429</td>\n",
       "      <td>TRAV7-201</td>\n",
       "      <td>337</td>\n",
       "      <td>ENSP00000443297</td>\n",
       "      <td>A0A075B6U4</td>\n",
       "      <td>112</td>\n",
       "    </tr>\n",
       "    <tr>\n",
       "      <th>4</th>\n",
       "      <td>A0A075B6V5</td>\n",
       "      <td>TVA36_HUMAN</td>\n",
       "      <td>ENSG00000211815</td>\n",
       "      <td>TRAV36DV7</td>\n",
       "      <td>ENST00000390463</td>\n",
       "      <td>TRAV36DV7-201</td>\n",
       "      <td>356</td>\n",
       "      <td>ENSP00000450804</td>\n",
       "      <td>A0A075B6V5</td>\n",
       "      <td>113</td>\n",
       "    </tr>\n",
       "    <tr>\n",
       "      <th>...</th>\n",
       "      <td>...</td>\n",
       "      <td>...</td>\n",
       "      <td>...</td>\n",
       "      <td>...</td>\n",
       "      <td>...</td>\n",
       "      <td>...</td>\n",
       "      <td>...</td>\n",
       "      <td>...</td>\n",
       "      <td>...</td>\n",
       "      <td>...</td>\n",
       "    </tr>\n",
       "    <tr>\n",
       "      <th>1519</th>\n",
       "      <td>Q9Y5P0</td>\n",
       "      <td>O51B4_HUMAN</td>\n",
       "      <td>ENSG00000183251</td>\n",
       "      <td>OR51B4</td>\n",
       "      <td>ENST00000380224</td>\n",
       "      <td>OR51B4-201</td>\n",
       "      <td>933</td>\n",
       "      <td>ENSP00000369573</td>\n",
       "      <td>Q9Y5P0</td>\n",
       "      <td>310</td>\n",
       "    </tr>\n",
       "    <tr>\n",
       "      <th>1520</th>\n",
       "      <td>Q9Y6U7</td>\n",
       "      <td>RN215_HUMAN</td>\n",
       "      <td>ENSG00000099999</td>\n",
       "      <td>RNF215</td>\n",
       "      <td>ENST00000382363</td>\n",
       "      <td>RNF215-203</td>\n",
       "      <td>2011</td>\n",
       "      <td>ENSP00000371800</td>\n",
       "      <td>Q9Y6U7</td>\n",
       "      <td>377</td>\n",
       "    </tr>\n",
       "    <tr>\n",
       "      <th>1521</th>\n",
       "      <td>S4R3P1</td>\n",
       "      <td>HMN13_HUMAN</td>\n",
       "      <td>ENSG00000270394</td>\n",
       "      <td>MTRNR2L13</td>\n",
       "      <td>ENST00000604093</td>\n",
       "      <td>MTRNR2L13-201</td>\n",
       "      <td>1445</td>\n",
       "      <td>ENSP00000474570</td>\n",
       "      <td>S4R3P1</td>\n",
       "      <td>24</td>\n",
       "    </tr>\n",
       "    <tr>\n",
       "      <th>1522</th>\n",
       "      <td>S4R3Y5</td>\n",
       "      <td>HMN11_HUMAN</td>\n",
       "      <td>ENSG00000270188</td>\n",
       "      <td>MTRNR2L11</td>\n",
       "      <td>ENST00000604646</td>\n",
       "      <td>MTRNR2L11-201</td>\n",
       "      <td>1552</td>\n",
       "      <td>ENSP00000474861</td>\n",
       "      <td>S4R3Y5</td>\n",
       "      <td>24</td>\n",
       "    </tr>\n",
       "    <tr>\n",
       "      <th>1523</th>\n",
       "      <td>U3KPV4</td>\n",
       "      <td>A3LT2_HUMAN</td>\n",
       "      <td>ENSG00000184389</td>\n",
       "      <td>A3GALT2</td>\n",
       "      <td>ENST00000442999</td>\n",
       "      <td>A3GALT2-201</td>\n",
       "      <td>1023</td>\n",
       "      <td>ENSP00000475261</td>\n",
       "      <td>U3KPV4</td>\n",
       "      <td>340</td>\n",
       "    </tr>\n",
       "  </tbody>\n",
       "</table>\n",
       "<p>1524 rows × 10 columns</p>\n",
       "</div>"
      ],
      "text/plain": [
       "           entry   entry_name          ensg_id  gene_name          enst_id  \\\n",
       "0     A0A075B6N3  TVBX1_HUMAN  ENSG00000211750   TRBV24-1  ENST00000390397   \n",
       "1     A0A075B6N4  TVBY1_HUMAN  ENSG00000282499   TRBV25-1  ENST00000390398   \n",
       "2     A0A075B6T7   TVA6_HUMAN  ENSG00000211780      TRAV6  ENST00000390428   \n",
       "3     A0A075B6U4   TVA7_HUMAN  ENSG00000211781      TRAV7  ENST00000390429   \n",
       "4     A0A075B6V5  TVA36_HUMAN  ENSG00000211815  TRAV36DV7  ENST00000390463   \n",
       "...          ...          ...              ...        ...              ...   \n",
       "1519      Q9Y5P0  O51B4_HUMAN  ENSG00000183251     OR51B4  ENST00000380224   \n",
       "1520      Q9Y6U7  RN215_HUMAN  ENSG00000099999     RNF215  ENST00000382363   \n",
       "1521      S4R3P1  HMN13_HUMAN  ENSG00000270394  MTRNR2L13  ENST00000604093   \n",
       "1522      S4R3Y5  HMN11_HUMAN  ENSG00000270188  MTRNR2L11  ENST00000604646   \n",
       "1523      U3KPV4  A3LT2_HUMAN  ENSG00000184389    A3GALT2  ENST00000442999   \n",
       "\n",
       "     transcript_name  length_bp          ensp_id uniprot_isoform  length_aa  \n",
       "0       TRBV24-1-201        381  ENSP00000374920      A0A075B6N3        115  \n",
       "1       TRBV25-1-202        381  ENSP00000374921      A0A075B6N4        114  \n",
       "2          TRAV6-201        404  ENSP00000438290      A0A075B6T7        132  \n",
       "3          TRAV7-201        337  ENSP00000443297      A0A075B6U4        112  \n",
       "4      TRAV36DV7-201        356  ENSP00000450804      A0A075B6V5        113  \n",
       "...              ...        ...              ...             ...        ...  \n",
       "1519      OR51B4-201        933  ENSP00000369573          Q9Y5P0        310  \n",
       "1520      RNF215-203       2011  ENSP00000371800          Q9Y6U7        377  \n",
       "1521   MTRNR2L13-201       1445  ENSP00000474570          S4R3P1         24  \n",
       "1522   MTRNR2L11-201       1552  ENSP00000474861          S4R3Y5         24  \n",
       "1523     A3GALT2-201       1023  ENSP00000475261          U3KPV4        340  \n",
       "\n",
       "[1524 rows x 10 columns]"
      ]
     },
     "execution_count": 12,
     "metadata": {},
     "output_type": "execute_result"
    }
   ],
   "source": [
    "result"
   ]
  },
  {
   "cell_type": "code",
   "execution_count": 14,
   "id": "b38f0a78-9db6-4028-8345-e07ab9b368c3",
   "metadata": {},
   "outputs": [
    {
     "data": {
      "text/plain": [
       "<AxesSubplot:>"
      ]
     },
     "execution_count": 14,
     "metadata": {},
     "output_type": "execute_result"
    },
    {
     "data": {
      "image/png": "[encoded data removed]",
      "text/plain": [
       "<Figure size 648x504 with 1 Axes>"
      ]
     },
     "metadata": {},
     "output_type": "display_data"
    }
   ],
   "source": [
    "import seaborn\n",
    "import matplotlib.pyplot as plt\n",
    "\n",
    "seaborn.set(rc={'figure.figsize': (9,7), \n",
    "                'xtick.labeltop': True,\n",
    "                'xtick.labelbottom': False})\n",
    "\n",
    "seaborn.heatmap(result.isnull(), \n",
    "                yticklabels=False, \n",
    "                cbar=False, \n",
    "                cmap='viridis')\n",
    "#plt.savefig(, dpi=300, bbox_inches='tight')"
   ]
  },
  {
   "cell_type": "code",
   "execution_count": 208,
   "id": "f12d5b5a-9c55-4b34-8288-de43701d1c1a",
   "metadata": {},
   "outputs": [],
   "source": [
    "result.to_excel('missings_to_ensembl_full_110422.xlsx', index=False)"
   ]
  },
  {
   "cell_type": "code",
   "execution_count": 26,
   "id": "93c3e337-5a06-491a-a575-9c5843bc3ad3",
   "metadata": {},
   "outputs": [],
   "source": [
    "unmapped = list(set(ac_list).difference(set(result.entry.unique())))\n",
    "unmapped.sort()\n",
    "\n",
    "with open('missing_ensembl_unmapped.txt', 'w') as f:\n",
    "    for i in unmapped:\n",
    "        f.write(f'{i}\\n')"
   ]
  },
  {
   "cell_type": "code",
   "execution_count": 25,
   "id": "cf0e1b5f-e0a7-4d55-939e-8ca574dfca15",
   "metadata": {},
   "outputs": [
    {
     "data": {
      "text/plain": [
       "231"
      ]
     },
     "execution_count": 25,
     "metadata": {},
     "output_type": "execute_result"
    }
   ],
   "source": [
    "len(unmapped)"
   ]
  },
  {
   "cell_type": "code",
   "execution_count": 245,
   "id": "ab032a05-1b0b-461d-ab93-e8a127149144",
   "metadata": {},
   "outputs": [],
   "source": [
    "hek = pandas.read_csv('hpa_expression_transcript_cellline_100422.tsv', sep='\\t')"
   ]
  },
  {
   "cell_type": "code",
   "execution_count": 248,
   "id": "a7a0731b-7192-4f20-917a-ff6095b6e887",
   "metadata": {},
   "outputs": [],
   "source": [
    "hek['HEK293'] = numpy.mean([hek['TPM.HEK 293.9'].to_numpy(), hek['TPM.HEK 293.10'].to_numpy()], axis=0)"
   ]
  },
  {
   "cell_type": "code",
   "execution_count": 249,
   "id": "38f0d55c-01a9-4788-aff5-2365e86d4e39",
   "metadata": {},
   "outputs": [],
   "source": [
    "hek['HELA'] = numpy.mean([hek['TPM.HeLa.13'].to_numpy(), hek['TPM.HeLa.14'].to_numpy()], axis=0)"
   ]
  },
  {
   "cell_type": "code",
   "execution_count": 250,
   "id": "3f1789bc-6633-4c40-bd9d-7ec0b66b7503",
   "metadata": {},
   "outputs": [],
   "source": [
    "hek['HEPG2'] = numpy.mean([hek['TPM.Hep G2.15'].to_numpy(), hek['TPM.Hep G2.16'].to_numpy()], axis=0)"
   ]
  },
  {
   "cell_type": "code",
   "execution_count": 247,
   "id": "4cfb50c1-2160-4507-82b8-7bd1c9a14c2f",
   "metadata": {},
   "outputs": [],
   "source": [
    "hek['HACAT'] = numpy.mean([hek['TPM.HaCaT.143'].to_numpy(), hek['TPM.HaCaT.144'].to_numpy()], axis=0)"
   ]
  },
  {
   "cell_type": "code",
   "execution_count": null,
   "id": "9dcc7045-5b55-4f1e-8c5c-4d29d934e22a",
   "metadata": {},
   "outputs": [],
   "source": [
    "hek"
   ]
  },
  {
   "cell_type": "code",
   "execution_count": 251,
   "id": "80f9114f-bef1-4479-8db1-c6bd0064249b",
   "metadata": {},
   "outputs": [],
   "source": [
    "hek = hek[['ensgid', 'enstid', 'HACAT', 'HEK293', 'HELA', 'HEPG2']]"
   ]
  },
  {
   "cell_type": "code",
   "execution_count": 268,
   "id": "d9b1c345-105c-4819-aca2-abe8bf326e83",
   "metadata": {},
   "outputs": [],
   "source": [
    "result['hacat_tpm'] = result['enst_id'].map(hek.set_index('enstid')['HACAT'])"
   ]
  },
  {
   "cell_type": "code",
   "execution_count": 269,
   "id": "a0974c9a-14e8-455e-9961-32d4bc16844d",
   "metadata": {},
   "outputs": [],
   "source": [
    "result['hek293_tpm'] = result['enst_id'].map(hek.set_index('enstid')['HEK293'])"
   ]
  },
  {
   "cell_type": "code",
   "execution_count": 270,
   "id": "8f246b84-b69b-44b9-a5dd-61da1b400755",
   "metadata": {},
   "outputs": [],
   "source": [
    "result['hela_tpm'] = result['enst_id'].map(hek.set_index('enstid')['HELA'])"
   ]
  },
  {
   "cell_type": "code",
   "execution_count": 271,
   "id": "36c1bf83-f317-4dc0-86af-30f00a61fe04",
   "metadata": {},
   "outputs": [],
   "source": [
    "result['hepg2_tpm'] = result['enst_id'].map(hek.set_index('enstid')['HEPG2'])"
   ]
  },
  {
   "cell_type": "code",
   "execution_count": 265,
   "id": "df6bd781-660c-4079-855d-b7d1c1178a95",
   "metadata": {},
   "outputs": [],
   "source": [
    "result = result[~(result[['hek293_tpm', 'hela_tpm', 'hepg2_tpm', 'hacat_tpm']]==0).all(axis=1)]"
   ]
  },
  {
   "cell_type": "code",
   "execution_count": 276,
   "id": "d4630a16-92b1-4422-9533-2cf947f53226",
   "metadata": {},
   "outputs": [],
   "source": [
    "result.to_excel('missing_to_ensembl_expression_110422.xlsx', index=False)"
   ]
  },
  {
   "cell_type": "code",
   "execution_count": 272,
   "id": "733d7c77-abc4-46f5-afda-6bb2b29ac8f5",
   "metadata": {},
   "outputs": [
    {
     "data": {
      "text/html": [
       "<div>\n",
       "<style scoped>\n",
       "    .dataframe tbody tr th:only-of-type {\n",
       "        vertical-align: middle;\n",
       "    }\n",
       "\n",
       "    .dataframe tbody tr th {\n",
       "        vertical-align: top;\n",
       "    }\n",
       "\n",
       "    .dataframe thead th {\n",
       "        text-align: right;\n",
       "    }\n",
       "</style>\n",
       "<table border=\"1\" class=\"dataframe\">\n",
       "  <thead>\n",
       "    <tr style=\"text-align: right;\">\n",
       "      <th></th>\n",
       "      <th>entry</th>\n",
       "      <th>entry_name</th>\n",
       "      <th>ensg_id</th>\n",
       "      <th>gene_name</th>\n",
       "      <th>enst_id</th>\n",
       "      <th>transcript_name</th>\n",
       "      <th>length_bp</th>\n",
       "      <th>ensp_id</th>\n",
       "      <th>uniprot_isoform</th>\n",
       "      <th>length_aa</th>\n",
       "      <th>hacat_tpm</th>\n",
       "      <th>hek293_tpm</th>\n",
       "      <th>hela_tpm</th>\n",
       "      <th>hepg2_tpm</th>\n",
       "    </tr>\n",
       "  </thead>\n",
       "  <tbody>\n",
       "  </tbody>\n",
       "</table>\n",
       "</div>"
      ],
      "text/plain": [
       "Empty DataFrame\n",
       "Columns: [entry, entry_name, ensg_id, gene_name, enst_id, transcript_name, length_bp, ensp_id, uniprot_isoform, length_aa, hacat_tpm, hek293_tpm, hela_tpm, hepg2_tpm]\n",
       "Index: []"
      ]
     },
     "execution_count": 272,
     "metadata": {},
     "output_type": "execute_result"
    }
   ],
   "source": [
    "result[result['entry']=='Q5BJE1']"
   ]
  },
  {
   "cell_type": "code",
   "execution_count": 234,
   "id": "249f3ba2-a279-46ee-bb32-5ac9de221e0b",
   "metadata": {},
   "outputs": [],
   "source": [
    "result = result.replace({None: numpy.nan})"
   ]
  },
  {
   "cell_type": "code",
   "execution_count": 237,
   "id": "51eae927-8797-4e10-ad00-48c104b232b9",
   "metadata": {},
   "outputs": [],
   "source": [
    "result = result.dropna()"
   ]
  },
  {
   "cell_type": "code",
   "execution_count": 236,
   "id": "a2f203fd-491b-4bc4-8c6e-e53c36c7b05d",
   "metadata": {},
   "outputs": [
    {
     "data": {
      "text/plain": [
       "<AxesSubplot:>"
      ]
     },
     "execution_count": 236,
     "metadata": {},
     "output_type": "execute_result"
    },
    {
     "data": {
      "image/png": "[encoded data removed]",
      "text/plain": [
       "<Figure size 648x504 with 1 Axes>"
      ]
     },
     "metadata": {},
     "output_type": "display_data"
    }
   ],
   "source": [
    "import seaborn\n",
    "import matplotlib.pyplot as plt\n",
    "\n",
    "seaborn.set(rc={'figure.figsize': (9,7), \n",
    "                'xtick.labeltop': True,\n",
    "                'xtick.labelbottom': False})\n",
    "\n",
    "seaborn.heatmap(result.isnull(), \n",
    "                yticklabels=False, \n",
    "                cbar=False, \n",
    "                cmap='viridis')"
   ]
  },
  {
   "cell_type": "code",
   "execution_count": 238,
   "id": "7bb7425d-213f-4170-83fd-92cdb8338943",
   "metadata": {},
   "outputs": [
    {
     "data": {
      "text/html": [
       "<div>\n",
       "<style scoped>\n",
       "    .dataframe tbody tr th:only-of-type {\n",
       "        vertical-align: middle;\n",
       "    }\n",
       "\n",
       "    .dataframe tbody tr th {\n",
       "        vertical-align: top;\n",
       "    }\n",
       "\n",
       "    .dataframe thead th {\n",
       "        text-align: right;\n",
       "    }\n",
       "</style>\n",
       "<table border=\"1\" class=\"dataframe\">\n",
       "  <thead>\n",
       "    <tr style=\"text-align: right;\">\n",
       "      <th></th>\n",
       "      <th>entry</th>\n",
       "      <th>entry_name</th>\n",
       "      <th>ensg_id</th>\n",
       "      <th>gene_name</th>\n",
       "      <th>enst_id</th>\n",
       "      <th>transcript_name</th>\n",
       "      <th>length_bp</th>\n",
       "      <th>ensp_id</th>\n",
       "      <th>uniprot_isoform</th>\n",
       "      <th>length_aa</th>\n",
       "      <th>hek293_tpm</th>\n",
       "      <th>hela_tpm</th>\n",
       "      <th>hepg2_tpm</th>\n",
       "    </tr>\n",
       "  </thead>\n",
       "  <tbody>\n",
       "    <tr>\n",
       "      <th>6</th>\n",
       "      <td>A0A075B6X5</td>\n",
       "      <td>TVA18_HUMAN</td>\n",
       "      <td>ENSG00000211798</td>\n",
       "      <td>TRAV18</td>\n",
       "      <td>ENST00000390446</td>\n",
       "      <td>TRAV18-201</td>\n",
       "      <td>440</td>\n",
       "      <td>ENSP00000451574</td>\n",
       "      <td>A0A075B6X5</td>\n",
       "      <td>111</td>\n",
       "      <td>0.284602</td>\n",
       "      <td>0.000000</td>\n",
       "      <td>0.000000</td>\n",
       "    </tr>\n",
       "    <tr>\n",
       "      <th>17</th>\n",
       "      <td>A0A087WVF3</td>\n",
       "      <td>TBC3D_HUMAN</td>\n",
       "      <td>ENSG00000274419</td>\n",
       "      <td>TBC1D3D</td>\n",
       "      <td>ENST00000616101</td>\n",
       "      <td>TBC1D3D-201</td>\n",
       "      <td>2116</td>\n",
       "      <td>ENSP00000478426</td>\n",
       "      <td>A0A087WVF3</td>\n",
       "      <td>549</td>\n",
       "      <td>0.000000</td>\n",
       "      <td>5.244715</td>\n",
       "      <td>0.000000</td>\n",
       "    </tr>\n",
       "    <tr>\n",
       "      <th>18</th>\n",
       "      <td>A0A087WXS9</td>\n",
       "      <td>TBC3I_HUMAN</td>\n",
       "      <td>ENSG00000274933</td>\n",
       "      <td>TBC1D3I</td>\n",
       "      <td>ENST00000621034</td>\n",
       "      <td>TBC1D3I-203</td>\n",
       "      <td>1790</td>\n",
       "      <td>ENSP00000481258</td>\n",
       "      <td>A0A087WXS9</td>\n",
       "      <td>549</td>\n",
       "      <td>0.000000</td>\n",
       "      <td>0.054310</td>\n",
       "      <td>0.069786</td>\n",
       "    </tr>\n",
       "    <tr>\n",
       "      <th>19</th>\n",
       "      <td>A0A087WXS9</td>\n",
       "      <td>TBC3I_HUMAN</td>\n",
       "      <td>ENSG00000274933</td>\n",
       "      <td>TBC1D3I</td>\n",
       "      <td>ENST00000619234</td>\n",
       "      <td>TBC1D3I-205</td>\n",
       "      <td>2122</td>\n",
       "      <td>ENSP00000478225</td>\n",
       "      <td>A0A087WXS9</td>\n",
       "      <td>549</td>\n",
       "      <td>0.000000</td>\n",
       "      <td>0.029698</td>\n",
       "      <td>0.000000</td>\n",
       "    </tr>\n",
       "    <tr>\n",
       "      <th>20</th>\n",
       "      <td>A0A087WXS9</td>\n",
       "      <td>TBC3I_HUMAN</td>\n",
       "      <td>ENSG00000274933</td>\n",
       "      <td>TBC1D3I</td>\n",
       "      <td>ENST00000618421</td>\n",
       "      <td>TBC1D3I-207</td>\n",
       "      <td>1790</td>\n",
       "      <td>ENSP00000478802</td>\n",
       "      <td>A0A087WXS9</td>\n",
       "      <td>549</td>\n",
       "      <td>0.000000</td>\n",
       "      <td>0.054310</td>\n",
       "      <td>0.069786</td>\n",
       "    </tr>\n",
       "    <tr>\n",
       "      <th>...</th>\n",
       "      <td>...</td>\n",
       "      <td>...</td>\n",
       "      <td>...</td>\n",
       "      <td>...</td>\n",
       "      <td>...</td>\n",
       "      <td>...</td>\n",
       "      <td>...</td>\n",
       "      <td>...</td>\n",
       "      <td>...</td>\n",
       "      <td>...</td>\n",
       "      <td>...</td>\n",
       "      <td>...</td>\n",
       "      <td>...</td>\n",
       "    </tr>\n",
       "    <tr>\n",
       "      <th>399</th>\n",
       "      <td>Q9Y5P0</td>\n",
       "      <td>O51B4_HUMAN</td>\n",
       "      <td>ENSG00000183251</td>\n",
       "      <td>OR51B4</td>\n",
       "      <td>ENST00000380224</td>\n",
       "      <td>OR51B4-201</td>\n",
       "      <td>933</td>\n",
       "      <td>ENSP00000369573</td>\n",
       "      <td>Q9Y5P0</td>\n",
       "      <td>310</td>\n",
       "      <td>0.000000</td>\n",
       "      <td>0.070392</td>\n",
       "      <td>0.401195</td>\n",
       "    </tr>\n",
       "    <tr>\n",
       "      <th>400</th>\n",
       "      <td>Q9Y6U7</td>\n",
       "      <td>RN215_HUMAN</td>\n",
       "      <td>ENSG00000099999</td>\n",
       "      <td>RNF215</td>\n",
       "      <td>ENST00000382363</td>\n",
       "      <td>RNF215-203</td>\n",
       "      <td>2011</td>\n",
       "      <td>ENSP00000371800</td>\n",
       "      <td>Q9Y6U7</td>\n",
       "      <td>377</td>\n",
       "      <td>4.730035</td>\n",
       "      <td>2.556010</td>\n",
       "      <td>1.700035</td>\n",
       "    </tr>\n",
       "    <tr>\n",
       "      <th>401</th>\n",
       "      <td>S4R3P1</td>\n",
       "      <td>HMN13_HUMAN</td>\n",
       "      <td>ENSG00000270394</td>\n",
       "      <td>MTRNR2L13</td>\n",
       "      <td>ENST00000604093</td>\n",
       "      <td>MTRNR2L13-201</td>\n",
       "      <td>1445</td>\n",
       "      <td>ENSP00000474570</td>\n",
       "      <td>S4R3P1</td>\n",
       "      <td>24</td>\n",
       "      <td>0.096318</td>\n",
       "      <td>2.257853</td>\n",
       "      <td>1.248775</td>\n",
       "    </tr>\n",
       "    <tr>\n",
       "      <th>402</th>\n",
       "      <td>S4R3Y5</td>\n",
       "      <td>HMN11_HUMAN</td>\n",
       "      <td>ENSG00000270188</td>\n",
       "      <td>MTRNR2L11</td>\n",
       "      <td>ENST00000604646</td>\n",
       "      <td>MTRNR2L11-201</td>\n",
       "      <td>1552</td>\n",
       "      <td>ENSP00000474861</td>\n",
       "      <td>S4R3Y5</td>\n",
       "      <td>24</td>\n",
       "      <td>36.966950</td>\n",
       "      <td>156.884600</td>\n",
       "      <td>102.816000</td>\n",
       "    </tr>\n",
       "    <tr>\n",
       "      <th>403</th>\n",
       "      <td>U3KPV4</td>\n",
       "      <td>A3LT2_HUMAN</td>\n",
       "      <td>ENSG00000184389</td>\n",
       "      <td>A3GALT2</td>\n",
       "      <td>ENST00000442999</td>\n",
       "      <td>A3GALT2-201</td>\n",
       "      <td>1023</td>\n",
       "      <td>ENSP00000475261</td>\n",
       "      <td>U3KPV4</td>\n",
       "      <td>340</td>\n",
       "      <td>0.080023</td>\n",
       "      <td>0.964249</td>\n",
       "      <td>0.000000</td>\n",
       "    </tr>\n",
       "  </tbody>\n",
       "</table>\n",
       "<p>625 rows × 13 columns</p>\n",
       "</div>"
      ],
      "text/plain": [
       "          entry   entry_name          ensg_id  gene_name          enst_id  \\\n",
       "6    A0A075B6X5  TVA18_HUMAN  ENSG00000211798     TRAV18  ENST00000390446   \n",
       "17   A0A087WVF3  TBC3D_HUMAN  ENSG00000274419    TBC1D3D  ENST00000616101   \n",
       "18   A0A087WXS9  TBC3I_HUMAN  ENSG00000274933    TBC1D3I  ENST00000621034   \n",
       "19   A0A087WXS9  TBC3I_HUMAN  ENSG00000274933    TBC1D3I  ENST00000619234   \n",
       "20   A0A087WXS9  TBC3I_HUMAN  ENSG00000274933    TBC1D3I  ENST00000618421   \n",
       "..          ...          ...              ...        ...              ...   \n",
       "399      Q9Y5P0  O51B4_HUMAN  ENSG00000183251     OR51B4  ENST00000380224   \n",
       "400      Q9Y6U7  RN215_HUMAN  ENSG00000099999     RNF215  ENST00000382363   \n",
       "401      S4R3P1  HMN13_HUMAN  ENSG00000270394  MTRNR2L13  ENST00000604093   \n",
       "402      S4R3Y5  HMN11_HUMAN  ENSG00000270188  MTRNR2L11  ENST00000604646   \n",
       "403      U3KPV4  A3LT2_HUMAN  ENSG00000184389    A3GALT2  ENST00000442999   \n",
       "\n",
       "    transcript_name  length_bp          ensp_id uniprot_isoform  length_aa  \\\n",
       "6        TRAV18-201        440  ENSP00000451574      A0A075B6X5        111   \n",
       "17      TBC1D3D-201       2116  ENSP00000478426      A0A087WVF3        549   \n",
       "18      TBC1D3I-203       1790  ENSP00000481258      A0A087WXS9        549   \n",
       "19      TBC1D3I-205       2122  ENSP00000478225      A0A087WXS9        549   \n",
       "20      TBC1D3I-207       1790  ENSP00000478802      A0A087WXS9        549   \n",
       "..              ...        ...              ...             ...        ...   \n",
       "399      OR51B4-201        933  ENSP00000369573          Q9Y5P0        310   \n",
       "400      RNF215-203       2011  ENSP00000371800          Q9Y6U7        377   \n",
       "401   MTRNR2L13-201       1445  ENSP00000474570          S4R3P1         24   \n",
       "402   MTRNR2L11-201       1552  ENSP00000474861          S4R3Y5         24   \n",
       "403     A3GALT2-201       1023  ENSP00000475261          U3KPV4        340   \n",
       "\n",
       "     hek293_tpm    hela_tpm   hepg2_tpm  \n",
       "6      0.284602    0.000000    0.000000  \n",
       "17     0.000000    5.244715    0.000000  \n",
       "18     0.000000    0.054310    0.069786  \n",
       "19     0.000000    0.029698    0.000000  \n",
       "20     0.000000    0.054310    0.069786  \n",
       "..          ...         ...         ...  \n",
       "399    0.000000    0.070392    0.401195  \n",
       "400    4.730035    2.556010    1.700035  \n",
       "401    0.096318    2.257853    1.248775  \n",
       "402   36.966950  156.884600  102.816000  \n",
       "403    0.080023    0.964249    0.000000  \n",
       "\n",
       "[625 rows x 13 columns]"
      ]
     },
     "execution_count": 238,
     "metadata": {},
     "output_type": "execute_result"
    }
   ],
   "source": [
    "result"
   ]
  },
  {
   "cell_type": "code",
   "execution_count": 243,
   "id": "1cc9f3f3-fce9-4a39-b98e-bffc3b66c9f5",
   "metadata": {},
   "outputs": [
    {
     "data": {
      "text/plain": [
       "count    196722.000000\n",
       "mean          5.083316\n",
       "std          85.759005\n",
       "min           0.000000\n",
       "25%           0.000000\n",
       "50%           0.030854\n",
       "75%           0.918383\n",
       "max        9937.880000\n",
       "Name: HEK293, dtype: float64"
      ]
     },
     "execution_count": 243,
     "metadata": {},
     "output_type": "execute_result"
    }
   ],
   "source": [
    "hek['HEK293'].describe()"
   ]
  },
  {
   "cell_type": "code",
   "execution_count": 275,
   "id": "c4b8ecc7-414d-400c-a00b-b80e6d991201",
   "metadata": {},
   "outputs": [
    {
     "data": {
      "text/plain": [
       "False"
      ]
     },
     "execution_count": 275,
     "metadata": {},
     "output_type": "execute_result"
    }
   ],
   "source": [
    "'Q0P6D2' in ac_list"
   ]
  },
  {
   "cell_type": "code",
   "execution_count": 21,
   "id": "854ca945-7421-4771-8368-9a6d4e535885",
   "metadata": {},
   "outputs": [],
   "source": [
    "missing = pandas.read_excel('missing_to_ensembl_expression_110422.xlsx')"
   ]
  },
  {
   "cell_type": "code",
   "execution_count": 22,
   "id": "3924addb-deb7-44b6-ad2b-3910ea8f55d2",
   "metadata": {},
   "outputs": [],
   "source": [
    "entries = missing[(missing['length_aa'] >= 200.0) & (missing['hek293_tpm'] >= 4.0)]['entry']"
   ]
  },
  {
   "cell_type": "code",
   "execution_count": 23,
   "id": "1731b5ae-553c-4a47-b04a-7e84787a8354",
   "metadata": {},
   "outputs": [],
   "source": [
    "missing = missing[missing['entry'].isin(entries)]"
   ]
  },
  {
   "cell_type": "code",
   "execution_count": 24,
   "id": "68c4d080-81df-47ef-b340-6a87236b3002",
   "metadata": {},
   "outputs": [],
   "source": [
    "missing = missing[missing.columns[:-4].to_list()+['hek293_tpm']]"
   ]
  },
  {
   "cell_type": "code",
   "execution_count": 26,
   "id": "b48799dd-f149-4b36-8aec-5bb9282786ef",
   "metadata": {},
   "outputs": [],
   "source": [
    "missing.to_excel('missing_ensembl_hek_select.xlsx', index=False)"
   ]
  },
  {
   "cell_type": "code",
   "execution_count": 1,
   "id": "4cfd3986-5490-4888-8726-9d19397a73fe",
   "metadata": {},
   "outputs": [
    {
     "data": {
      "text/plain": [
       "{1, 2, 3}"
      ]
     },
     "execution_count": 1,
     "metadata": {},
     "output_type": "execute_result"
    }
   ],
   "source": [
    "set().union([1,2,3])"
   ]
  },
  {
   "cell_type": "code",
   "execution_count": null,
   "id": "d2453dc2-87c7-4ce8-aaea-5d432926901e",
   "metadata": {},
   "outputs": [],
   "source": []
  }
 ],
 "metadata": {
  "kernelspec": {
   "display_name": "Python 3 (ipykernel)",
   "language": "python",
   "name": "python3"
  },
  "language_info": {
   "codemirror_mode": {
    "name": "ipython",
    "version": 3
   },
   "file_extension": ".py",
   "mimetype": "text/x-python",
   "name": "python",
   "nbconvert_exporter": "python",
   "pygments_lexer": "ipython3",
   "version": "3.10.4"
  }
 },
 "nbformat": 4,
 "nbformat_minor": 5
}
